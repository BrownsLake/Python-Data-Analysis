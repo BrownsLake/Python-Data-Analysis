{
 "cells": [
  {
   "cell_type": "markdown",
   "metadata": {
    "deletable": true,
    "editable": true
   },
   "source": [
    "# Chapter 3 : pandas"
   ]
  },
  {
   "cell_type": "markdown",
   "metadata": {
    "collapsed": true,
    "deletable": true,
    "editable": true
   },
   "source": [
    "# pandas DataFrames"
   ]
  },
  {
   "cell_type": "code",
   "execution_count": 1,
   "metadata": {
    "collapsed": false,
    "deletable": true,
    "editable": true
   },
   "outputs": [],
   "source": [
    "import numpy as np\n",
    "import scipy as sp\n",
    "import pandas as pd"
   ]
  },
  {
   "cell_type": "markdown",
   "metadata": {
    "deletable": true,
    "editable": true
   },
   "source": [
    "## Load the data file into data frame"
   ]
  },
  {
   "cell_type": "code",
   "execution_count": 2,
   "metadata": {
    "collapsed": false,
    "deletable": true,
    "editable": true,
    "scrolled": true
   },
   "outputs": [
    {
     "name": "stdout",
     "output_type": "stream",
     "text": [
      "Dataframe Top 5 rows:\n",
      "        Country  CountryID  Continent  Adolescent fertility rate (%)  \\\n",
      "0  Afghanistan          1          1                          151.0   \n",
      "1      Albania          2          2                           27.0   \n",
      "2      Algeria          3          3                            6.0   \n",
      "3      Andorra          4          2                            NaN   \n",
      "4       Angola          5          3                          146.0   \n",
      "\n",
      "   Adult literacy rate (%)  \\\n",
      "0                     28.0   \n",
      "1                     98.7   \n",
      "2                     69.9   \n",
      "3                      NaN   \n",
      "4                     67.4   \n",
      "\n",
      "   Gross national income per capita (PPP international $)  \\\n",
      "0                                                NaN        \n",
      "1                                             6000.0        \n",
      "2                                             5940.0        \n",
      "3                                                NaN        \n",
      "4                                             3890.0        \n",
      "\n",
      "   Net primary school enrolment ratio female (%)  \\\n",
      "0                                            NaN   \n",
      "1                                           93.0   \n",
      "2                                           94.0   \n",
      "3                                           83.0   \n",
      "4                                           49.0   \n",
      "\n",
      "   Net primary school enrolment ratio male (%)  \\\n",
      "0                                          NaN   \n",
      "1                                         94.0   \n",
      "2                                         96.0   \n",
      "3                                         83.0   \n",
      "4                                         51.0   \n",
      "\n",
      "   Population (in thousands) total  \n",
      "0                          26088.0  \n",
      "1                           3172.0  \n",
      "2                          33351.0  \n",
      "3                             74.0  \n",
      "4                          16557.0  \n"
     ]
    }
   ],
   "source": [
    "from pandas.io.parsers import read_csv\n",
    "\n",
    "df = read_csv(\"WHO_first9cols.csv\")\n",
    "print(\"Dataframe Top 5 rows:\\n\", df.head())"
   ]
  },
  {
   "cell_type": "code",
   "execution_count": 3,
   "metadata": {
    "collapsed": false,
    "deletable": true,
    "editable": true
   },
   "outputs": [
    {
     "name": "stdout",
     "output_type": "stream",
     "text": [
      "Shape:\n",
      " (202, 9)\n",
      "\n",
      "\n",
      "Length:\n",
      " 202\n",
      "\n",
      "\n",
      "Column Headers:\n",
      " Index(['Country', 'CountryID', 'Continent', 'Adolescent fertility rate (%)',\n",
      "       'Adult literacy rate (%)',\n",
      "       'Gross national income per capita (PPP international $)',\n",
      "       'Net primary school enrolment ratio female (%)',\n",
      "       'Net primary school enrolment ratio male (%)',\n",
      "       'Population (in thousands) total'],\n",
      "      dtype='object')\n",
      "\n",
      "\n",
      "Data types:\n",
      " Country                                                    object\n",
      "CountryID                                                   int64\n",
      "Continent                                                   int64\n",
      "Adolescent fertility rate (%)                             float64\n",
      "Adult literacy rate (%)                                   float64\n",
      "Gross national income per capita (PPP international $)    float64\n",
      "Net primary school enrolment ratio female (%)             float64\n",
      "Net primary school enrolment ratio male (%)               float64\n",
      "Population (in thousands) total                           float64\n",
      "dtype: object\n",
      "\n",
      "\n",
      "Index:\n",
      " RangeIndex(start=0, stop=202, step=1)\n",
      "\n",
      "\n",
      "Values:\n",
      " [['Afghanistan' 1 1 ..., nan nan 26088.0]\n",
      " ['Albania' 2 2 ..., 93.0 94.0 3172.0]\n",
      " ['Algeria' 3 3 ..., 94.0 96.0 33351.0]\n",
      " ..., \n",
      " ['Yemen' 200 1 ..., 65.0 85.0 21732.0]\n",
      " ['Zambia' 201 3 ..., 94.0 90.0 11696.0]\n",
      " ['Zimbabwe' 202 3 ..., 88.0 87.0 13228.0]]\n"
     ]
    }
   ],
   "source": [
    "print(\"Shape:\\n\", df.shape)\n",
    "print(\"\\n\")\n",
    "print(\"Length:\\n\", len(df))\n",
    "print(\"\\n\")\n",
    "print(\"Column Headers:\\n\", df.columns)\n",
    "print(\"\\n\")\n",
    "print(\"Data types:\\n\", df.dtypes)\n",
    "print(\"\\n\")\n",
    "print(\"Index:\\n\", df.index)\n",
    "print(\"\\n\")\n",
    "print(\"Values:\\n\", df.values)"
   ]
  },
  {
   "cell_type": "markdown",
   "metadata": {
    "deletable": true,
    "editable": true
   },
   "source": [
    "# pandas Series"
   ]
  },
  {
   "cell_type": "code",
   "execution_count": 4,
   "metadata": {
    "collapsed": false,
    "deletable": true,
    "editable": true
   },
   "outputs": [
    {
     "name": "stdout",
     "output_type": "stream",
     "text": [
      "Type df:\n",
      " <class 'pandas.core.frame.DataFrame'> \n",
      "\n",
      "Type country col:\n",
      " <class 'pandas.core.series.Series'> \n",
      "\n"
     ]
    }
   ],
   "source": [
    "country_col = df[\"Country\"]\n",
    "print(\"Type df:\\n\", type(df), \"\\n\")\n",
    "print(\"Type country col:\\n\", type(country_col), \"\\n\")"
   ]
  },
  {
   "cell_type": "code",
   "execution_count": 5,
   "metadata": {
    "collapsed": false,
    "deletable": true,
    "editable": true,
    "scrolled": true
   },
   "outputs": [
    {
     "name": "stdout",
     "output_type": "stream",
     "text": [
      "Series shape:\n",
      " (202,) \n",
      "\n",
      "Series index:\n",
      " RangeIndex(start=0, stop=202, step=1) \n",
      "\n",
      "Series values:\n",
      " ['Afghanistan' 'Albania' 'Algeria' 'Andorra' 'Angola' 'Antigua and Barbuda'\n",
      " 'Argentina' 'Armenia' 'Australia' 'Austria' 'Azerbaijan' 'Bahamas'\n",
      " 'Bahrain' 'Bangladesh' 'Barbados' 'Belarus' 'Belgium' 'Belize' 'Benin'\n",
      " 'Bermuda' 'Bhutan' 'Bolivia' 'Bosnia and Herzegovina' 'Botswana' 'Brazil'\n",
      " 'Brunei Darussalam' 'Bulgaria' 'Burkina Faso' 'Burundi' 'Cambodia'\n",
      " 'Cameroon' 'Canada' 'Cape Verde' 'Central African Republic' 'Chad' 'Chile'\n",
      " 'China' 'Colombia' 'Comoros' 'Congo, Dem. Rep.' 'Congo, Rep.'\n",
      " 'Cook Islands' 'Costa Rica' \"Cote d'Ivoire\" 'Croatia' 'Cuba' 'Cyprus'\n",
      " 'Czech Republic' 'Denmark' 'Djibouti' 'Dominica' 'Dominican Republic'\n",
      " 'Ecuador' 'Egypt' 'El Salvador' 'Equatorial Guinea' 'Eritrea' 'Estonia'\n",
      " 'Ethiopia' 'Fiji' 'Finland' 'France' 'French Polynesia' 'Gabon' 'Gambia'\n",
      " 'Georgia' 'Germany' 'Ghana' 'Greece' 'Grenada' 'Guatemala' 'Guinea'\n",
      " 'Guinea-Bissau' 'Guyana' 'Haiti' 'Honduras' 'Hong Kong, China' 'Hungary'\n",
      " 'Iceland' 'India' 'Indonesia' 'Iran (Islamic Republic of)' 'Iraq'\n",
      " 'Ireland' 'Israel' 'Italy' 'Jamaica' 'Japan' 'Jordan' 'Kazakhstan' 'Kenya'\n",
      " 'Kiribati' 'Korea, Dem. Rep.' 'Korea, Rep.' 'Kuwait' 'Kyrgyzstan'\n",
      " \"Lao People's Democratic Republic\" 'Latvia' 'Lebanon' 'Lesotho' 'Liberia'\n",
      " 'Libyan Arab Jamahiriya' 'Lithuania' 'Luxembourg' 'Macao, China'\n",
      " 'Macedonia' 'Madagascar' 'Malawi' 'Malaysia' 'Maldives' 'Mali' 'Malta'\n",
      " 'Marshall Islands' 'Mauritania' 'Mauritius' 'Mexico'\n",
      " 'Micronesia (Federated States of)' 'Moldova' 'Monaco' 'Mongolia'\n",
      " 'Montenegro' 'Morocco' 'Mozambique' 'Myanmar' 'Namibia' 'Nauru' 'Nepal'\n",
      " 'Netherlands' 'Netherlands Antilles' 'New Caledonia' 'New Zealand'\n",
      " 'Nicaragua' 'Niger' 'Nigeria' 'Niue' 'Norway' 'Oman' 'Pakistan' 'Palau'\n",
      " 'Panama' 'Papua New Guinea' 'Paraguay' 'Peru' 'Philippines' 'Poland'\n",
      " 'Portugal' 'Puerto Rico' 'Qatar' 'Romania' 'Russia' 'Rwanda'\n",
      " 'Saint Kitts and Nevis' 'Saint Lucia' 'Saint Vincent and the Grenadines'\n",
      " 'Samoa' 'San Marino' 'Sao Tome and Principe' 'Saudi Arabia' 'Senegal'\n",
      " 'Serbia' 'Seychelles' 'Sierra Leone' 'Singapore' 'Slovakia' 'Slovenia'\n",
      " 'Solomon Islands' 'Somalia' 'South Africa' 'Spain' 'Sri Lanka' 'Sudan'\n",
      " 'Suriname' 'Swaziland' 'Sweden' 'Switzerland' 'Syria' 'Taiwan'\n",
      " 'Tajikistan' 'Tanzania' 'Thailand' 'Timor-Leste' 'Togo' 'Tonga'\n",
      " 'Trinidad and Tobago' 'Tunisia' 'Turkey' 'Turkmenistan' 'Tuvalu' 'Uganda'\n",
      " 'Ukraine' 'United Arab Emirates' 'United Kingdom'\n",
      " 'United States of America' 'Uruguay' 'Uzbekistan' 'Vanuatu' 'Venezuela'\n",
      " 'Vietnam' 'West Bank and Gaza' 'Yemen' 'Zambia' 'Zimbabwe'] \n",
      "\n",
      "Series name:\n",
      " Country \n",
      "\n"
     ]
    }
   ],
   "source": [
    "print(\"Series shape:\\n\", country_col.shape, \"\\n\")\n",
    "print(\"Series index:\\n\", country_col.index, \"\\n\")\n",
    "print(\"Series values:\\n\", country_col.values, \"\\n\")\n",
    "print(\"Series name:\\n\", country_col.name, \"\\n\")"
   ]
  },
  {
   "cell_type": "code",
   "execution_count": 6,
   "metadata": {
    "collapsed": false,
    "deletable": true,
    "editable": true
   },
   "outputs": [
    {
     "name": "stdout",
     "output_type": "stream",
     "text": [
      "Last 2 countries:\n",
      " 200      Zambia\n",
      "201    Zimbabwe\n",
      "Name: Country, dtype: object \n",
      "\n",
      "Last 2 countries type:\n",
      " <class 'pandas.core.series.Series'> \n",
      "\n"
     ]
    }
   ],
   "source": [
    "print(\"Last 2 countries:\\n\", country_col[-2:], \"\\n\")\n",
    "print(\"Last 2 countries type:\\n\", type(country_col[-2:]), \"\\n\")"
   ]
  },
  {
   "cell_type": "code",
   "execution_count": 7,
   "metadata": {
    "collapsed": false,
    "deletable": true,
    "editable": true,
    "scrolled": true
   },
   "outputs": [
    {
     "name": "stdout",
     "output_type": "stream",
     "text": [
      "Last df column signs:\n",
      " Population (in thousands) total 0      1.0\n",
      "1      1.0\n",
      "2      1.0\n",
      "3      1.0\n",
      "4      1.0\n",
      "5      1.0\n",
      "6      1.0\n",
      "7      1.0\n",
      "8      1.0\n",
      "9      1.0\n",
      "10     1.0\n",
      "11     1.0\n",
      "12     1.0\n",
      "13     1.0\n",
      "14     1.0\n",
      "15     1.0\n",
      "16     1.0\n",
      "17     1.0\n",
      "18     1.0\n",
      "19     NaN\n",
      "20     1.0\n",
      "21     1.0\n",
      "22     1.0\n",
      "23     1.0\n",
      "24     1.0\n",
      "25     1.0\n",
      "26     1.0\n",
      "27     1.0\n",
      "28     1.0\n",
      "29     1.0\n",
      "      ... \n",
      "172    1.0\n",
      "173    1.0\n",
      "174    1.0\n",
      "175    1.0\n",
      "176    NaN\n",
      "177    1.0\n",
      "178    1.0\n",
      "179    1.0\n",
      "180    1.0\n",
      "181    1.0\n",
      "182    1.0\n",
      "183    1.0\n",
      "184    1.0\n",
      "185    1.0\n",
      "186    1.0\n",
      "187    1.0\n",
      "188    1.0\n",
      "189    1.0\n",
      "190    1.0\n",
      "191    1.0\n",
      "192    1.0\n",
      "193    1.0\n",
      "194    1.0\n",
      "195    1.0\n",
      "196    1.0\n",
      "197    1.0\n",
      "198    NaN\n",
      "199    1.0\n",
      "200    1.0\n",
      "201    1.0\n",
      "Name: Population (in thousands) total, dtype: float64 \n",
      "\n"
     ]
    }
   ],
   "source": [
    "last_col = df.columns[-1]\n",
    "print(\"Last df column signs:\\n\", last_col, np.sign(df[last_col]), \"\\n\")"
   ]
  },
  {
   "cell_type": "code",
   "execution_count": 8,
   "metadata": {
    "collapsed": false,
    "deletable": true,
    "editable": true
   },
   "outputs": [
    {
     "data": {
      "text/plain": [
       "nan"
      ]
     },
     "execution_count": 8,
     "metadata": {},
     "output_type": "execute_result"
    }
   ],
   "source": [
    "np.sum([0, np.nan])"
   ]
  },
  {
   "cell_type": "code",
   "execution_count": 9,
   "metadata": {
    "collapsed": false,
    "deletable": true,
    "editable": true
   },
   "outputs": [
    {
     "data": {
      "text/plain": [
       "Country                                                    object\n",
       "CountryID                                                   int64\n",
       "Continent                                                   int64\n",
       "Adolescent fertility rate (%)                             float64\n",
       "Adult literacy rate (%)                                   float64\n",
       "Gross national income per capita (PPP international $)    float64\n",
       "Net primary school enrolment ratio female (%)             float64\n",
       "Net primary school enrolment ratio male (%)               float64\n",
       "Population (in thousands) total                           float64\n",
       "dtype: object"
      ]
     },
     "execution_count": 9,
     "metadata": {},
     "output_type": "execute_result"
    }
   ],
   "source": [
    "df.dtypes"
   ]
  },
  {
   "cell_type": "code",
   "execution_count": 10,
   "metadata": {
    "collapsed": false,
    "deletable": true,
    "editable": true
   },
   "outputs": [
    {
     "name": "stdout",
     "output_type": "stream",
     "text": [
      "0.0\n"
     ]
    }
   ],
   "source": [
    "print(np.sum(df[last_col] - df[last_col].values))"
   ]
  },
  {
   "cell_type": "markdown",
   "metadata": {
    "deletable": true,
    "editable": true
   },
   "source": [
    "# Querying Data in pandas"
   ]
  },
  {
   "cell_type": "code",
   "execution_count": 11,
   "metadata": {
    "collapsed": false,
    "deletable": true,
    "editable": true
   },
   "outputs": [],
   "source": [
    "import quandl"
   ]
  },
  {
   "cell_type": "code",
   "execution_count": 12,
   "metadata": {
    "collapsed": false,
    "deletable": true,
    "editable": true
   },
   "outputs": [],
   "source": [
    "sunspots = quandl.get(\"SIDC/SUNSPOTS_A\")"
   ]
  },
  {
   "cell_type": "code",
   "execution_count": 13,
   "metadata": {
    "collapsed": false,
    "deletable": true,
    "editable": true
   },
   "outputs": [
    {
     "name": "stdout",
     "output_type": "stream",
     "text": [
      "Head 2:\n",
      "             Yearly Mean Total Sunspot Number  Yearly Mean Standard Deviation  \\\n",
      "Date                                                                           \n",
      "1700-12-31                               8.3                             NaN   \n",
      "1701-12-31                              18.3                             NaN   \n",
      "\n",
      "            Number of Observations  Definitive/Provisional Indicator  \n",
      "Date                                                                  \n",
      "1700-12-31                     NaN                               1.0  \n",
      "1701-12-31                     NaN                               1.0  \n"
     ]
    }
   ],
   "source": [
    "print(\"Head 2:\\n\", sunspots.head(2) )"
   ]
  },
  {
   "cell_type": "code",
   "execution_count": 14,
   "metadata": {
    "collapsed": false,
    "deletable": true,
    "editable": true
   },
   "outputs": [
    {
     "name": "stdout",
     "output_type": "stream",
     "text": [
      "Tail 2:\n",
      "             Yearly Mean Total Sunspot Number  Yearly Mean Standard Deviation  \\\n",
      "Date                                                                           \n",
      "2014-12-31                             113.3                             8.0   \n",
      "2015-12-31                              69.8                             6.4   \n",
      "\n",
      "            Number of Observations  Definitive/Provisional Indicator  \n",
      "Date                                                                  \n",
      "2014-12-31                  5273.0                               1.0  \n",
      "2015-12-31                  8903.0                               1.0  \n"
     ]
    }
   ],
   "source": [
    "print(\"Tail 2:\\n\", sunspots.tail(2))"
   ]
  },
  {
   "cell_type": "code",
   "execution_count": 15,
   "metadata": {
    "collapsed": false,
    "deletable": true,
    "editable": true
   },
   "outputs": [
    {
     "name": "stdout",
     "output_type": "stream",
     "text": [
      "Last value:\n",
      " Yearly Mean Total Sunspot Number      69.8\n",
      "Yearly Mean Standard Deviation         6.4\n",
      "Number of Observations              8903.0\n",
      "Definitive/Provisional Indicator       1.0\n",
      "Name: 2015-12-31 00:00:00, dtype: float64\n"
     ]
    }
   ],
   "source": [
    "last_date = sunspots.index[-1]\n",
    "print(\"Last value:\\n\",sunspots.loc[last_date])"
   ]
  },
  {
   "cell_type": "code",
   "execution_count": 16,
   "metadata": {
    "collapsed": false,
    "deletable": true,
    "editable": true
   },
   "outputs": [
    {
     "name": "stdout",
     "output_type": "stream",
     "text": [
      "Values slice by date:\n",
      "             Yearly Mean Total Sunspot Number  Yearly Mean Standard Deviation  \\\n",
      "Date                                                                           \n",
      "2002-12-31                             163.6                             9.8   \n",
      "2003-12-31                              99.3                             7.1   \n",
      "2004-12-31                              65.3                             5.9   \n",
      "2005-12-31                              45.8                             4.7   \n",
      "2006-12-31                              24.7                             3.5   \n",
      "2007-12-31                              12.6                             2.7   \n",
      "2008-12-31                               4.2                             2.5   \n",
      "2009-12-31                               4.8                             2.5   \n",
      "2010-12-31                              24.9                             3.4   \n",
      "2011-12-31                              80.8                             6.7   \n",
      "2012-12-31                              84.5                             6.7   \n",
      "2013-12-31                              94.0                             6.9   \n",
      "\n",
      "            Number of Observations  Definitive/Provisional Indicator  \n",
      "Date                                                                  \n",
      "2002-12-31                  6588.0                               1.0  \n",
      "2003-12-31                  7087.0                               1.0  \n",
      "2004-12-31                  6882.0                               1.0  \n",
      "2005-12-31                  7084.0                               1.0  \n",
      "2006-12-31                  6370.0                               1.0  \n",
      "2007-12-31                  6841.0                               1.0  \n",
      "2008-12-31                  6644.0                               1.0  \n",
      "2009-12-31                  6465.0                               1.0  \n",
      "2010-12-31                  6328.0                               1.0  \n",
      "2011-12-31                  6077.0                               1.0  \n",
      "2012-12-31                  5753.0                               1.0  \n",
      "2013-12-31                  5347.0                               1.0  \n"
     ]
    }
   ],
   "source": [
    "print(\"Values slice by date:\\n\", sunspots[\"20020101\": \"20131231\"])"
   ]
  },
  {
   "cell_type": "code",
   "execution_count": 17,
   "metadata": {
    "collapsed": false,
    "deletable": true,
    "editable": true
   },
   "outputs": [
    {
     "name": "stdout",
     "output_type": "stream",
     "text": [
      "Slice from a list of indices:\n",
      "             Yearly Mean Total Sunspot Number  Yearly Mean Standard Deviation  \\\n",
      "Date                                                                           \n",
      "1702-12-31                              26.7                             NaN   \n",
      "1704-12-31                              60.0                             NaN   \n",
      "2012-12-31                              84.5                             6.7   \n",
      "2014-12-31                             113.3                             8.0   \n",
      "\n",
      "            Number of Observations  Definitive/Provisional Indicator  \n",
      "Date                                                                  \n",
      "1702-12-31                     NaN                               1.0  \n",
      "1704-12-31                     NaN                               1.0  \n",
      "2012-12-31                  5753.0                               1.0  \n",
      "2014-12-31                  5273.0                               1.0  \n"
     ]
    }
   ],
   "source": [
    "print(\"Slice from a list of indices:\\n\", sunspots.iloc[[2, 4, -4, -2]])"
   ]
  },
  {
   "cell_type": "code",
   "execution_count": 18,
   "metadata": {
    "collapsed": false,
    "deletable": true,
    "editable": true
   },
   "outputs": [
    {
     "name": "stdout",
     "output_type": "stream",
     "text": [
      "Scalar with Iloc: 8.3\n",
      "Scalar with iat 18.3\n"
     ]
    }
   ],
   "source": [
    "print(\"Scalar with Iloc:\", sunspots.iloc[0, 0])\n",
    "print(\"Scalar with iat\", sunspots.iat[1, 0])"
   ]
  },
  {
   "cell_type": "code",
   "execution_count": 19,
   "metadata": {
    "collapsed": false,
    "deletable": true,
    "editable": true,
    "scrolled": false
   },
   "outputs": [
    {
     "name": "stdout",
     "output_type": "stream",
     "text": [
      "Boolean selection:\n",
      "             Yearly Mean Total Sunspot Number  Yearly Mean Standard Deviation  \\\n",
      "Date                                                                           \n",
      "1700-12-31                               NaN                             NaN   \n",
      "1701-12-31                               NaN                             NaN   \n",
      "1702-12-31                               NaN                             NaN   \n",
      "1703-12-31                               NaN                             NaN   \n",
      "1704-12-31                               NaN                             NaN   \n",
      "1705-12-31                              96.7                             NaN   \n",
      "1706-12-31                               NaN                             NaN   \n",
      "1707-12-31                               NaN                             NaN   \n",
      "1708-12-31                               NaN                             NaN   \n",
      "1709-12-31                               NaN                             NaN   \n",
      "1710-12-31                               NaN                             NaN   \n",
      "1711-12-31                               NaN                             NaN   \n",
      "1712-12-31                               NaN                             NaN   \n",
      "1713-12-31                               NaN                             NaN   \n",
      "1714-12-31                               NaN                             NaN   \n",
      "1715-12-31                               NaN                             NaN   \n",
      "1716-12-31                               NaN                             NaN   \n",
      "1717-12-31                             105.0                             NaN   \n",
      "1718-12-31                             100.0                             NaN   \n",
      "1719-12-31                               NaN                             NaN   \n",
      "1720-12-31                               NaN                             NaN   \n",
      "1721-12-31                               NaN                             NaN   \n",
      "1722-12-31                               NaN                             NaN   \n",
      "1723-12-31                               NaN                             NaN   \n",
      "1724-12-31                               NaN                             NaN   \n",
      "1725-12-31                               NaN                             NaN   \n",
      "1726-12-31                             130.0                             NaN   \n",
      "1727-12-31                             203.3                             NaN   \n",
      "1728-12-31                             171.7                             NaN   \n",
      "1729-12-31                             121.7                             NaN   \n",
      "...                                      ...                             ...   \n",
      "1986-12-31                               NaN                             NaN   \n",
      "1987-12-31                               NaN                             NaN   \n",
      "1988-12-31                             123.0                             8.4   \n",
      "1989-12-31                             211.1                            12.8   \n",
      "1990-12-31                             191.8                            11.2   \n",
      "1991-12-31                             203.3                            12.7   \n",
      "1992-12-31                             133.0                             8.9   \n",
      "1993-12-31                               NaN                             NaN   \n",
      "1994-12-31                               NaN                             NaN   \n",
      "1995-12-31                               NaN                             NaN   \n",
      "1996-12-31                               NaN                             NaN   \n",
      "1997-12-31                               NaN                             NaN   \n",
      "1998-12-31                              88.3                             NaN   \n",
      "1999-12-31                             136.3                             9.3   \n",
      "2000-12-31                             173.9                            10.1   \n",
      "2001-12-31                             170.4                            10.5   \n",
      "2002-12-31                             163.6                             9.8   \n",
      "2003-12-31                              99.3                             NaN   \n",
      "2004-12-31                               NaN                             NaN   \n",
      "2005-12-31                               NaN                             NaN   \n",
      "2006-12-31                               NaN                             NaN   \n",
      "2007-12-31                               NaN                             NaN   \n",
      "2008-12-31                               NaN                             NaN   \n",
      "2009-12-31                               NaN                             NaN   \n",
      "2010-12-31                               NaN                             NaN   \n",
      "2011-12-31                              80.8                             NaN   \n",
      "2012-12-31                              84.5                             NaN   \n",
      "2013-12-31                              94.0                             NaN   \n",
      "2014-12-31                             113.3                             NaN   \n",
      "2015-12-31                               NaN                             NaN   \n",
      "\n",
      "            Number of Observations  Definitive/Provisional Indicator  \n",
      "Date                                                                  \n",
      "1700-12-31                     NaN                               NaN  \n",
      "1701-12-31                     NaN                               NaN  \n",
      "1702-12-31                     NaN                               NaN  \n",
      "1703-12-31                     NaN                               NaN  \n",
      "1704-12-31                     NaN                               NaN  \n",
      "1705-12-31                     NaN                               NaN  \n",
      "1706-12-31                     NaN                               NaN  \n",
      "1707-12-31                     NaN                               NaN  \n",
      "1708-12-31                     NaN                               NaN  \n",
      "1709-12-31                     NaN                               NaN  \n",
      "1710-12-31                     NaN                               NaN  \n",
      "1711-12-31                     NaN                               NaN  \n",
      "1712-12-31                     NaN                               NaN  \n",
      "1713-12-31                     NaN                               NaN  \n",
      "1714-12-31                     NaN                               NaN  \n",
      "1715-12-31                     NaN                               NaN  \n",
      "1716-12-31                     NaN                               NaN  \n",
      "1717-12-31                     NaN                               NaN  \n",
      "1718-12-31                     NaN                               NaN  \n",
      "1719-12-31                     NaN                               NaN  \n",
      "1720-12-31                     NaN                               NaN  \n",
      "1721-12-31                     NaN                               NaN  \n",
      "1722-12-31                     NaN                               NaN  \n",
      "1723-12-31                     NaN                               NaN  \n",
      "1724-12-31                     NaN                               NaN  \n",
      "1725-12-31                     NaN                               NaN  \n",
      "1726-12-31                     NaN                               NaN  \n",
      "1727-12-31                     NaN                               NaN  \n",
      "1728-12-31                     NaN                               NaN  \n",
      "1729-12-31                     NaN                               NaN  \n",
      "...                            ...                               ...  \n",
      "1986-12-31                  5934.0                               NaN  \n",
      "1987-12-31                  6396.0                               NaN  \n",
      "1988-12-31                  6556.0                               NaN  \n",
      "1989-12-31                  6932.0                               NaN  \n",
      "1990-12-31                  7108.0                               NaN  \n",
      "1991-12-31                  6932.0                               NaN  \n",
      "1992-12-31                  7845.0                               NaN  \n",
      "1993-12-31                  8010.0                               NaN  \n",
      "1994-12-31                  8524.0                               NaN  \n",
      "1995-12-31                  8429.0                               NaN  \n",
      "1996-12-31                  7614.0                               NaN  \n",
      "1997-12-31                  7294.0                               NaN  \n",
      "1998-12-31                  6353.0                               NaN  \n",
      "1999-12-31                  6413.0                               NaN  \n",
      "2000-12-31                  5953.0                               NaN  \n",
      "2001-12-31                  6558.0                               NaN  \n",
      "2002-12-31                  6588.0                               NaN  \n",
      "2003-12-31                  7087.0                               NaN  \n",
      "2004-12-31                  6882.0                               NaN  \n",
      "2005-12-31                  7084.0                               NaN  \n",
      "2006-12-31                  6370.0                               NaN  \n",
      "2007-12-31                  6841.0                               NaN  \n",
      "2008-12-31                  6644.0                               NaN  \n",
      "2009-12-31                  6465.0                               NaN  \n",
      "2010-12-31                  6328.0                               NaN  \n",
      "2011-12-31                  6077.0                               NaN  \n",
      "2012-12-31                  5753.0                               NaN  \n",
      "2013-12-31                  5347.0                               NaN  \n",
      "2014-12-31                  5273.0                               NaN  \n",
      "2015-12-31                  8903.0                               NaN  \n",
      "\n",
      "[316 rows x 4 columns]\n"
     ]
    }
   ],
   "source": [
    "print(\"Boolean selection:\\n\", sunspots[sunspots > sunspots.mean()])"
   ]
  },
  {
   "cell_type": "code",
   "execution_count": 20,
   "metadata": {
    "collapsed": false,
    "deletable": true,
    "editable": true
   },
   "outputs": [
    {
     "name": "stdout",
     "output_type": "stream",
     "text": [
      "Boolean selection with column label:\n",
      "             Yearly Mean Total Sunspot Number  Yearly Mean Standard Deviation  \\\n",
      "Date                                                                           \n",
      "1981-12-31                             198.9                            13.1   \n",
      "1982-12-31                             162.4                            12.1   \n",
      "1983-12-31                              91.0                             7.6   \n",
      "1984-12-31                              60.5                             5.9   \n",
      "1985-12-31                              20.6                             3.7   \n",
      "1986-12-31                              14.8                             3.5   \n",
      "1987-12-31                              33.9                             3.7   \n",
      "1988-12-31                             123.0                             8.4   \n",
      "1989-12-31                             211.1                            12.8   \n",
      "1990-12-31                             191.8                            11.2   \n",
      "1991-12-31                             203.3                            12.7   \n",
      "1992-12-31                             133.0                             8.9   \n",
      "1993-12-31                              76.1                             5.8   \n",
      "1994-12-31                              44.9                             4.4   \n",
      "1995-12-31                              25.1                             3.7   \n",
      "1996-12-31                              11.6                             3.1   \n",
      "1997-12-31                              28.9                             3.6   \n",
      "1998-12-31                              88.3                             6.6   \n",
      "1999-12-31                             136.3                             9.3   \n",
      "2000-12-31                             173.9                            10.1   \n",
      "2001-12-31                             170.4                            10.5   \n",
      "2002-12-31                             163.6                             9.8   \n",
      "2003-12-31                              99.3                             7.1   \n",
      "2004-12-31                              65.3                             5.9   \n",
      "2005-12-31                              45.8                             4.7   \n",
      "2006-12-31                              24.7                             3.5   \n",
      "2007-12-31                              12.6                             2.7   \n",
      "2008-12-31                               4.2                             2.5   \n",
      "2009-12-31                               4.8                             2.5   \n",
      "2010-12-31                              24.9                             3.4   \n",
      "2011-12-31                              80.8                             6.7   \n",
      "2012-12-31                              84.5                             6.7   \n",
      "2013-12-31                              94.0                             6.9   \n",
      "2014-12-31                             113.3                             8.0   \n",
      "2015-12-31                              69.8                             6.4   \n",
      "\n",
      "            Number of Observations  Definitive/Provisional Indicator  \n",
      "Date                                                                  \n",
      "1981-12-31                  3049.0                               1.0  \n",
      "1982-12-31                  3436.0                               1.0  \n",
      "1983-12-31                  4216.0                               1.0  \n",
      "1984-12-31                  5103.0                               1.0  \n",
      "1985-12-31                  5543.0                               1.0  \n",
      "1986-12-31                  5934.0                               1.0  \n",
      "1987-12-31                  6396.0                               1.0  \n",
      "1988-12-31                  6556.0                               1.0  \n",
      "1989-12-31                  6932.0                               1.0  \n",
      "1990-12-31                  7108.0                               1.0  \n",
      "1991-12-31                  6932.0                               1.0  \n",
      "1992-12-31                  7845.0                               1.0  \n",
      "1993-12-31                  8010.0                               1.0  \n",
      "1994-12-31                  8524.0                               1.0  \n",
      "1995-12-31                  8429.0                               1.0  \n",
      "1996-12-31                  7614.0                               1.0  \n",
      "1997-12-31                  7294.0                               1.0  \n",
      "1998-12-31                  6353.0                               1.0  \n",
      "1999-12-31                  6413.0                               1.0  \n",
      "2000-12-31                  5953.0                               1.0  \n",
      "2001-12-31                  6558.0                               1.0  \n",
      "2002-12-31                  6588.0                               1.0  \n",
      "2003-12-31                  7087.0                               1.0  \n",
      "2004-12-31                  6882.0                               1.0  \n",
      "2005-12-31                  7084.0                               1.0  \n",
      "2006-12-31                  6370.0                               1.0  \n",
      "2007-12-31                  6841.0                               1.0  \n",
      "2008-12-31                  6644.0                               1.0  \n",
      "2009-12-31                  6465.0                               1.0  \n",
      "2010-12-31                  6328.0                               1.0  \n",
      "2011-12-31                  6077.0                               1.0  \n",
      "2012-12-31                  5753.0                               1.0  \n",
      "2013-12-31                  5347.0                               1.0  \n",
      "2014-12-31                  5273.0                               1.0  \n",
      "2015-12-31                  8903.0                               1.0  \n"
     ]
    }
   ],
   "source": [
    "print(\"Boolean selection with column label:\\n\", sunspots[sunspots['Number of Observations'] > sunspots['Number of Observations'].mean()])"
   ]
  },
  {
   "cell_type": "markdown",
   "metadata": {
    "deletable": true,
    "editable": true
   },
   "source": [
    "# Statistics with pandas DataFrame"
   ]
  },
  {
   "cell_type": "code",
   "execution_count": 21,
   "metadata": {
    "collapsed": false,
    "deletable": true,
    "editable": true
   },
   "outputs": [
    {
     "name": "stdout",
     "output_type": "stream",
     "text": [
      "Describe        Yearly Mean Total Sunspot Number  Yearly Mean Standard Deviation  \\\n",
      "count                        316.000000                      198.000000   \n",
      "mean                          79.503481                        8.030303   \n",
      "std                           62.057114                        3.807299   \n",
      "min                            0.000000                        1.700000   \n",
      "25%                           25.050000                        4.725000   \n",
      "50%                           66.700000                        7.700000   \n",
      "75%                          116.400000                       10.475000   \n",
      "max                          269.300000                       19.100000   \n",
      "\n",
      "       Number of Observations  Definitive/Provisional Indicator  \n",
      "count              198.000000                             316.0  \n",
      "mean              1424.888889                               1.0  \n",
      "std               2394.898980                               0.0  \n",
      "min                150.000000                               1.0  \n",
      "25%                365.000000                               1.0  \n",
      "50%                365.000000                               1.0  \n",
      "75%                366.000000                               1.0  \n",
      "max               8903.000000                               1.0   \n",
      "\n",
      "Non NaN observations Yearly Mean Total Sunspot Number    316\n",
      "Yearly Mean Standard Deviation      198\n",
      "Number of Observations              198\n",
      "Definitive/Provisional Indicator    316\n",
      "dtype: int64 \n",
      "\n",
      "MAD Yearly Mean Total Sunspot Number      50.987620\n",
      "Yearly Mean Standard Deviation         3.125375\n",
      "Number of Observations              1777.463524\n",
      "Definitive/Provisional Indicator       0.000000\n",
      "dtype: float64 \n",
      "\n",
      "Median Yearly Mean Total Sunspot Number     66.7\n",
      "Yearly Mean Standard Deviation        7.7\n",
      "Number of Observations              365.0\n",
      "Definitive/Provisional Indicator      1.0\n",
      "dtype: float64 \n",
      "\n",
      "Min Yearly Mean Total Sunspot Number      0.0\n",
      "Yearly Mean Standard Deviation        1.7\n",
      "Number of Observations              150.0\n",
      "Definitive/Provisional Indicator      1.0\n",
      "dtype: float64 \n",
      "\n",
      "Max Yearly Mean Total Sunspot Number     269.3\n",
      "Yearly Mean Standard Deviation        19.1\n",
      "Number of Observations              8903.0\n",
      "Definitive/Provisional Indicator       1.0\n",
      "dtype: float64 \n",
      "\n",
      "Mode    Yearly Mean Total Sunspot Number  Yearly Mean Standard Deviation  \\\n",
      "0                              18.3                             9.2   \n",
      "\n",
      "   Number of Observations  Definitive/Provisional Indicator  \n",
      "0                   365.0                               1.0   \n",
      "\n",
      "Standard Deviation Yearly Mean Total Sunspot Number      62.057114\n",
      "Yearly Mean Standard Deviation         3.807299\n",
      "Number of Observations              2394.898980\n",
      "Definitive/Provisional Indicator       0.000000\n",
      "dtype: float64 \n",
      "\n",
      "Variance Yearly Mean Total Sunspot Number    3.851085e+03\n",
      "Yearly Mean Standard Deviation      1.449552e+01\n",
      "Number of Observations              5.735541e+06\n",
      "Definitive/Provisional Indicator    0.000000e+00\n",
      "dtype: float64 \n",
      "\n",
      "Skewness Yearly Mean Total Sunspot Number    0.799452\n",
      "Yearly Mean Standard Deviation      0.555067\n",
      "Number of Observations              1.876098\n",
      "Definitive/Provisional Indicator    0.000000\n",
      "dtype: float64 \n",
      "\n",
      "Kurtosis Yearly Mean Total Sunspot Number   -0.143733\n",
      "Yearly Mean Standard Deviation     -0.244310\n",
      "Number of Observations              1.783261\n",
      "Definitive/Provisional Indicator    0.000000\n",
      "dtype: float64 \n",
      "\n"
     ]
    }
   ],
   "source": [
    "import quandl\n",
    "\n",
    "# Data from http://www.quandl.com/SIDC/SUNSPOTS_A-Sunspot-Numbers-Annual\n",
    "# PyPi url https://pypi.python.org/pypi/Quandl\n",
    "sunspots = quandl.get(\"SIDC/SUNSPOTS_A\")\n",
    "print(\"Describe\", sunspots.describe(),\"\\n\")\n",
    "print(\"Non NaN observations\", sunspots.count(),\"\\n\")\n",
    "print(\"MAD\", sunspots.mad(),\"\\n\")\n",
    "print(\"Median\", sunspots.median(),\"\\n\")\n",
    "print(\"Min\", sunspots.min(),\"\\n\")\n",
    "print(\"Max\", sunspots.max(),\"\\n\")\n",
    "print(\"Mode\", sunspots.mode(),\"\\n\")\n",
    "print(\"Standard Deviation\", sunspots.std(),\"\\n\")\n",
    "print(\"Variance\", sunspots.var(),\"\\n\")\n",
    "print(\"Skewness\", sunspots.skew(),\"\\n\")\n",
    "print(\"Kurtosis\", sunspots.kurt(),\"\\n\")"
   ]
  },
  {
   "cell_type": "markdown",
   "metadata": {
    "deletable": true,
    "editable": true
   },
   "source": [
    "# Data Aggregation"
   ]
  },
  {
   "cell_type": "code",
   "execution_count": 22,
   "metadata": {
    "collapsed": false,
    "deletable": true,
    "editable": true
   },
   "outputs": [
    {
     "name": "stdout",
     "output_type": "stream",
     "text": [
      "        Food  Number     Price Weather\n",
      "0       soup       8  3.745401    cold\n",
      "1       soup       8  9.507143     hot\n",
      "2   icecream       8  7.319939    cold\n",
      "3  chocolate       8  5.986585     hot\n",
      "4   icecream       8  1.560186    cold\n",
      "5   icecream       8  1.559945     hot\n",
      "6       soup       8  0.580836    cold\n"
     ]
    }
   ],
   "source": [
    "import pandas as pd\n",
    "from numpy.random import seed\n",
    "from numpy.random import rand\n",
    "from numpy.random import randint\n",
    "import numpy as np\n",
    "\n",
    "seed(42)\n",
    "\n",
    "df = pd.DataFrame({'Weather' : ['cold', 'hot', 'cold', 'hot',\n",
    "   'cold', 'hot', 'cold'],\n",
    "   'Food' : ['soup', 'soup', 'icecream', 'chocolate',\n",
    "   'icecream', 'icecream', 'soup'],\n",
    "   'Price' : 10 * rand(7), 'Number' : randint(1, 9)})\n",
    "\n",
    "print(df)"
   ]
  },
  {
   "cell_type": "code",
   "execution_count": 23,
   "metadata": {
    "collapsed": false,
    "deletable": true,
    "editable": true
   },
   "outputs": [
    {
     "name": "stdout",
     "output_type": "stream",
     "text": [
      "Group 1 cold\n",
      "       Food  Number     Price Weather\n",
      "0      soup       8  3.745401    cold\n",
      "2  icecream       8  7.319939    cold\n",
      "4  icecream       8  1.560186    cold\n",
      "6      soup       8  0.580836    cold\n",
      "Group 2 hot\n",
      "        Food  Number     Price Weather\n",
      "1       soup       8  9.507143     hot\n",
      "3  chocolate       8  5.986585     hot\n",
      "5   icecream       8  1.559945     hot\n"
     ]
    }
   ],
   "source": [
    "weather_group = df.groupby('Weather')\n",
    "\n",
    "i = 0\n",
    "\n",
    "for name, group in weather_group:\n",
    "   i = i + 1\n",
    "   print(\"Group\", i, name)\n",
    "   print(group)"
   ]
  },
  {
   "cell_type": "code",
   "execution_count": 24,
   "metadata": {
    "collapsed": false,
    "deletable": true,
    "editable": true
   },
   "outputs": [
    {
     "name": "stdout",
     "output_type": "stream",
     "text": [
      "Weather group first\n",
      "          Food  Number     Price\n",
      "Weather                        \n",
      "cold     soup       8  3.745401\n",
      "hot      soup       8  9.507143\n",
      "Weather group last\n",
      "              Food  Number     Price\n",
      "Weather                            \n",
      "cold         soup       8  0.580836\n",
      "hot      icecream       8  1.559945\n",
      "Weather group mean\n",
      "          Number     Price\n",
      "Weather                  \n",
      "cold          8  3.301591\n",
      "hot           8  5.684558\n"
     ]
    }
   ],
   "source": [
    "print(\"Weather group first\\n\", weather_group.first())\n",
    "print(\"Weather group last\\n\", weather_group.last())\n",
    "print(\"Weather group mean\\n\", weather_group.mean())"
   ]
  },
  {
   "cell_type": "code",
   "execution_count": 25,
   "metadata": {
    "collapsed": false,
    "deletable": true,
    "editable": true
   },
   "outputs": [
    {
     "name": "stdout",
     "output_type": "stream",
     "text": [
      "WF Groups {('cold', 'icecream'): Int64Index([2, 4], dtype='int64'), ('cold', 'soup'): Int64Index([0, 6], dtype='int64'), ('hot', 'chocolate'): Int64Index([3], dtype='int64'), ('hot', 'icecream'): Int64Index([5], dtype='int64'), ('hot', 'soup'): Int64Index([1], dtype='int64')}\n"
     ]
    }
   ],
   "source": [
    "wf_group = df.groupby(['Weather', 'Food'])\n",
    "print(\"WF Groups\", wf_group.groups)"
   ]
  },
  {
   "cell_type": "code",
   "execution_count": 26,
   "metadata": {
    "collapsed": false,
    "deletable": true,
    "editable": true
   },
   "outputs": [
    {
     "name": "stdout",
     "output_type": "stream",
     "text": [
      "WF Aggregated\n",
      "                   Number            Price          \n",
      "                    mean median      mean    median\n",
      "Weather Food                                       \n",
      "cold    icecream       8      8  4.440063  4.440063\n",
      "        soup           8      8  2.163119  2.163119\n",
      "hot     chocolate      8      8  5.986585  5.986585\n",
      "        icecream       8      8  1.559945  1.559945\n",
      "        soup           8      8  9.507143  9.507143\n"
     ]
    }
   ],
   "source": [
    "print(\"WF Aggregated\\n\", wf_group.agg([np.mean, np.median]))"
   ]
  },
  {
   "cell_type": "markdown",
   "metadata": {
    "deletable": true,
    "editable": true
   },
   "source": [
    "# Concatenating and appending DataFrames"
   ]
  },
  {
   "cell_type": "code",
   "execution_count": 27,
   "metadata": {
    "collapsed": false,
    "deletable": true,
    "editable": true
   },
   "outputs": [
    {
     "name": "stdout",
     "output_type": "stream",
     "text": [
      "df :3\n",
      "        Food  Number     Price Weather\n",
      "0      soup       8  3.745401    cold\n",
      "1      soup       8  9.507143     hot\n",
      "2  icecream       8  7.319939    cold\n"
     ]
    }
   ],
   "source": [
    "print(\"df :3\\n\", df[:3])"
   ]
  },
  {
   "cell_type": "code",
   "execution_count": 28,
   "metadata": {
    "collapsed": false,
    "deletable": true,
    "editable": true
   },
   "outputs": [
    {
     "name": "stdout",
     "output_type": "stream",
     "text": [
      "Concat Back together\n",
      "         Food  Number     Price Weather\n",
      "0       soup       8  3.745401    cold\n",
      "1       soup       8  9.507143     hot\n",
      "2   icecream       8  7.319939    cold\n",
      "3  chocolate       8  5.986585     hot\n",
      "4   icecream       8  1.560186    cold\n",
      "5   icecream       8  1.559945     hot\n",
      "6       soup       8  0.580836    cold\n"
     ]
    }
   ],
   "source": [
    "print(\"Concat Back together\\n\", pd.concat([df[:3], df[3:]]))"
   ]
  },
  {
   "cell_type": "code",
   "execution_count": 29,
   "metadata": {
    "collapsed": false,
    "deletable": true,
    "editable": true
   },
   "outputs": [
    {
     "name": "stdout",
     "output_type": "stream",
     "text": [
      "Appending rows\n",
      "        Food  Number     Price Weather\n",
      "0      soup       8  3.745401    cold\n",
      "1      soup       8  9.507143     hot\n",
      "2  icecream       8  7.319939    cold\n",
      "5  icecream       8  1.559945     hot\n",
      "6      soup       8  0.580836    cold\n"
     ]
    }
   ],
   "source": [
    "print(\"Appending rows\\n\", df[:3].append(df[5:]))"
   ]
  },
  {
   "cell_type": "markdown",
   "metadata": {
    "deletable": true,
    "editable": true
   },
   "source": [
    "# joining DataFrames"
   ]
  },
  {
   "cell_type": "code",
   "execution_count": 30,
   "metadata": {
    "collapsed": false,
    "deletable": true,
    "editable": true
   },
   "outputs": [
    {
     "name": "stdout",
     "output_type": "stream",
     "text": [
      "Dests\n",
      "    EmpNr       Dest\n",
      "0      5  The Hague\n",
      "1      3  Amsterdam\n",
      "2      9  Rotterdam\n",
      "Tips\n",
      "    EmpNr  Amount\n",
      "0      5    10.0\n",
      "1      9     5.0\n",
      "2      7     2.5\n",
      "Merge() on key\n",
      "    EmpNr       Dest  Amount\n",
      "0      5  The Hague    10.0\n",
      "1      9  Rotterdam     5.0\n",
      "Dests join() tips\n",
      "    EmpNrDest       Dest  EmpNrTips  Amount\n",
      "0          5  The Hague          5    10.0\n",
      "1          3  Amsterdam          9     5.0\n",
      "2          9  Rotterdam          7     2.5\n",
      "Inner join with merge()\n",
      "    EmpNr       Dest  Amount\n",
      "0      5  The Hague    10.0\n",
      "1      9  Rotterdam     5.0\n",
      "Outer join\n",
      "    EmpNr       Dest  Amount\n",
      "0      5  The Hague    10.0\n",
      "1      3  Amsterdam     NaN\n",
      "2      9  Rotterdam     5.0\n",
      "3      7        NaN     2.5\n"
     ]
    }
   ],
   "source": [
    "dests = pd.read_csv('dest.csv')\n",
    "print(\"Dests\\n\", dests)\n",
    "\n",
    "tips = pd.read_csv('tips.csv')\n",
    "print(\"Tips\\n\", tips)\n",
    "\n",
    "print(\"Merge() on key\\n\", pd.merge(dests, tips, on='EmpNr'))\n",
    "print(\"Dests join() tips\\n\", dests.join(tips, lsuffix='Dest', rsuffix='Tips'))\n",
    "\n",
    "print(\"Inner join with merge()\\n\", pd.merge(dests, tips, how='inner'))\n",
    "print(\"Outer join\\n\", pd.merge(dests, tips, how='outer'))"
   ]
  },
  {
   "cell_type": "markdown",
   "metadata": {
    "deletable": true,
    "editable": true
   },
   "source": [
    "# Handlng missing Values"
   ]
  },
  {
   "cell_type": "code",
   "execution_count": 31,
   "metadata": {
    "collapsed": false,
    "deletable": true,
    "editable": true
   },
   "outputs": [
    {
     "name": "stdout",
     "output_type": "stream",
     "text": [
      "New df\n",
      "        Country  Net primary school enrolment ratio male (%)\n",
      "0  Afghanistan                                          NaN\n",
      "1      Albania                                         94.0\n",
      "Null Values\n",
      "   Country Net primary school enrolment ratio male (%)\n",
      "0   False                                        True\n",
      "1   False                                       False\n",
      "Total Null Values\n",
      " Country                                        0\n",
      "Net primary school enrolment ratio male (%)    1\n",
      "dtype: int64\n",
      "Not Null Values\n",
      "   Country Net primary school enrolment ratio male (%)\n",
      "0    True                                       False\n",
      "1    True                                        True\n",
      "Last Column Doubled\n",
      " 0      NaN\n",
      "1    188.0\n",
      "Name: Net primary school enrolment ratio male (%), dtype: float64\n",
      "Last Column plus NaN\n",
      " 0   NaN\n",
      "1   NaN\n",
      "Name: Net primary school enrolment ratio male (%), dtype: float64\n",
      "Zero filled\n",
      "        Country  Net primary school enrolment ratio male (%)\n",
      "0  Afghanistan                                          0.0\n",
      "1      Albania                                         94.0\n"
     ]
    }
   ],
   "source": [
    "df = pd.read_csv('WHO_first9cols.csv')\n",
    "# Select first 3 rows of country and Net primary school enrolment ratio male (%)\n",
    "df = df[['Country', df.columns[-2]]][:2]\n",
    "print(\"New df\\n\", df)\n",
    "print(\"Null Values\\n\", pd.isnull(df))\n",
    "print(\"Total Null Values\\n\", pd.isnull(df).sum())\n",
    "print(\"Not Null Values\\n\", df.notnull())\n",
    "print(\"Last Column Doubled\\n\", 2 * df[df.columns[-1]])\n",
    "print(\"Last Column plus NaN\\n\", df[df.columns[-1]] + np.nan)\n",
    "print(\"Zero filled\\n\", df.fillna(0))"
   ]
  },
  {
   "cell_type": "markdown",
   "metadata": {
    "deletable": true,
    "editable": true
   },
   "source": [
    "# dealing with dates"
   ]
  },
  {
   "cell_type": "code",
   "execution_count": 32,
   "metadata": {
    "collapsed": false,
    "deletable": true,
    "editable": true
   },
   "outputs": [
    {
     "name": "stdout",
     "output_type": "stream",
     "text": [
      "Date range DatetimeIndex(['1900-01-01', '1900-01-02', '1900-01-03', '1900-01-04',\n",
      "               '1900-01-05', '1900-01-06', '1900-01-07', '1900-01-08',\n",
      "               '1900-01-09', '1900-01-10', '1900-01-11', '1900-01-12',\n",
      "               '1900-01-13', '1900-01-14', '1900-01-15', '1900-01-16',\n",
      "               '1900-01-17', '1900-01-18', '1900-01-19', '1900-01-20',\n",
      "               '1900-01-21', '1900-01-22', '1900-01-23', '1900-01-24',\n",
      "               '1900-01-25', '1900-01-26', '1900-01-27', '1900-01-28',\n",
      "               '1900-01-29', '1900-01-30', '1900-01-31', '1900-02-01',\n",
      "               '1900-02-02', '1900-02-03', '1900-02-04', '1900-02-05',\n",
      "               '1900-02-06', '1900-02-07', '1900-02-08', '1900-02-09',\n",
      "               '1900-02-10', '1900-02-11'],\n",
      "              dtype='datetime64[ns]', freq='D')\n"
     ]
    }
   ],
   "source": [
    "print(\"Date range\", pd.date_range('1/1/1900', periods=42, freq='D'))"
   ]
  },
  {
   "cell_type": "code",
   "execution_count": 33,
   "metadata": {
    "collapsed": false,
    "deletable": true,
    "editable": true
   },
   "outputs": [
    {
     "name": "stdout",
     "output_type": "stream",
     "text": [
      "Error encountered <class 'pandas.tslib.OutOfBoundsDatetime'> Out of bounds nanosecond timestamp: 1677-01-01 00:00:00\n"
     ]
    }
   ],
   "source": [
    "import sys\n",
    "try:\n",
    "   print(\"Date range\", pd.date_range('1/1/1677', periods=4, freq='D'))\n",
    "except:\n",
    "   etype, value, _ = sys.exc_info()\n",
    "   print(\"Error encountered\", etype, value)"
   ]
  },
  {
   "cell_type": "code",
   "execution_count": 34,
   "metadata": {
    "collapsed": false,
    "deletable": true,
    "editable": true
   },
   "outputs": [
    {
     "name": "stdout",
     "output_type": "stream",
     "text": [
      "Start valid range 1969-12-31 23:59:51.410065\n",
      "End valid range 1970-01-01 00:00:08.589935\n"
     ]
    }
   ],
   "source": [
    "offset = pd.DateOffset(seconds=2 ** 33/10 ** 9)\n",
    "mid = pd.to_datetime('1/1/1970')\n",
    "print(\"Start valid range\", mid - offset)\n",
    "print(\"End valid range\", mid + offset)"
   ]
  },
  {
   "cell_type": "code",
   "execution_count": 35,
   "metadata": {
    "collapsed": false,
    "deletable": true,
    "editable": true
   },
   "outputs": [
    {
     "name": "stdout",
     "output_type": "stream",
     "text": [
      "With format DatetimeIndex(['1902-11-12', '1903-12-30'], dtype='datetime64[ns]', freq=None)\n"
     ]
    }
   ],
   "source": [
    "print(\"With format\", pd.to_datetime(['19021112', '19031230'], format='%Y%m%d'))"
   ]
  },
  {
   "cell_type": "code",
   "execution_count": 36,
   "metadata": {
    "collapsed": false,
    "deletable": true,
    "editable": true
   },
   "outputs": [
    {
     "ename": "ValueError",
     "evalue": "Unknown string format",
     "output_type": "error",
     "traceback": [
      "\u001b[0;31m---------------------------------------------------------------------------\u001b[0m",
      "\u001b[0;31mTypeError\u001b[0m                                 Traceback (most recent call last)",
      "\u001b[0;32m/usr/local/lib/python3.6/site-packages/pandas/tseries/tools.py\u001b[0m in \u001b[0;36m_convert_listlike\u001b[0;34m(arg, box, format, name, tz)\u001b[0m\n\u001b[1;32m    409\u001b[0m             \u001b[0;32mtry\u001b[0m\u001b[0;34m:\u001b[0m\u001b[0;34m\u001b[0m\u001b[0m\n\u001b[0;32m--> 410\u001b[0;31m                 \u001b[0mvalues\u001b[0m\u001b[0;34m,\u001b[0m \u001b[0mtz\u001b[0m \u001b[0;34m=\u001b[0m \u001b[0mtslib\u001b[0m\u001b[0;34m.\u001b[0m\u001b[0mdatetime_to_datetime64\u001b[0m\u001b[0;34m(\u001b[0m\u001b[0marg\u001b[0m\u001b[0;34m)\u001b[0m\u001b[0;34m\u001b[0m\u001b[0m\n\u001b[0m\u001b[1;32m    411\u001b[0m                 \u001b[0;32mreturn\u001b[0m \u001b[0mDatetimeIndex\u001b[0m\u001b[0;34m.\u001b[0m\u001b[0m_simple_new\u001b[0m\u001b[0;34m(\u001b[0m\u001b[0mvalues\u001b[0m\u001b[0;34m,\u001b[0m \u001b[0mname\u001b[0m\u001b[0;34m=\u001b[0m\u001b[0mname\u001b[0m\u001b[0;34m,\u001b[0m \u001b[0mtz\u001b[0m\u001b[0;34m=\u001b[0m\u001b[0mtz\u001b[0m\u001b[0;34m)\u001b[0m\u001b[0;34m\u001b[0m\u001b[0m\n",
      "\u001b[0;32mpandas/tslib.pyx\u001b[0m in \u001b[0;36mpandas.tslib.datetime_to_datetime64 (pandas/tslib.c:33358)\u001b[0;34m()\u001b[0m\n",
      "\u001b[0;31mTypeError\u001b[0m: Unrecognized value type: <class 'str'>",
      "\nDuring handling of the above exception, another exception occurred:\n",
      "\u001b[0;31mValueError\u001b[0m                                Traceback (most recent call last)",
      "\u001b[0;32m<ipython-input-36-37920ff5b05e>\u001b[0m in \u001b[0;36m<module>\u001b[0;34m()\u001b[0m\n\u001b[0;32m----> 1\u001b[0;31m \u001b[0mprint\u001b[0m\u001b[0;34m(\u001b[0m\u001b[0;34m\"Illegal date\"\u001b[0m\u001b[0;34m,\u001b[0m \u001b[0mpd\u001b[0m\u001b[0;34m.\u001b[0m\u001b[0mto_datetime\u001b[0m\u001b[0;34m(\u001b[0m\u001b[0;34m[\u001b[0m\u001b[0;34m'1902-11-12'\u001b[0m\u001b[0;34m,\u001b[0m \u001b[0;34m'not a date'\u001b[0m\u001b[0;34m]\u001b[0m\u001b[0;34m)\u001b[0m \u001b[0;34m)\u001b[0m\u001b[0;34m\u001b[0m\u001b[0m\n\u001b[0m",
      "\u001b[0;32m/usr/local/lib/python3.6/site-packages/pandas/util/decorators.py\u001b[0m in \u001b[0;36mwrapper\u001b[0;34m(*args, **kwargs)\u001b[0m\n\u001b[1;32m     89\u001b[0m                 \u001b[0;32melse\u001b[0m\u001b[0;34m:\u001b[0m\u001b[0;34m\u001b[0m\u001b[0m\n\u001b[1;32m     90\u001b[0m                     \u001b[0mkwargs\u001b[0m\u001b[0;34m[\u001b[0m\u001b[0mnew_arg_name\u001b[0m\u001b[0;34m]\u001b[0m \u001b[0;34m=\u001b[0m \u001b[0mnew_arg_value\u001b[0m\u001b[0;34m\u001b[0m\u001b[0m\n\u001b[0;32m---> 91\u001b[0;31m             \u001b[0;32mreturn\u001b[0m \u001b[0mfunc\u001b[0m\u001b[0;34m(\u001b[0m\u001b[0;34m*\u001b[0m\u001b[0margs\u001b[0m\u001b[0;34m,\u001b[0m \u001b[0;34m**\u001b[0m\u001b[0mkwargs\u001b[0m\u001b[0;34m)\u001b[0m\u001b[0;34m\u001b[0m\u001b[0m\n\u001b[0m\u001b[1;32m     92\u001b[0m         \u001b[0;32mreturn\u001b[0m \u001b[0mwrapper\u001b[0m\u001b[0;34m\u001b[0m\u001b[0m\n\u001b[1;32m     93\u001b[0m     \u001b[0;32mreturn\u001b[0m \u001b[0m_deprecate_kwarg\u001b[0m\u001b[0;34m\u001b[0m\u001b[0m\n",
      "\u001b[0;32m/usr/local/lib/python3.6/site-packages/pandas/tseries/tools.py\u001b[0m in \u001b[0;36mto_datetime\u001b[0;34m(arg, errors, dayfirst, yearfirst, utc, box, format, exact, coerce, unit, infer_datetime_format)\u001b[0m\n\u001b[1;32m    426\u001b[0m         \u001b[0;32mreturn\u001b[0m \u001b[0m_convert_listlike\u001b[0m\u001b[0;34m(\u001b[0m\u001b[0marg\u001b[0m\u001b[0;34m,\u001b[0m \u001b[0mbox\u001b[0m\u001b[0;34m,\u001b[0m \u001b[0mformat\u001b[0m\u001b[0;34m,\u001b[0m \u001b[0mname\u001b[0m\u001b[0;34m=\u001b[0m\u001b[0marg\u001b[0m\u001b[0;34m.\u001b[0m\u001b[0mname\u001b[0m\u001b[0;34m)\u001b[0m\u001b[0;34m\u001b[0m\u001b[0m\n\u001b[1;32m    427\u001b[0m     \u001b[0;32melif\u001b[0m \u001b[0mis_list_like\u001b[0m\u001b[0;34m(\u001b[0m\u001b[0marg\u001b[0m\u001b[0;34m)\u001b[0m\u001b[0;34m:\u001b[0m\u001b[0;34m\u001b[0m\u001b[0m\n\u001b[0;32m--> 428\u001b[0;31m         \u001b[0;32mreturn\u001b[0m \u001b[0m_convert_listlike\u001b[0m\u001b[0;34m(\u001b[0m\u001b[0marg\u001b[0m\u001b[0;34m,\u001b[0m \u001b[0mbox\u001b[0m\u001b[0;34m,\u001b[0m \u001b[0mformat\u001b[0m\u001b[0;34m)\u001b[0m\u001b[0;34m\u001b[0m\u001b[0m\n\u001b[0m\u001b[1;32m    429\u001b[0m \u001b[0;34m\u001b[0m\u001b[0m\n\u001b[1;32m    430\u001b[0m     \u001b[0;32mreturn\u001b[0m \u001b[0m_convert_listlike\u001b[0m\u001b[0;34m(\u001b[0m\u001b[0mnp\u001b[0m\u001b[0;34m.\u001b[0m\u001b[0marray\u001b[0m\u001b[0;34m(\u001b[0m\u001b[0;34m[\u001b[0m\u001b[0marg\u001b[0m\u001b[0;34m]\u001b[0m\u001b[0;34m)\u001b[0m\u001b[0;34m,\u001b[0m \u001b[0mbox\u001b[0m\u001b[0;34m,\u001b[0m \u001b[0mformat\u001b[0m\u001b[0;34m)\u001b[0m\u001b[0;34m[\u001b[0m\u001b[0;36m0\u001b[0m\u001b[0;34m]\u001b[0m\u001b[0;34m\u001b[0m\u001b[0m\n",
      "\u001b[0;32m/usr/local/lib/python3.6/site-packages/pandas/tseries/tools.py\u001b[0m in \u001b[0;36m_convert_listlike\u001b[0;34m(arg, box, format, name, tz)\u001b[0m\n\u001b[1;32m    411\u001b[0m                 \u001b[0;32mreturn\u001b[0m \u001b[0mDatetimeIndex\u001b[0m\u001b[0;34m.\u001b[0m\u001b[0m_simple_new\u001b[0m\u001b[0;34m(\u001b[0m\u001b[0mvalues\u001b[0m\u001b[0;34m,\u001b[0m \u001b[0mname\u001b[0m\u001b[0;34m=\u001b[0m\u001b[0mname\u001b[0m\u001b[0;34m,\u001b[0m \u001b[0mtz\u001b[0m\u001b[0;34m=\u001b[0m\u001b[0mtz\u001b[0m\u001b[0;34m)\u001b[0m\u001b[0;34m\u001b[0m\u001b[0m\n\u001b[1;32m    412\u001b[0m             \u001b[0;32mexcept\u001b[0m \u001b[0;34m(\u001b[0m\u001b[0mValueError\u001b[0m\u001b[0;34m,\u001b[0m \u001b[0mTypeError\u001b[0m\u001b[0;34m)\u001b[0m\u001b[0;34m:\u001b[0m\u001b[0;34m\u001b[0m\u001b[0m\n\u001b[0;32m--> 413\u001b[0;31m                 \u001b[0;32mraise\u001b[0m \u001b[0me\u001b[0m\u001b[0;34m\u001b[0m\u001b[0m\n\u001b[0m\u001b[1;32m    414\u001b[0m \u001b[0;34m\u001b[0m\u001b[0m\n\u001b[1;32m    415\u001b[0m     \u001b[0;32mif\u001b[0m \u001b[0marg\u001b[0m \u001b[0;32mis\u001b[0m \u001b[0;32mNone\u001b[0m\u001b[0;34m:\u001b[0m\u001b[0;34m\u001b[0m\u001b[0m\n",
      "\u001b[0;32m/usr/local/lib/python3.6/site-packages/pandas/tseries/tools.py\u001b[0m in \u001b[0;36m_convert_listlike\u001b[0;34m(arg, box, format, name, tz)\u001b[0m\n\u001b[1;32m    399\u001b[0m                     \u001b[0mdayfirst\u001b[0m\u001b[0;34m=\u001b[0m\u001b[0mdayfirst\u001b[0m\u001b[0;34m,\u001b[0m\u001b[0;34m\u001b[0m\u001b[0m\n\u001b[1;32m    400\u001b[0m                     \u001b[0myearfirst\u001b[0m\u001b[0;34m=\u001b[0m\u001b[0myearfirst\u001b[0m\u001b[0;34m,\u001b[0m\u001b[0;34m\u001b[0m\u001b[0m\n\u001b[0;32m--> 401\u001b[0;31m                     \u001b[0mrequire_iso8601\u001b[0m\u001b[0;34m=\u001b[0m\u001b[0mrequire_iso8601\u001b[0m\u001b[0;34m\u001b[0m\u001b[0m\n\u001b[0m\u001b[1;32m    402\u001b[0m                 )\n\u001b[1;32m    403\u001b[0m \u001b[0;34m\u001b[0m\u001b[0m\n",
      "\u001b[0;32mpandas/tslib.pyx\u001b[0m in \u001b[0;36mpandas.tslib.array_to_datetime (pandas/tslib.c:46691)\u001b[0;34m()\u001b[0m\n",
      "\u001b[0;32mpandas/tslib.pyx\u001b[0m in \u001b[0;36mpandas.tslib.array_to_datetime (pandas/tslib.c:46307)\u001b[0;34m()\u001b[0m\n",
      "\u001b[0;32mpandas/tslib.pyx\u001b[0m in \u001b[0;36mpandas.tslib.array_to_datetime (pandas/tslib.c:46196)\u001b[0;34m()\u001b[0m\n",
      "\u001b[0;32mpandas/tslib.pyx\u001b[0m in \u001b[0;36mpandas.tslib.parse_datetime_string (pandas/tslib.c:35434)\u001b[0;34m()\u001b[0m\n",
      "\u001b[0;32m/usr/local/lib/python3.6/site-packages/dateutil/parser.py\u001b[0m in \u001b[0;36mparse\u001b[0;34m(timestr, parserinfo, **kwargs)\u001b[0m\n\u001b[1;32m   1166\u001b[0m         \u001b[0;32mreturn\u001b[0m \u001b[0mparser\u001b[0m\u001b[0;34m(\u001b[0m\u001b[0mparserinfo\u001b[0m\u001b[0;34m)\u001b[0m\u001b[0;34m.\u001b[0m\u001b[0mparse\u001b[0m\u001b[0;34m(\u001b[0m\u001b[0mtimestr\u001b[0m\u001b[0;34m,\u001b[0m \u001b[0;34m**\u001b[0m\u001b[0mkwargs\u001b[0m\u001b[0;34m)\u001b[0m\u001b[0;34m\u001b[0m\u001b[0m\n\u001b[1;32m   1167\u001b[0m     \u001b[0;32melse\u001b[0m\u001b[0;34m:\u001b[0m\u001b[0;34m\u001b[0m\u001b[0m\n\u001b[0;32m-> 1168\u001b[0;31m         \u001b[0;32mreturn\u001b[0m \u001b[0mDEFAULTPARSER\u001b[0m\u001b[0;34m.\u001b[0m\u001b[0mparse\u001b[0m\u001b[0;34m(\u001b[0m\u001b[0mtimestr\u001b[0m\u001b[0;34m,\u001b[0m \u001b[0;34m**\u001b[0m\u001b[0mkwargs\u001b[0m\u001b[0;34m)\u001b[0m\u001b[0;34m\u001b[0m\u001b[0m\n\u001b[0m\u001b[1;32m   1169\u001b[0m \u001b[0;34m\u001b[0m\u001b[0m\n\u001b[1;32m   1170\u001b[0m \u001b[0;34m\u001b[0m\u001b[0m\n",
      "\u001b[0;32m/usr/local/lib/python3.6/site-packages/dateutil/parser.py\u001b[0m in \u001b[0;36mparse\u001b[0;34m(self, timestr, default, ignoretz, tzinfos, **kwargs)\u001b[0m\n\u001b[1;32m    557\u001b[0m \u001b[0;34m\u001b[0m\u001b[0m\n\u001b[1;32m    558\u001b[0m         \u001b[0;32mif\u001b[0m \u001b[0mres\u001b[0m \u001b[0;32mis\u001b[0m \u001b[0;32mNone\u001b[0m\u001b[0;34m:\u001b[0m\u001b[0;34m\u001b[0m\u001b[0m\n\u001b[0;32m--> 559\u001b[0;31m             \u001b[0;32mraise\u001b[0m \u001b[0mValueError\u001b[0m\u001b[0;34m(\u001b[0m\u001b[0;34m\"Unknown string format\"\u001b[0m\u001b[0;34m)\u001b[0m\u001b[0;34m\u001b[0m\u001b[0m\n\u001b[0m\u001b[1;32m    560\u001b[0m \u001b[0;34m\u001b[0m\u001b[0m\n\u001b[1;32m    561\u001b[0m         \u001b[0;32mif\u001b[0m \u001b[0mlen\u001b[0m\u001b[0;34m(\u001b[0m\u001b[0mres\u001b[0m\u001b[0;34m)\u001b[0m \u001b[0;34m==\u001b[0m \u001b[0;36m0\u001b[0m\u001b[0;34m:\u001b[0m\u001b[0;34m\u001b[0m\u001b[0m\n",
      "\u001b[0;31mValueError\u001b[0m: Unknown string format"
     ]
    }
   ],
   "source": [
    "print(\"Illegal date\", pd.to_datetime(['1902-11-12', 'not a date']) )"
   ]
  },
  {
   "cell_type": "code",
   "execution_count": null,
   "metadata": {
    "collapsed": false,
    "deletable": true,
    "editable": true
   },
   "outputs": [],
   "source": [
    "print(\"Illegal date coerced\", pd.to_datetime(['1902-11-12', 'not a date'], errors='coerce'))"
   ]
  },
  {
   "cell_type": "markdown",
   "metadata": {
    "deletable": true,
    "editable": true
   },
   "source": [
    "# Pivot Tables"
   ]
  },
  {
   "cell_type": "code",
   "execution_count": null,
   "metadata": {
    "collapsed": false,
    "deletable": true,
    "editable": true
   },
   "outputs": [],
   "source": [
    "seed(42)\n",
    "N = 7\n",
    "df = pd.DataFrame({\n",
    "   'Weather' : ['cold', 'hot', 'cold', 'hot',\n",
    "   'cold', 'hot', 'cold'],\n",
    "   'Food' : ['soup', 'soup', 'icecream', 'chocolate',\n",
    "   'icecream', 'icecream', 'soup'],\n",
    "   'Price' : 10 * rand(N), 'Number' : randint(1, 9)})"
   ]
  },
  {
   "cell_type": "code",
   "execution_count": null,
   "metadata": {
    "collapsed": false,
    "deletable": true,
    "editable": true
   },
   "outputs": [],
   "source": [
    "print(\"DataFrame\\n\", df)"
   ]
  },
  {
   "cell_type": "code",
   "execution_count": null,
   "metadata": {
    "collapsed": false,
    "deletable": true,
    "editable": true
   },
   "outputs": [],
   "source": [
    "print(pd.pivot_table(df, columns=['Food'], aggfunc=np.sum))"
   ]
  }
 ],
 "metadata": {
  "kernelspec": {
   "display_name": "Python 3",
   "language": "python",
   "name": "python3"
  },
  "language_info": {
   "codemirror_mode": {
    "name": "ipython",
    "version": 3
   },
   "file_extension": ".py",
   "mimetype": "text/x-python",
   "name": "python",
   "nbconvert_exporter": "python",
   "pygments_lexer": "ipython3",
   "version": "3.6.0"
  }
 },
 "nbformat": 4,
 "nbformat_minor": 1
}
