{
 "cells": [
  {
   "cell_type": "markdown",
   "metadata": {
    "deletable": true,
    "editable": true
   },
   "source": [
    "# Chapter 7 : Signal Processing and Time Series"
   ]
  },
  {
   "cell_type": "code",
   "execution_count": null,
   "metadata": {
    "collapsed": false,
    "deletable": true,
    "editable": true
   },
   "outputs": [],
   "source": [
    "import pkgutil as pu\n",
    "import numpy as np\n",
    "import matplotlib as mpl\n",
    "import scipy as sp\n",
    "import pandas as pd\n",
    "import pydoc\n",
    "import matplotlib.pyplot as plt\n",
    "import statsmodels.api as sm\n",
    "from matplotlib.pylab import rcParams\n",
    "rcParams['figure.figsize']=15,6"
   ]
  },
  {
   "cell_type": "markdown",
   "metadata": {
    "collapsed": false,
    "deletable": true,
    "editable": true
   },
   "source": [
    "# Introduction to Time Series"
   ]
  },
  {
   "cell_type": "markdown",
   "metadata": {
    "deletable": true,
    "editable": true
   },
   "source": [
    "## Stationary and non Stationary Time Series"
   ]
  },
  {
   "cell_type": "markdown",
   "metadata": {
    "deletable": true,
    "editable": true
   },
   "source": [
    "### Sunspots data"
   ]
  },
  {
   "cell_type": "code",
   "execution_count": null,
   "metadata": {
    "collapsed": false,
    "deletable": true,
    "editable": true
   },
   "outputs": [],
   "source": [
    "print(sm.datasets.sunspots.NOTE)"
   ]
  },
  {
   "cell_type": "code",
   "execution_count": null,
   "metadata": {
    "collapsed": false,
    "deletable": true,
    "editable": true
   },
   "outputs": [],
   "source": [
    "sunspots_df = sm.datasets.sunspots.load_pandas().data\n",
    "del sunspots_df[\"YEAR\"]\n",
    "sunspots_sa = sunspots_df[\"SUNACTIVITY\"]"
   ]
  },
  {
   "cell_type": "code",
   "execution_count": null,
   "metadata": {
    "collapsed": false,
    "deletable": true,
    "editable": true
   },
   "outputs": [],
   "source": [
    "sunspots_df.head(5)"
   ]
  },
  {
   "cell_type": "code",
   "execution_count": null,
   "metadata": {
    "collapsed": false,
    "deletable": true,
    "editable": true
   },
   "outputs": [],
   "source": [
    "sunspots_df.plot(figsize=(12,8))\n",
    "plt.show()"
   ]
  },
  {
   "cell_type": "markdown",
   "metadata": {
    "deletable": true,
    "editable": true
   },
   "source": [
    "### US Macroeconomic data"
   ]
  },
  {
   "cell_type": "code",
   "execution_count": null,
   "metadata": {
    "collapsed": false,
    "deletable": true,
    "editable": true
   },
   "outputs": [],
   "source": [
    "print(sm.datasets.macrodata.NOTE)"
   ]
  },
  {
   "cell_type": "code",
   "execution_count": null,
   "metadata": {
    "collapsed": true,
    "deletable": true,
    "editable": true
   },
   "outputs": [],
   "source": [
    "macro_df = sm.datasets.macrodata.load_pandas().data"
   ]
  },
  {
   "cell_type": "code",
   "execution_count": null,
   "metadata": {
    "collapsed": false,
    "deletable": true,
    "editable": true
   },
   "outputs": [],
   "source": [
    "macro_df.head(5)"
   ]
  },
  {
   "cell_type": "code",
   "execution_count": null,
   "metadata": {
    "collapsed": true,
    "deletable": true,
    "editable": true
   },
   "outputs": [],
   "source": [
    "macro_df.index = pd.Index(sm.tsa.datetools.dates_from_range('1959Q1', '2009Q3'))\n",
    "macro_cpi = macro_df[\"cpi\"]"
   ]
  },
  {
   "cell_type": "code",
   "execution_count": null,
   "metadata": {
    "collapsed": false,
    "deletable": true,
    "editable": true
   },
   "outputs": [],
   "source": [
    "macro_cpi.plot(figsize=(12,8))\n",
    "plt.show()"
   ]
  },
  {
   "cell_type": "markdown",
   "metadata": {
    "deletable": true,
    "editable": true
   },
   "source": [
    "### Airline dataset"
   ]
  },
  {
   "cell_type": "code",
   "execution_count": null,
   "metadata": {
    "collapsed": false,
    "deletable": true,
    "editable": true
   },
   "outputs": [],
   "source": [
    "airline = pd.Series.from_csv('international-airline-passengers-cleaned.csv', header=0)"
   ]
  },
  {
   "cell_type": "code",
   "execution_count": null,
   "metadata": {
    "collapsed": false,
    "deletable": true,
    "editable": true
   },
   "outputs": [],
   "source": [
    "airline.head(5)"
   ]
  },
  {
   "cell_type": "code",
   "execution_count": null,
   "metadata": {
    "collapsed": false,
    "deletable": true,
    "editable": true
   },
   "outputs": [],
   "source": [
    "airline.plot()\n",
    "plt.show()"
   ]
  },
  {
   "cell_type": "markdown",
   "metadata": {
    "deletable": true,
    "editable": true
   },
   "source": [
    "## Checking Data types"
   ]
  },
  {
   "cell_type": "code",
   "execution_count": null,
   "metadata": {
    "collapsed": false,
    "deletable": true,
    "editable": true
   },
   "outputs": [],
   "source": [
    "print(sunspots_df.dtypes)"
   ]
  },
  {
   "cell_type": "code",
   "execution_count": null,
   "metadata": {
    "collapsed": false,
    "deletable": true,
    "editable": true
   },
   "outputs": [],
   "source": [
    "print(macro_df.dtypes)"
   ]
  },
  {
   "cell_type": "code",
   "execution_count": null,
   "metadata": {
    "collapsed": false,
    "deletable": true,
    "editable": true
   },
   "outputs": [],
   "source": [
    "print(airline.dtypes)"
   ]
  },
  {
   "cell_type": "code",
   "execution_count": null,
   "metadata": {
    "collapsed": false,
    "deletable": true,
    "editable": true
   },
   "outputs": [],
   "source": [
    "print(type(sunspots_df))"
   ]
  },
  {
   "cell_type": "code",
   "execution_count": null,
   "metadata": {
    "collapsed": false,
    "deletable": true,
    "editable": true
   },
   "outputs": [],
   "source": [
    "print(type(macro_df))"
   ]
  },
  {
   "cell_type": "code",
   "execution_count": null,
   "metadata": {
    "collapsed": false,
    "deletable": true,
    "editable": true
   },
   "outputs": [],
   "source": [
    "print(type(macro_cpi))"
   ]
  },
  {
   "cell_type": "code",
   "execution_count": null,
   "metadata": {
    "collapsed": false,
    "deletable": true,
    "editable": true
   },
   "outputs": [],
   "source": [
    "print(type(airline))"
   ]
  },
  {
   "cell_type": "markdown",
   "metadata": {
    "deletable": true,
    "editable": true
   },
   "source": [
    "# Visualize Time Series"
   ]
  },
  {
   "cell_type": "code",
   "execution_count": null,
   "metadata": {
    "collapsed": false,
    "deletable": true,
    "editable": true
   },
   "outputs": [],
   "source": [
    "sunspots_df.plot(style=\"b.\")\n",
    "plt.show()"
   ]
  },
  {
   "cell_type": "code",
   "execution_count": null,
   "metadata": {
    "collapsed": false,
    "deletable": true,
    "editable": true
   },
   "outputs": [],
   "source": [
    "macro_cpi.plot(style=\"r.\")\n",
    "plt.show()"
   ]
  },
  {
   "cell_type": "code",
   "execution_count": null,
   "metadata": {
    "collapsed": false,
    "deletable": true,
    "editable": true
   },
   "outputs": [],
   "source": [
    "macro_df.plot(style=[\"b.\",\"r.\",\"g.\"])\n",
    "plt.show()"
   ]
  },
  {
   "cell_type": "code",
   "execution_count": null,
   "metadata": {
    "collapsed": false,
    "deletable": true,
    "editable": true
   },
   "outputs": [],
   "source": [
    "airline.plot(style=\"g.\")\n",
    "plt.show()"
   ]
  },
  {
   "cell_type": "code",
   "execution_count": null,
   "metadata": {
    "collapsed": false,
    "deletable": true,
    "editable": true
   },
   "outputs": [],
   "source": [
    "sunspots_df.plot(kind=\"kde\")\n",
    "plt.show()"
   ]
  },
  {
   "cell_type": "code",
   "execution_count": null,
   "metadata": {
    "collapsed": false,
    "deletable": true,
    "editable": true
   },
   "outputs": [],
   "source": [
    "macro_cpi.plot(kind=\"kde\")\n",
    "plt.show()"
   ]
  },
  {
   "cell_type": "code",
   "execution_count": null,
   "metadata": {
    "collapsed": false,
    "deletable": true,
    "editable": true
   },
   "outputs": [],
   "source": [
    "macro_df.plot(kind=\"kde\")\n",
    "plt.show()"
   ]
  },
  {
   "cell_type": "code",
   "execution_count": null,
   "metadata": {
    "collapsed": false,
    "deletable": true,
    "editable": true
   },
   "outputs": [],
   "source": [
    "airline.plot(kind=\"kde\")\n",
    "plt.show()"
   ]
  },
  {
   "cell_type": "code",
   "execution_count": null,
   "metadata": {
    "collapsed": false,
    "deletable": true,
    "editable": true
   },
   "outputs": [],
   "source": [
    "sunspots_df.hist()\n",
    "plt.show()"
   ]
  },
  {
   "cell_type": "code",
   "execution_count": null,
   "metadata": {
    "collapsed": false,
    "deletable": true,
    "editable": true
   },
   "outputs": [],
   "source": [
    "macro_cpi.hist()\n",
    "plt.show()"
   ]
  },
  {
   "cell_type": "code",
   "execution_count": null,
   "metadata": {
    "collapsed": false,
    "deletable": true,
    "editable": true
   },
   "outputs": [],
   "source": [
    "macro_df.hist()\n",
    "plt.show()"
   ]
  },
  {
   "cell_type": "code",
   "execution_count": null,
   "metadata": {
    "collapsed": false,
    "deletable": true,
    "editable": true
   },
   "outputs": [],
   "source": [
    "macro_df.hist(layout=(7,2),figsize=(12,20))\n",
    "plt.show()"
   ]
  },
  {
   "cell_type": "code",
   "execution_count": null,
   "metadata": {
    "collapsed": false,
    "deletable": true,
    "editable": true
   },
   "outputs": [],
   "source": [
    "airline.hist()\n",
    "plt.show()"
   ]
  },
  {
   "cell_type": "code",
   "execution_count": null,
   "metadata": {
    "collapsed": false
   },
   "outputs": [],
   "source": [
    "pd.tools.plotting.lag_plot(sunspots_df)\n",
    "plt.show()"
   ]
  },
  {
   "cell_type": "code",
   "execution_count": null,
   "metadata": {
    "collapsed": false
   },
   "outputs": [],
   "source": [
    "pd.tools.plotting.lag_plot(macro_cpi)\n",
    "plt.show()"
   ]
  },
  {
   "cell_type": "code",
   "execution_count": null,
   "metadata": {
    "collapsed": false
   },
   "outputs": [],
   "source": [
    "pd.tools.plotting.lag_plot(airline)\n",
    "plt.show()"
   ]
  },
  {
   "cell_type": "markdown",
   "metadata": {
    "deletable": true,
    "editable": true
   },
   "source": [
    "# Check stationarity"
   ]
  },
  {
   "cell_type": "markdown",
   "metadata": {
    "deletable": true,
    "editable": true
   },
   "source": [
    "## Dickey-Fuller Test\n",
    "### Null Hypothesis (H0): If accepted, it suggests the time series has a unit root, meaning it is non-stationary. It has some time dependent structure.\n",
    "### Alternate Hypothesis (H1): The null hypothesis is rejected; it suggests the time series does not have a unit root, meaning it is stationary. It does not have time-dependent structure."
   ]
  },
  {
   "cell_type": "code",
   "execution_count": null,
   "metadata": {
    "collapsed": false,
    "deletable": true,
    "editable": true
   },
   "outputs": [],
   "source": [
    "from statsmodels.tsa.stattools import adfuller\n",
    "def test_stationarity(timeseries):\n",
    "    \n",
    "    #Determing rolling statistics\n",
    "    rolmean = timeseries.rolling(window=12,center=False).mean()\n",
    "    rolstd = timeseries.rolling(window=12,center=False).std()\n",
    "    \n",
    "    #Plot rolling statistics:\n",
    "    orig = plt.plot(timeseries, color='blue',label='Original')\n",
    "    mean = plt.plot(rolmean, color='red', label='Rolling Mean')\n",
    "    std = plt.plot(rolstd, color='black', label = 'Rolling Std')\n",
    "    plt.legend(loc='best')\n",
    "    plt.title('Rolling Mean & Standard Deviation')\n",
    "    plt.show(block=False)\n",
    "    \n",
    "    #Perform Dickey-Fuller test:\n",
    "    print('Results of Dickey-Fuller Test:')\n",
    "    dftest = adfuller(timeseries, autolag='AIC')\n",
    "    dfoutput = pd.Series(dftest[0:4], index=['Test Statistic','p-value','#Lags Used','Number of Observations Used'])\n",
    "    for key,value in dftest[4].items():\n",
    "        dfoutput['Critical Value (%s)'%key] = value\n",
    "    print(dfoutput)"
   ]
  },
  {
   "cell_type": "code",
   "execution_count": null,
   "metadata": {
    "collapsed": false,
    "deletable": true,
    "editable": true
   },
   "outputs": [],
   "source": [
    "test_stationarity(sunspots_sa)"
   ]
  },
  {
   "cell_type": "code",
   "execution_count": null,
   "metadata": {
    "collapsed": false,
    "deletable": true,
    "editable": true
   },
   "outputs": [],
   "source": [
    "test_stationarity(macro_cpi)"
   ]
  },
  {
   "cell_type": "code",
   "execution_count": null,
   "metadata": {
    "collapsed": false,
    "deletable": true,
    "editable": true
   },
   "outputs": [],
   "source": [
    "test_stationarity(airline)"
   ]
  },
  {
   "cell_type": "code",
   "execution_count": null,
   "metadata": {
    "collapsed": true,
    "deletable": true,
    "editable": true
   },
   "outputs": [],
   "source": [
    "airline_log = np.log(airline)"
   ]
  },
  {
   "cell_type": "code",
   "execution_count": null,
   "metadata": {
    "collapsed": false,
    "deletable": true,
    "editable": true
   },
   "outputs": [],
   "source": [
    "test_stationarity(airline_log)"
   ]
  },
  {
   "cell_type": "markdown",
   "metadata": {
    "deletable": true,
    "editable": true
   },
   "source": [
    "# Decomposing TimeSeries"
   ]
  },
  {
   "cell_type": "markdown",
   "metadata": {
    "deletable": true,
    "editable": true
   },
   "source": [
    "## Multiplicative Model : y(t) = Level * Trend * Seasonality * Noise"
   ]
  },
  {
   "cell_type": "code",
   "execution_count": null,
   "metadata": {
    "collapsed": false,
    "deletable": true,
    "editable": true
   },
   "outputs": [],
   "source": [
    "from statsmodels.tsa.seasonal import seasonal_decompose\n",
    "result = seasonal_decompose(airline, model='multiplicative')\n",
    "result.plot()\n",
    "plt.show()"
   ]
  },
  {
   "cell_type": "markdown",
   "metadata": {
    "deletable": true,
    "editable": true
   },
   "source": [
    "## Additive Model : y(t) = Level + Trend + Seasonality + Noise"
   ]
  },
  {
   "cell_type": "code",
   "execution_count": null,
   "metadata": {
    "collapsed": false,
    "deletable": true,
    "editable": true
   },
   "outputs": [],
   "source": [
    "from statsmodels.tsa.seasonal import seasonal_decompose\n",
    "result = seasonal_decompose(macro_cpi, model='additive')\n",
    "result.plot()\n",
    "plt.show()"
   ]
  },
  {
   "cell_type": "markdown",
   "metadata": {
    "deletable": true,
    "editable": true
   },
   "source": [
    "# Smoothing with moving average"
   ]
  },
  {
   "cell_type": "code",
   "execution_count": null,
   "metadata": {
    "collapsed": false,
    "deletable": true,
    "editable": true
   },
   "outputs": [],
   "source": [
    "plt.plot(sunspots_sa, label=\"Original\")\n",
    "plt.plot(sunspots_sa.rolling(window=11).mean(), label=\"SMA 11\")\n",
    "plt.plot(sunspots_sa.rolling(window=22).mean(), label=\"SMA 22\")\n",
    "plt.legend()\n",
    "plt.show()"
   ]
  },
  {
   "cell_type": "code",
   "execution_count": null,
   "metadata": {
    "collapsed": false,
    "deletable": true,
    "editable": true
   },
   "outputs": [],
   "source": [
    "plt.plot(airline, label=\"Original\")\n",
    "plt.plot(airline.rolling(window=11).mean(), label=\"SMA 11\")\n",
    "plt.plot(airline.rolling(window=22).mean(), label=\"SMA 22\")\n",
    "plt.legend()\n",
    "plt.show()"
   ]
  },
  {
   "cell_type": "code",
   "execution_count": null,
   "metadata": {
    "collapsed": false,
    "deletable": true,
    "editable": true
   },
   "outputs": [],
   "source": [
    "df = pd.DataFrame({'SUNACTIVITY':sunspots_df['SUNACTIVITY']})\n",
    "ax = df.plot()\n",
    "\n",
    "def plot_window(win_type):\n",
    "    df2 = df.rolling(window=11, win_type=win_type).mean()\n",
    "    df2.columns = [win_type]\n",
    "    df2.plot(ax=ax)\n",
    "\n",
    "plot_window('boxcar')\n",
    "plot_window('triang')\n",
    "plot_window('blackman')\n",
    "plot_window('hanning')\n",
    "plot_window('bartlett')\n",
    "plt.show()\n",
    "\n",
    "ax = df.plot()\n",
    "\n",
    "def plot_window(win_type):\n",
    "    df2 = df.rolling(window=22, win_type=win_type).mean()\n",
    "    df2.columns = [win_type]\n",
    "    df2.plot(ax=ax)\n",
    "\n",
    "plot_window('boxcar')\n",
    "plot_window('triang')\n",
    "plot_window('blackman')\n",
    "plot_window('hanning')\n",
    "plot_window('bartlett')\n",
    "plt.show()"
   ]
  },
  {
   "cell_type": "markdown",
   "metadata": {
    "deletable": true,
    "editable": true
   },
   "source": [
    "# Cointegration"
   ]
  },
  {
   "cell_type": "code",
   "execution_count": null,
   "metadata": {
    "collapsed": false,
    "deletable": true,
    "editable": true
   },
   "outputs": [],
   "source": [
    "import statsmodels.api as sm\n",
    "from pandas.stats.moments import rolling_window\n",
    "import pandas as pd\n",
    "import statsmodels.tsa.stattools as ts\n",
    "import numpy as np\n",
    "\n",
    "def calc_adf(x, y):\n",
    "    result = sm.OLS(x, y).fit()    \n",
    "    return ts.adfuller(result.resid)\n",
    "\n",
    "data_loader = sm.datasets.sunspots.load_pandas()\n",
    "data = data_loader.data.values\n",
    "N = len(data)\n",
    "\n",
    "t = np.linspace(-2 * np.pi, 2 * np.pi, N)\n",
    "sine = np.sin(np.sin(t))\n",
    "print(\"Self ADF\", calc_adf(sine, sine))\n",
    "\n",
    "noise = np.random.normal(0, .01, N)\n",
    "print(\"ADF sine with noise\", calc_adf(sine, sine + noise))\n",
    "\n",
    "cosine = 100 * np.cos(t) + 10\n",
    "print(\"ADF sine vs cosine with noise\", calc_adf(sine, cosine + noise))\n",
    "\n",
    "print(\"Sine vs sunspots\", calc_adf(sine, data))"
   ]
  },
  {
   "cell_type": "markdown",
   "metadata": {
    "deletable": true,
    "editable": true
   },
   "source": [
    "# Autocorrelation"
   ]
  },
  {
   "cell_type": "code",
   "execution_count": null,
   "metadata": {
    "collapsed": false,
    "deletable": true,
    "editable": true
   },
   "outputs": [],
   "source": [
    "import numpy as np\n",
    "import pandas as pd\n",
    "import statsmodels.api as sm\n",
    "import matplotlib.pyplot as plt\n",
    "from pandas.tools.plotting import autocorrelation_plot\n",
    "\n",
    "data_loader = sm.datasets.sunspots.load_pandas()\n",
    "data = data_loader.data[\"SUNACTIVITY\"].values\n",
    "y = data - np.mean(data)\n",
    "norm = np.sum(y ** 2)\n",
    "correlated = np.correlate(y, y, mode='full')/norm\n",
    "res = correlated[int(len(correlated)/2):]\n",
    "\n",
    "print(np.argsort(res)[-5:])\n",
    "plt.plot(res)\n",
    "plt.grid(True)\n",
    "plt.xlabel(\"Lag\")\n",
    "plt.ylabel(\"Autocorrelation\")\n",
    "plt.show()\n",
    "autocorrelation_plot(data)\n",
    "plt.show()"
   ]
  },
  {
   "cell_type": "markdown",
   "metadata": {
    "deletable": true,
    "editable": true
   },
   "source": [
    "# Autoregressive models"
   ]
  },
  {
   "cell_type": "code",
   "execution_count": null,
   "metadata": {
    "collapsed": false,
    "deletable": true,
    "editable": true
   },
   "outputs": [],
   "source": [
    "from scipy.optimize import leastsq\n",
    "import statsmodels.api as sm\n",
    "import matplotlib.pyplot as plt\n",
    "import numpy as np\n",
    "\n",
    "def model(p, x1, x10):\n",
    "   p1, p10 = p\n",
    "   return p1 * x1 + p10 * x10\n",
    "\n",
    "def error(p, data, x1, x10):\n",
    "   return data - model(p, x1, x10)\n",
    "\n",
    "def fit(data):\n",
    "   p0 = [.5, 0.5]\n",
    "   params = leastsq(error, p0, args=(data[10:], data[9:-1], \n",
    "data[:-10]))[0]\n",
    "   return params\n",
    "\n",
    "data_loader = sm.datasets.sunspots.load_pandas()\n",
    "sunspots = data_loader.data[\"SUNACTIVITY\"].values\n",
    "\n",
    "cutoff = int(.9 * len(sunspots))\n",
    "params = fit(sunspots[:cutoff])\n",
    "print(\"Params\", params)\n",
    "\n",
    "pred = params[0] * sunspots[cutoff-1:-1] + params[1] * sunspots[cutoff-10:-10]\n",
    "actual = sunspots[cutoff:]\n",
    "print(\"Root mean square error\", np.sqrt(np.mean((actual - pred) ** 2)))\n",
    "print(\"Mean absolute error\", np.mean(np.abs(actual - pred)))\n",
    "print(\"Mean absolute percentage error\", 100 * \n",
    "np.mean(np.abs(actual - pred)/actual))\n",
    "mid = (actual + pred)/2\n",
    "print(\"Symmetric Mean absolute percentage error\", 100 * \n",
    "np.mean(np.abs(actual - pred)/mid))\n",
    "print(\"Coefficient of determination\", 1 - ((actual - pred) ** \n",
    "2).sum()/ ((actual - actual.mean()) ** 2).sum())\n",
    "year_range = data_loader.data[\"YEAR\"].values[cutoff:]\n",
    "plt.plot(year_range, actual, 'o', label=\"Sunspots\")\n",
    "plt.plot(year_range, pred, 'x', label=\"Prediction\")\n",
    "plt.grid(True)\n",
    "plt.xlabel(\"YEAR\")\n",
    "plt.ylabel(\"SUNACTIVITY\")\n",
    "plt.legend()\n",
    "plt.show()"
   ]
  },
  {
   "cell_type": "markdown",
   "metadata": {
    "deletable": true,
    "editable": true
   },
   "source": [
    "# ARMA models"
   ]
  },
  {
   "cell_type": "code",
   "execution_count": null,
   "metadata": {
    "collapsed": false,
    "deletable": true,
    "editable": true
   },
   "outputs": [],
   "source": [
    "import pandas as pd\n",
    "import matplotlib.pyplot as plt\n",
    "import statsmodels.api as sm\n",
    "import datetime\n",
    "\n",
    "data_loader = sm.datasets.sunspots.load_pandas()\n",
    "df = data_loader.data\n",
    "years = df[\"YEAR\"].values.astype(int)\n",
    "df.index = pd.Index(sm.tsa.datetools.dates_from_range(str(years[0]), \n",
    "str(years[-1])))\n",
    "del df[\"YEAR\"]\n",
    "\n",
    "model = sm.tsa.ARMA(df, (10,1)).fit()\n",
    "prediction = model.predict('1975', str(years[-1]), dynamic=True)\n",
    "\n",
    "df['1975':].plot()\n",
    "prediction.plot(style='--', label='Prediction')\n",
    "plt.legend()\n",
    "plt.show()"
   ]
  },
  {
   "cell_type": "markdown",
   "metadata": {
    "deletable": true,
    "editable": true
   },
   "source": [
    "# Periodc signals"
   ]
  },
  {
   "cell_type": "code",
   "execution_count": null,
   "metadata": {
    "collapsed": false,
    "deletable": true,
    "editable": true
   },
   "outputs": [],
   "source": [
    "from scipy.optimize import leastsq\n",
    "import statsmodels.api as sm\n",
    "import matplotlib.pyplot as plt\n",
    "import numpy as np\n",
    "def model(p, t):\n",
    "   C, p1, f1, phi1 , p2, f2, phi2, p3, f3, phi3 = p\n",
    "   return C + p1 * np.sin(f1 * t + phi1) + p2 * np.sin(f2 * t + \n",
    "phi2) +p3 * np.sin(f3 * t + phi3)\n",
    "\n",
    "\n",
    "def error(p, y, t):\n",
    "   return y - model(p, t)\n",
    "\n",
    "def fit(y, t):\n",
    "   p0 = [y.mean(), 0, 2 * np.pi/11, 0, 0, 2 * np.pi/22, 0, 0, 2 * \n",
    "np.pi/100, 0]\n",
    "   params = leastsq(error, p0, args=(y, t))[0]\n",
    "   return params\n",
    "\n",
    "data_loader = sm.datasets.sunspots.load_pandas()\n",
    "sunspots = data_loader.data[\"SUNACTIVITY\"].values\n",
    "years = data_loader.data[\"YEAR\"].values\n",
    "\n",
    "cutoff = int(.9 * len(sunspots))\n",
    "params = fit(sunspots[:cutoff], years[:cutoff])\n",
    "print(\"Params\", params)\n",
    "\n",
    "pred = model(params, years[cutoff:])\n",
    "actual = sunspots[cutoff:]\n",
    "print(\"Root mean square error\", np.sqrt(np.mean((actual - pred) ** \n",
    "2)))\n",
    "print(\"Mean absolute error\", np.mean(np.abs(actual - pred)))\n",
    "print(\"Mean absolute percentage error\", 100 * \n",
    "np.mean(np.abs(actual - pred)/actual))\n",
    "mid = (actual + pred)/2\n",
    "print(\"Symmetric Mean absolute percentage error\", 100 * \n",
    "np.mean(np.abs(actual - pred)/mid))\n",
    "print(\"Coefficient of determination\", 1 - ((actual - pred) ** \n",
    "2).sum()/ ((actual - actual.mean()) ** 2).sum())\n",
    "year_range = data_loader.data[\"YEAR\"].values[cutoff:]\n",
    "plt.plot(year_range, actual, 'o', label=\"Sunspots\")\n",
    "plt.plot(year_range, pred, 'x', label=\"Prediction\")\n",
    "plt.grid(True)\n",
    "plt.xlabel(\"YEAR\")\n",
    "plt.ylabel(\"SUNACTIVITY\")\n",
    "plt.legend()\n",
    "plt.show()"
   ]
  },
  {
   "cell_type": "markdown",
   "metadata": {
    "deletable": true,
    "editable": true
   },
   "source": [
    "# Fourier Analysis"
   ]
  },
  {
   "cell_type": "code",
   "execution_count": null,
   "metadata": {
    "collapsed": false,
    "deletable": true,
    "editable": true
   },
   "outputs": [],
   "source": [
    "import numpy as np\n",
    "import statsmodels.api as sm\n",
    "import matplotlib.pyplot as plt\n",
    "from scipy.fftpack import rfft\n",
    "from scipy.fftpack import fftshift\n",
    "\n",
    "data_loader = sm.datasets.sunspots.load_pandas()\n",
    "sunspots = data_loader.data[\"SUNACTIVITY\"].values\n",
    "\n",
    "t = np.linspace(-2 * np.pi, 2 * np.pi, len(sunspots))\n",
    "mid = np.ptp(sunspots)/2\n",
    "sine = mid + mid * np.sin(np.sin(t))\n",
    "\n",
    "sine_fft = np.abs(fftshift(rfft(sine)))\n",
    "print(\"Index of max sine FFT\", np.argsort(sine_fft)[-5:])\n",
    "\n",
    "transformed = np.abs(fftshift(rfft(sunspots)))\n",
    "print(\"Indices of max sunspots FFT\", np.argsort(transformed)[-5:])\n",
    "\n",
    "plt.subplot(311)\n",
    "plt.plot(sunspots, label=\"Sunspots\")\n",
    "plt.plot(sine, lw=2, label=\"Sine\")\n",
    "plt.grid(True)\n",
    "plt.legend()\n",
    "plt.subplot(312)\n",
    "plt.plot(transformed, label=\"Transformed Sunspots\")\n",
    "plt.grid(True)\n",
    "plt.legend()\n",
    "plt.subplot(313)\n",
    "plt.plot(sine_fft, lw=2, label=\"Transformed Sine\")\n",
    "plt.grid(True)\n",
    "plt.legend()\n",
    "plt.show()"
   ]
  },
  {
   "cell_type": "markdown",
   "metadata": {
    "deletable": true,
    "editable": true
   },
   "source": [
    "# Spectral Analysis"
   ]
  },
  {
   "cell_type": "code",
   "execution_count": null,
   "metadata": {
    "collapsed": false,
    "deletable": true,
    "editable": true
   },
   "outputs": [],
   "source": [
    "import numpy as np\n",
    "import statsmodels.api as sm\n",
    "import matplotlib.pyplot as plt\n",
    "from scipy.fftpack import rfft\n",
    "from scipy.fftpack import fftshift\n",
    "\n",
    "data_loader = sm.datasets.sunspots.load_pandas()\n",
    "sunspots = data_loader.data[\"SUNACTIVITY\"].values\n",
    "\n",
    "transformed = fftshift(rfft(sunspots))\n",
    "\n",
    "plt.subplot(311)\n",
    "plt.plot(sunspots, label=\"Sunspots\")\n",
    "plt.legend()\n",
    "plt.subplot(312)\n",
    "plt.plot(transformed ** 2, label=\"Power Spectrum\")\n",
    "plt.legend()\n",
    "plt.subplot(313)\n",
    "plt.plot(np.angle(transformed), label=\"Phase Spectrum\")\n",
    "plt.grid(True)\n",
    "plt.legend()\n",
    "plt.show()"
   ]
  },
  {
   "cell_type": "markdown",
   "metadata": {
    "deletable": true,
    "editable": true
   },
   "source": [
    "# Filtering"
   ]
  },
  {
   "cell_type": "code",
   "execution_count": null,
   "metadata": {
    "collapsed": false,
    "deletable": true,
    "editable": true
   },
   "outputs": [],
   "source": [
    "import statsmodels.api as sm\n",
    "import matplotlib.pyplot as plt\n",
    "from scipy.signal import medfilt\n",
    "from scipy.signal import wiener\n",
    "from scipy.signal import detrend\n",
    "\n",
    "data_loader = sm.datasets.sunspots.load_pandas()\n",
    "sunspots = data_loader.data[\"SUNACTIVITY\"].values\n",
    "years = data_loader.data[\"YEAR\"].values\n",
    "\n",
    "plt.plot(years, sunspots, label=\"SUNACTIVITY\")\n",
    "plt.plot(years, medfilt(sunspots, 11), lw=2, label=\"Median\")\n",
    "plt.plot(years, wiener(sunspots, 11), '--', lw=2, label=\"Wiener\")\n",
    "plt.plot(years, detrend(sunspots), lw=3, label=\"Detrend\")\n",
    "plt.xlabel(\"YEAR\")\n",
    "plt.grid(True)\n",
    "plt.legend()\n",
    "plt.show()"
   ]
  }
 ],
 "metadata": {
  "kernelspec": {
   "display_name": "Python 3",
   "language": "python",
   "name": "python3"
  },
  "language_info": {
   "codemirror_mode": {
    "name": "ipython",
    "version": 3
   },
   "file_extension": ".py",
   "mimetype": "text/x-python",
   "name": "python",
   "nbconvert_exporter": "python",
   "pygments_lexer": "ipython3",
   "version": "3.6.0"
  }
 },
 "nbformat": 4,
 "nbformat_minor": 2
}
