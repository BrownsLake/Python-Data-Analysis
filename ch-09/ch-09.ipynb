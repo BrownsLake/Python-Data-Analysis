{
 "cells": [
  {
   "cell_type": "markdown",
   "metadata": {
    "deletable": true,
    "editable": true
   },
   "source": [
    "# Import nltk"
   ]
  },
  {
   "cell_type": "code",
   "execution_count": 1,
   "metadata": {
    "collapsed": true,
    "deletable": true,
    "editable": true
   },
   "outputs": [],
   "source": [
    "import nltk\n",
    "%matplotlib inline"
   ]
  },
  {
   "cell_type": "markdown",
   "metadata": {
    "deletable": true,
    "editable": true
   },
   "source": [
    "# Filtering out stopwords, names, and numbers\n"
   ]
  },
  {
   "cell_type": "markdown",
   "metadata": {
    "deletable": true,
    "editable": true
   },
   "source": [
    "## Load English stopwords and print some of the words"
   ]
  },
  {
   "cell_type": "code",
   "execution_count": 2,
   "metadata": {
    "collapsed": false,
    "deletable": true,
    "editable": true
   },
   "outputs": [
    {
     "name": "stdout",
     "output_type": "stream",
     "text": [
      "Stop words: ['their', 'by', 'at', 'here', 'on', 'that', 'with']\n"
     ]
    }
   ],
   "source": [
    "sw = set(nltk.corpus.stopwords.words('english'))\n",
    "print(\"Stop words:\", list(sw)[:7])"
   ]
  },
  {
   "cell_type": "markdown",
   "metadata": {
    "deletable": true,
    "editable": true
   },
   "source": [
    "## Load Gutenberg corpopra and print some of the filenames"
   ]
  },
  {
   "cell_type": "code",
   "execution_count": 3,
   "metadata": {
    "collapsed": false,
    "deletable": true,
    "editable": true
   },
   "outputs": [
    {
     "name": "stdout",
     "output_type": "stream",
     "text": [
      "Gutenberg files:\n",
      " ['milton-paradise.txt', 'shakespeare-caesar.txt', 'shakespeare-hamlet.txt', 'shakespeare-macbeth.txt', 'whitman-leaves.txt']\n"
     ]
    }
   ],
   "source": [
    "gb = nltk.corpus.gutenberg\n",
    "print(\"Gutenberg files:\\n\", gb.fileids()[-5:])"
   ]
  },
  {
   "cell_type": "markdown",
   "metadata": {
    "deletable": true,
    "editable": true
   },
   "source": [
    "## Extract sentences from milton-paradise.txt file"
   ]
  },
  {
   "cell_type": "code",
   "execution_count": 4,
   "metadata": {
    "collapsed": false,
    "deletable": true,
    "editable": true
   },
   "outputs": [
    {
     "name": "stdout",
     "output_type": "stream",
     "text": [
      "Unfiltered: [['[', 'Paradise', 'Lost', 'by', 'John', 'Milton', '1667', ']'], ['Book', 'I']]\n"
     ]
    }
   ],
   "source": [
    "text_sent = gb.sents(\"milton-paradise.txt\")[:2]\n",
    "print(\"Unfiltered:\", text_sent)"
   ]
  },
  {
   "cell_type": "markdown",
   "metadata": {
    "collapsed": true,
    "deletable": true,
    "editable": true
   },
   "source": [
    "## Filter out the stopwords from extracted sentences"
   ]
  },
  {
   "cell_type": "code",
   "execution_count": 5,
   "metadata": {
    "collapsed": false,
    "deletable": true,
    "editable": true
   },
   "outputs": [
    {
     "name": "stdout",
     "output_type": "stream",
     "text": [
      "Filtered:\n",
      " ['[', 'Paradise', 'Lost', 'John', 'Milton', '1667', ']']\n",
      "Tagged:\n",
      " [('[', 'JJ'), ('Paradise', 'NNP'), ('Lost', 'NNP'), ('John', 'NNP'), ('Milton', 'NNP'), ('1667', 'CD'), (']', 'NN')]\n",
      "Words:\n",
      " ['[', ']']\n",
      "Filtered:\n",
      " ['Book']\n",
      "Tagged:\n",
      " [('Book', 'NN')]\n",
      "Words:\n",
      " ['Book']\n"
     ]
    }
   ],
   "source": [
    "for sent in text_sent:\n",
    "    filtered = [w for w in sent if w.lower() not in sw]\n",
    "    print(\"Filtered:\\n\", filtered)\n",
    "    tagged = nltk.pos_tag(filtered)\n",
    "    print(\"Tagged:\\n\", tagged)\n",
    "\n",
    "    words= []\n",
    "    for word in tagged:\n",
    "        if word[1] != 'NNP' and word[1] != 'CD':\n",
    "           words.append(word[0]) \n",
    "\n",
    "    print(\"Words:\\n\",words)"
   ]
  },
  {
   "cell_type": "markdown",
   "metadata": {
    "collapsed": false,
    "deletable": true,
    "editable": true
   },
   "source": [
    "# Bag of words model"
   ]
  },
  {
   "cell_type": "markdown",
   "metadata": {
    "deletable": true,
    "editable": true
   },
   "source": [
    "## Import scikit-learn"
   ]
  },
  {
   "cell_type": "code",
   "execution_count": 6,
   "metadata": {
    "collapsed": false,
    "deletable": true,
    "editable": true
   },
   "outputs": [],
   "source": [
    "import sklearn as sk"
   ]
  },
  {
   "cell_type": "markdown",
   "metadata": {
    "deletable": true,
    "editable": true
   },
   "source": [
    "## Load two documents from NLTK Gutenberg corpus"
   ]
  },
  {
   "cell_type": "code",
   "execution_count": 7,
   "metadata": {
    "collapsed": true,
    "deletable": true,
    "editable": true
   },
   "outputs": [],
   "source": [
    "hamlet = gb.raw(\"shakespeare-hamlet.txt\")\n",
    "macbeth = gb.raw(\"shakespeare-macbeth.txt\")"
   ]
  },
  {
   "cell_type": "markdown",
   "metadata": {
    "deletable": true,
    "editable": true
   },
   "source": [
    "## Create the feature vector by omitting English stopwords"
   ]
  },
  {
   "cell_type": "code",
   "execution_count": 8,
   "metadata": {
    "collapsed": false,
    "deletable": true,
    "editable": true
   },
   "outputs": [
    {
     "name": "stdout",
     "output_type": "stream",
     "text": [
      "Feature vector:\n",
      " [[ 1  0  1 ..., 14  0  1]\n",
      " [ 0  1  0 ...,  1  1  0]]\n"
     ]
    }
   ],
   "source": [
    "cv = sk.feature_extraction.text.CountVectorizer(stop_words='english')\n",
    "print(\"Feature vector:\\n\", cv.fit_transform([hamlet, macbeth]).toarray())"
   ]
  },
  {
   "cell_type": "markdown",
   "metadata": {
    "deletable": true,
    "editable": true
   },
   "source": [
    "## Print a small selection of the features found"
   ]
  },
  {
   "cell_type": "code",
   "execution_count": 9,
   "metadata": {
    "collapsed": false,
    "deletable": true,
    "editable": true
   },
   "outputs": [
    {
     "name": "stdout",
     "output_type": "stream",
     "text": [
      "Features:\n",
      " ['1599', '1603', 'abhominably', 'abhorred', 'abide']\n"
     ]
    }
   ],
   "source": [
    "print(\"Features:\\n\", cv.get_feature_names()[:5])"
   ]
  },
  {
   "cell_type": "markdown",
   "metadata": {
    "deletable": true,
    "editable": true
   },
   "source": [
    "# Analyzing word frequencies"
   ]
  },
  {
   "cell_type": "code",
   "execution_count": 10,
   "metadata": {
    "collapsed": false,
    "deletable": true,
    "editable": true
   },
   "outputs": [
    {
     "name": "stdout",
     "output_type": "stream",
     "text": [
      "Words ['tragedie', 'julius', 'caesar', 'william', 'shakespeare']\n",
      "Counts [2, 1, 190, 1, 1]\n",
      "Max caesar\n",
      "Count 0\n",
      "Bigrams [('tragedie', 'julius'), ('julius', 'caesar'), ('caesar', 'william'), ('william', 'shakespeare'), ('shakespeare', '1599')]\n",
      "Counts [1, 1, 1, 1, 1]\n",
      "Bigram Max ('let', 'vs')\n",
      "Bigram count 16\n"
     ]
    }
   ],
   "source": [
    "import nltk\n",
    "import string\n",
    "\n",
    "\n",
    "gb = nltk.corpus.gutenberg\n",
    "words = gb.words(\"shakespeare-caesar.txt\")\n",
    "\n",
    "sw = set(nltk.corpus.stopwords.words('english'))\n",
    "punctuation = set(string.punctuation)\n",
    "filtered = [w.lower() for w in words if w.lower() not in sw and w.lower() not in punctuation]\n",
    "fd = nltk.FreqDist(filtered)\n",
    "print(\"Words\", list(fd.keys())[:5])\n",
    "print(\"Counts\", list(fd.values())[:5])\n",
    "print(\"Max\", fd.max())\n",
    "print(\"Count\", fd['d'])\n",
    "\n",
    "fd = nltk.FreqDist(nltk.bigrams(filtered))\n",
    "print(\"Bigrams\", list(fd.keys())[:5])\n",
    "print(\"Counts\", list(fd.values())[:5])\n",
    "print(\"Bigram Max\", fd.max())\n",
    "print(\"Bigram count\", fd[('let', 'vs')])"
   ]
  },
  {
   "cell_type": "markdown",
   "metadata": {
    "deletable": true,
    "editable": true
   },
   "source": [
    "# Naive Bayesian"
   ]
  },
  {
   "cell_type": "code",
   "execution_count": 11,
   "metadata": {
    "collapsed": false,
    "deletable": true,
    "editable": true
   },
   "outputs": [
    {
     "name": "stdout",
     "output_type": "stream",
     "text": [
      "[('i', True), ('is', True), ('in', True), ('he', True), ('ambitious', False)]\n",
      "'behold' class False\n",
      "'the' class True\n",
      "Accuracy 0.8521671826625387\n",
      "Most Informative Features\n",
      "                     len = 7               False : True   =     77.8 : 1.0\n",
      "                     len = 6               False : True   =     52.2 : 1.0\n",
      "                     len = 1                True : False  =     51.8 : 1.0\n",
      "                     len = 2                True : False  =     10.9 : 1.0\n",
      "                     len = 5               False : True   =     10.9 : 1.0\n",
      "None\n"
     ]
    }
   ],
   "source": [
    "import nltk\n",
    "import string\n",
    "import random\n",
    "\n",
    "sw = set(nltk.corpus.stopwords.words('english'))\n",
    "punctuation = set(string.punctuation)\n",
    "\n",
    "def word_features(word):\n",
    "   return {'len': len(word)}\n",
    "\n",
    "def isStopword(word):\n",
    "    return word in sw or word in punctuation\n",
    "gb = nltk.corpus.gutenberg\n",
    "words = gb.words(\"shakespeare-caesar.txt\")\n",
    "\n",
    "labeled_words = ([(word.lower(), isStopword(word.lower())) for \n",
    "word in words])\n",
    "random.seed(42)\n",
    "random.shuffle(labeled_words)\n",
    "print(labeled_words[:5])\n",
    "\n",
    "featuresets = [(word_features(n), word) for (n, word) in \n",
    "labeled_words]\n",
    "cutoff = int(.9 * len(featuresets))\n",
    "train_set, test_set = featuresets[:cutoff], featuresets[cutoff:]\n",
    "classifier = nltk.NaiveBayesClassifier.train(train_set)\n",
    "print(\"'behold' class\", classifier.classify(word_features('behold')))\n",
    "print(\"'the' class\", classifier.classify(word_features('the')))\n",
    "\n",
    "print(\"Accuracy\", nltk.classify.accuracy(classifier, test_set))\n",
    "print(classifier.show_most_informative_features(5))"
   ]
  },
  {
   "cell_type": "markdown",
   "metadata": {
    "deletable": true,
    "editable": true
   },
   "source": [
    "# Sentiment Analysis"
   ]
  },
  {
   "cell_type": "code",
   "execution_count": 12,
   "metadata": {
    "collapsed": false,
    "deletable": true,
    "editable": true
   },
   "outputs": [
    {
     "name": "stdout",
     "output_type": "stream",
     "text": [
      "# Review Words 1583820\n",
      "# After filter 710579\n",
      "Accuracy 0.765\n",
      "Most Informative Features\n",
      "      count (apparently) = 2                 neg : pos    =     12.0 : 1.0\n",
      "          count (stupid) = 2                 neg : pos    =     11.1 : 1.0\n",
      "          count (boring) = 2                 neg : pos    =     10.7 : 1.0\n",
      "             count (bad) = 5                 neg : pos    =     10.0 : 1.0\n",
      "            count (best) = 4                 pos : neg    =      9.9 : 1.0\n",
      "          count (anyway) = 2                 neg : pos    =      8.1 : 1.0\n",
      "          count (wilson) = 1                 neg : pos    =      8.0 : 1.0\n",
      "             count (bad) = 6                 neg : pos    =      7.4 : 1.0\n",
      "   count (unimaginative) = 1                 neg : pos    =      7.4 : 1.0\n",
      "       count (animation) = 3                 pos : neg    =      7.2 : 1.0\n",
      "None\n"
     ]
    }
   ],
   "source": [
    "import random\n",
    "from nltk.corpus import movie_reviews\n",
    "from nltk.corpus import stopwords\n",
    "from nltk import FreqDist\n",
    "from nltk import NaiveBayesClassifier\n",
    "from nltk.classify import accuracy\n",
    "import string\n",
    "\n",
    "labeled_docs = [(list(movie_reviews.words(fid)), cat)\n",
    "        for cat in movie_reviews.categories()\n",
    "        for fid in movie_reviews.fileids(cat)]\n",
    "random.seed(42)\n",
    "random.shuffle(labeled_docs)\n",
    "\n",
    "review_words = movie_reviews.words()\n",
    "print(\"# Review Words\", len(review_words))\n",
    "\n",
    "sw = set(stopwords.words('english'))\n",
    "punctuation = set(string.punctuation)\n",
    "\n",
    "def isStopWord(word):\n",
    "    return word in sw or word in punctuation\n",
    "\n",
    "filtered = [w.lower() for w in review_words if not isStopWord(w.lower())]\n",
    "print(\"# After filter\", len(filtered))\n",
    "words = FreqDist(filtered)\n",
    "N = int(.05 * len(words.keys()))\n",
    "word_features = list(words.keys())[:N]\n",
    "\n",
    "def doc_features(doc):\n",
    "    doc_words = FreqDist(w for w in doc if not isStopWord(w))\n",
    "    features = {}\n",
    "    for word in word_features:\n",
    "        features['count (%s)' % word] = (doc_words.get(word, 0))\n",
    "    return features\n",
    "\n",
    "featuresets = [(doc_features(d), c) for (d,c) in labeled_docs]\n",
    "train_set, test_set = featuresets[200:], featuresets[:200]\n",
    "classifier = NaiveBayesClassifier.train(train_set)\n",
    "print(\"Accuracy\", accuracy(classifier, test_set))\n",
    "\n",
    "print(classifier.show_most_informative_features())"
   ]
  },
  {
   "cell_type": "markdown",
   "metadata": {
    "deletable": true,
    "editable": true
   },
   "source": [
    "# Creating Word Clouds"
   ]
  },
  {
   "cell_type": "code",
   "execution_count": 13,
   "metadata": {
    "collapsed": false,
    "deletable": true,
    "editable": true
   },
   "outputs": [
    {
     "name": "stdout",
     "output_type": "stream",
     "text": [
      "plot : 1513\n",
      "two : 1911\n",
      "teen : 151\n",
      "couples : 27\n",
      "go : 1113\n",
      "church : 69\n",
      "party : 183\n",
      "drink : 32\n",
      "drive : 105\n",
      "get : 1949\n",
      "accident : 104\n",
      "one : 5852\n",
      "guys : 268\n",
      "dies : 104\n",
      "girlfriend : 218\n",
      "continues : 88\n",
      "see : 1749\n",
      "life : 1586\n",
      "nightmares : 26\n",
      "deal : 219\n",
      "watch : 603\n",
      "movie : 5771\n",
      "sorta : 10\n",
      "find : 782\n",
      "critique : 61\n",
      "mind : 451\n",
      "fuck : 17\n",
      "generation : 96\n",
      "touches : 55\n",
      "cool : 208\n",
      "idea : 386\n",
      "presents : 78\n",
      "bad : 1395\n",
      "package : 30\n",
      "makes : 992\n",
      "review : 295\n",
      "even : 2565\n",
      "harder : 33\n",
      "write : 119\n",
      "since : 768\n",
      "generally : 103\n",
      "applaud : 10\n",
      "films : 1536\n",
      "attempt : 263\n",
      "break : 175\n",
      "mold : 14\n",
      "mess : 159\n",
      "head : 387\n",
      "lost : 409\n",
      "highway : 28\n",
      "memento : 10\n",
      "good : 2411\n",
      "ways : 189\n",
      "making : 602\n",
      "types : 48\n",
      "folks : 74\n",
      "snag : 2\n",
      "correctly : 17\n",
      "seem : 574\n",
      "taken : 225\n",
      "pretty : 528\n",
      "neat : 32\n",
      "concept : 114\n",
      "executed : 46\n",
      "terribly : 58\n",
      "problems : 293\n",
      "well : 1906\n",
      "main : 399\n",
      "problem : 396\n",
      "simply : 428\n",
      "jumbled : 12\n",
      "starts : 316\n",
      "normal : 111\n",
      "downshifts : 2\n",
      "fantasy : 97\n",
      "world : 1037\n",
      "audience : 914\n",
      "member : 126\n",
      "going : 888\n",
      "dreams : 131\n",
      "characters : 1859\n",
      "coming : 275\n",
      "back : 1060\n",
      "dead : 418\n",
      "others : 288\n",
      "look : 835\n",
      "like : 3690\n",
      "strange : 185\n",
      "apparitions : 5\n",
      "disappearances : 3\n",
      "looooot : 1\n",
      "chase : 159\n",
      "scenes : 1274\n",
      "tons : 21\n",
      "weird : 100\n",
      "things : 852\n",
      "happen : 220\n",
      "explained : 70\n",
      "personally : 44\n",
      "trying : 566\n",
      "unravel : 9\n",
      "film : 9517\n",
      "every : 947\n",
      "give : 561\n",
      "clue : 45\n",
      "kind : 559\n",
      "fed : 29\n",
      "biggest : 149\n",
      "obviously : 228\n",
      "got : 470\n",
      "big : 1064\n",
      "secret : 184\n",
      "hide : 40\n",
      "seems : 1033\n",
      "want : 560\n",
      "completely : 440\n",
      "final : 380\n",
      "five : 284\n",
      "minutes : 644\n",
      "make : 1642\n",
      "entertaining : 314\n",
      "thrilling : 46\n",
      "engaging : 79\n",
      "meantime : 19\n",
      "really : 1558\n",
      "sad : 108\n",
      "part : 714\n",
      "arrow : 29\n",
      "dig : 19\n",
      "flicks : 81\n",
      "actually : 837\n",
      "figured : 29\n",
      "half : 535\n",
      "way : 1693\n",
      "point : 685\n",
      "strangeness : 6\n",
      "start : 312\n",
      "little : 1501\n",
      "bit : 568\n",
      "sense : 555\n",
      "still : 1047\n",
      "guess : 226\n",
      "bottom : 93\n",
      "line : 435\n",
      "movies : 1206\n",
      "always : 586\n",
      "sure : 523\n",
      "given : 502\n",
      "password : 4\n",
      "enter : 68\n",
      "understanding : 57\n",
      "mean : 242\n",
      "showing : 147\n",
      "melissa : 12\n",
      "sagemiller : 8\n",
      "running : 323\n",
      "away : 655\n",
      "visions : 31\n",
      "20 : 98\n",
      "throughout : 302\n",
      "plain : 82\n",
      "lazy : 34\n",
      "okay : 125\n",
      "people : 1455\n",
      "chasing : 43\n",
      "know : 1217\n",
      "need : 316\n",
      "giving : 214\n",
      "us : 1073\n",
      "different : 430\n",
      "offering : 38\n",
      "insight : 54\n",
      "apparently : 209\n",
      "studio : 163\n",
      "took : 164\n",
      "director : 1237\n",
      "chopped : 5\n",
      "shows : 410\n",
      "might : 635\n",
      "decent : 164\n",
      "somewhere : 127\n",
      "suits : 45\n",
      "decided : 104\n",
      "turning : 80\n",
      "music : 480\n",
      "video : 322\n",
      "edge : 104\n",
      "would : 2109\n",
      "actors : 706\n",
      "although : 795\n",
      "wes : 50\n",
      "bentley : 9\n",
      "seemed : 212\n",
      "playing : 362\n",
      "exact : 64\n",
      "character : 2020\n",
      "american : 559\n",
      "beauty : 135\n",
      "new : 1292\n",
      "neighborhood : 21\n",
      "kudos : 21\n",
      "holds : 90\n",
      "entire : 408\n",
      "feeling : 225\n",
      "unraveling : 2\n",
      "overall : 160\n",
      "stick : 69\n",
      "entertain : 53\n",
      "confusing : 94\n",
      "rarely : 102\n",
      "excites : 2\n",
      "feels : 216\n",
      "redundant : 14\n",
      "runtime : 8\n",
      "despite : 352\n",
      "ending : 423\n",
      "explanation : 69\n",
      "craziness : 4\n",
      "came : 185\n",
      "oh : 216\n",
      "horror : 473\n",
      "slasher : 84\n",
      "flick : 196\n",
      "packaged : 3\n",
      "someone : 401\n",
      "assuming : 15\n",
      "genre : 268\n",
      "hot : 127\n",
      "kids : 328\n",
      "also : 1967\n",
      "wrapped : 39\n",
      "production : 300\n",
      "years : 846\n",
      "ago : 199\n",
      "sitting : 93\n",
      "shelves : 13\n",
      "ever : 776\n",
      "whatever : 136\n",
      "skip : 45\n",
      "joblo : 30\n",
      "nightmare : 60\n",
      "elm : 14\n",
      "street : 140\n",
      "3 : 222\n",
      "7 : 115\n",
      "10 : 449\n",
      "blair : 98\n",
      "witch : 108\n",
      "2 : 439\n",
      "crow : 55\n",
      "9 : 75\n",
      "salvation : 14\n",
      "4 : 190\n",
      "stir : 27\n",
      "echoes : 31\n",
      "8 : 140\n",
      "happy : 215\n",
      "bastard : 46\n",
      "quick : 139\n",
      "damn : 88\n",
      "y2k : 4\n",
      "bug : 81\n",
      "starring : 184\n",
      "jamie : 42\n",
      "lee : 266\n",
      "curtis : 37\n",
      "another : 1121\n",
      "baldwin : 89\n",
      "brother : 268\n",
      "william : 206\n",
      "time : 2411\n",
      "story : 2169\n",
      "regarding : 31\n",
      "crew : 214\n",
      "tugboat : 2\n",
      "comes : 733\n",
      "across : 221\n",
      "deserted : 21\n",
      "russian : 68\n",
      "tech : 29\n",
      "ship : 264\n",
      "kick : 52\n",
      "power : 238\n",
      "within : 227\n",
      "gore : 110\n",
      "bringing : 81\n",
      "action : 1172\n",
      "sequences : 293\n",
      "virus : 77\n",
      "empty : 67\n",
      "flash : 62\n",
      "substance : 73\n",
      "middle : 222\n",
      "nowhere : 98\n",
      "origin : 8\n",
      "pink : 24\n",
      "flashy : 41\n",
      "thing : 809\n",
      "hit : 285\n",
      "mir : 7\n",
      "course : 648\n",
      "donald : 38\n",
      "sutherland : 39\n",
      "stumbling : 15\n",
      "around : 903\n",
      "drunkenly : 2\n",
      "hey : 70\n",
      "let : 425\n",
      "robots : 27\n",
      "acting : 695\n",
      "average : 119\n",
      "likes : 99\n",
      "likely : 164\n",
      "work : 1020\n",
      "halloween : 60\n",
      "h20 : 7\n",
      "wasted : 118\n",
      "real : 915\n",
      "star : 761\n",
      "stan : 12\n",
      "winston : 4\n",
      "robot : 45\n",
      "design : 87\n",
      "schnazzy : 1\n",
      "cgi : 50\n",
      "occasional : 62\n",
      "shot : 348\n",
      "picking : 28\n",
      "brain : 93\n",
      "body : 269\n",
      "parts : 207\n",
      "turn : 363\n",
      "otherwise : 156\n",
      "much : 2049\n",
      "sunken : 4\n",
      "jaded : 12\n",
      "viewer : 218\n",
      "thankful : 7\n",
      "invention : 11\n",
      "timex : 1\n",
      "indiglo : 1\n",
      "based : 389\n",
      "late : 238\n",
      "1960 : 22\n",
      "television : 220\n",
      "show : 741\n",
      "name : 392\n",
      "mod : 17\n",
      "squad : 40\n",
      "tells : 255\n",
      "tale : 216\n",
      "three : 695\n",
      "reformed : 7\n",
      "criminals : 35\n",
      "employ : 16\n",
      "police : 241\n",
      "undercover : 28\n",
      "however : 989\n",
      "wrong : 385\n",
      "evidence : 66\n",
      "gets : 865\n",
      "stolen : 58\n",
      "immediately : 163\n",
      "suspicion : 19\n",
      "ads : 33\n",
      "cuts : 60\n",
      "claire : 70\n",
      "dane : 5\n",
      "nice : 344\n",
      "hair : 109\n",
      "cute : 134\n",
      "outfits : 21\n",
      "car : 321\n",
      "chases : 50\n",
      "stuff : 208\n",
      "blowing : 26\n",
      "sounds : 133\n",
      "first : 1836\n",
      "fifteen : 64\n",
      "quickly : 255\n",
      "becomes : 526\n",
      "apparent : 100\n",
      "certainly : 361\n",
      "slick : 39\n",
      "looking : 501\n",
      "complete : 197\n",
      "costumes : 71\n",
      "enough : 910\n",
      "best : 1333\n",
      "described : 57\n",
      "cross : 111\n",
      "hour : 355\n",
      "long : 836\n",
      "cop : 208\n",
      "stretched : 19\n"
     ]
    }
   ],
   "source": [
    "from nltk.corpus import movie_reviews\n",
    "from nltk.corpus import stopwords\n",
    "from nltk import FreqDist\n",
    "import string\n",
    "\n",
    "sw = set(stopwords.words('english'))\n",
    "punctuation = set(string.punctuation)\n",
    "\n",
    "def isStopWord(word):\n",
    "    return word in sw or word in punctuation\n",
    "review_words = movie_reviews.words()\n",
    "filtered = [w.lower() for w in review_words if not isStopWord(w.lower())]\n",
    "\n",
    "words = FreqDist(filtered)\n",
    "N = int(.01 * len(words.keys()))\n",
    "tags = list(words.keys())[:N]\n",
    "\n",
    "for tag in tags:\n",
    "    print(tag, ':', words[tag])"
   ]
  },
  {
   "cell_type": "code",
   "execution_count": 14,
   "metadata": {
    "collapsed": false,
    "deletable": true,
    "editable": true
   },
   "outputs": [
    {
     "name": "stdout",
     "output_type": "stream",
     "text": [
      "                 term    tfidf\n",
      "19963  superintendent  0.03035\n",
      "8736            greys  0.03035\n",
      "14010           ology  0.03035\n",
      "2406          briefer  0.03035\n",
      "2791      cannibalize  0.03035\n",
      "matter : 10.1601563202\n",
      "review : 10.1621092081\n",
      "seeing : 10.193962243\n",
      "jokes : 10.1950553877\n",
      "past : 10.2297899787\n",
      "romantic : 10.2707679481\n",
      "directed : 10.2767927509\n",
      "start : 10.3023585092\n",
      "finally : 10.3153850959\n",
      "video : 10.3568976579\n",
      "despite : 10.3635675871\n",
      "ship : 10.3702812117\n",
      "beautiful : 10.4156012661\n",
      "scream : 10.4219706559\n",
      "sequence : 10.4611405404\n",
      "supposed : 10.4736082483\n",
      "shot : 10.4978225322\n",
      "face : 10.5206478465\n",
      "turn : 10.5354660438\n",
      "lives : 10.5362652593\n",
      "later : 10.5365969931\n",
      "tell : 10.5417880402\n",
      "camera : 10.5808706341\n",
      "works : 10.5850019271\n",
      "children : 10.5922993472\n",
      "live : 10.658879764\n",
      "daughter : 10.6854088195\n",
      "earth : 10.6855987888\n",
      "mr : 10.7112802669\n",
      "car : 10.7154922387\n",
      "believe : 10.7249944876\n",
      "maybe : 10.7382959437\n",
      "person : 10.7660437018\n",
      "book : 10.799070875\n",
      "worst : 10.8018088939\n",
      "hand : 10.8159367022\n",
      "named : 10.8180139618\n",
      "game : 10.8638379513\n",
      "fight : 10.8655447767\n",
      "use : 10.8843181711\n",
      "used : 10.955534955\n",
      "killer : 11.0006410305\n",
      "certainly : 11.0015254298\n",
      "begins : 11.070728771\n",
      "perfect : 11.0962423619\n",
      "relationship : 11.1027588499\n",
      "said : 11.1082516014\n",
      "nice : 11.1244249842\n",
      "days : 11.1382933116\n",
      "kids : 11.1814823608\n",
      "called : 11.1924456689\n",
      "run : 11.1987233182\n",
      "playing : 11.2160035892\n",
      "final : 11.2230745776\n",
      "tries : 11.2428719863\n",
      "unfortunately : 11.2958252061\n",
      "group : 11.3269246051\n",
      "comic : 11.389992818\n",
      "left : 11.4383403562\n",
      "entire : 11.4445922828\n",
      "idea : 11.4619293022\n",
      "based : 11.4872142869\n",
      "head : 11.5162961491\n",
      "wrong : 11.5623686056\n",
      "second : 11.5853192338\n",
      "summer : 11.5866867281\n",
      "shows : 11.635225077\n",
      "main : 11.6606718838\n",
      "soon : 11.7112905503\n",
      "true : 11.7541810919\n",
      "turns : 11.8216234406\n",
      "getting : 11.8744461336\n",
      "human : 11.8999239706\n",
      "problem : 11.9962070228\n",
      "written : 12.0060144242\n",
      "hour : 12.0180416259\n",
      "different : 12.1514474657\n",
      "boy : 12.2022914154\n",
      "performances : 12.2394039346\n",
      "house : 12.2519617335\n",
      "simply : 12.2915313477\n",
      "war : 12.297910071\n",
      "mind : 12.3248643567\n",
      "small : 12.3277239332\n",
      "especially : 12.3527833025\n",
      "rest : 12.3590927243\n",
      "tv : 12.3685381571\n",
      "lost : 12.3990342334\n",
      "completely : 12.4350268217\n",
      "looks : 12.4500832891\n",
      "humor : 12.4807413942\n",
      "line : 12.5314636028\n",
      "reason : 12.549615156\n",
      "dead : 12.5507019377\n",
      "friend : 12.5540661064\n",
      "let : 12.557077785\n",
      "thought : 12.6500115849\n",
      "stars : 12.6887907379\n",
      "couple : 12.7315658305\n",
      "alien : 12.8118021552\n",
      "moments : 12.8900945305\n",
      "evil : 12.9091800826\n",
      "wants : 12.9152336645\n",
      "friends : 12.9714556925\n",
      "night : 12.9721188328\n",
      "mother : 13.0698670099\n",
      "given : 13.1636572717\n",
      "ending : 13.2410856063\n",
      "play : 13.2412560414\n",
      "feel : 13.2603558131\n",
      "gives : 13.5419330253\n",
      "got : 13.5812068358\n",
      "watching : 13.6334624794\n",
      "death : 13.6382647724\n",
      "looking : 13.7170905841\n",
      "girl : 13.7285522289\n",
      "instead : 13.7746159818\n",
      "probably : 13.8088139187\n",
      "city : 13.8425784736\n",
      "school : 13.8975938334\n",
      "father : 14.066422069\n",
      "music : 14.0757626482\n",
      "help : 14.1204987291\n",
      "sure : 14.1454806803\n",
      "dialogue : 14.2317686912\n",
      "kind : 14.3999674225\n",
      "black : 14.4477418221\n",
      "actor : 14.5226158727\n",
      "sense : 14.629745462\n",
      "want : 14.725766439\n",
      "pretty : 14.8099404959\n",
      "making : 14.8171171314\n",
      "series : 14.8210816437\n",
      "set : 14.8878199694\n",
      "half : 14.8925118519\n",
      "money : 14.9013551044\n",
      "bit : 14.9342687357\n",
      "home : 14.9765823307\n",
      "place : 15.0499197136\n",
      "trying : 15.1147859904\n",
      "times : 15.1187634788\n",
      "sex : 15.1664194406\n",
      "american : 15.3598105235\n",
      "hard : 15.454208298\n",
      "picture : 15.5065515783\n",
      "woman : 15.6398436198\n",
      "hollywood : 15.6507044787\n",
      "horror : 15.6880471355\n",
      "far : 15.7586030323\n",
      "watch : 15.7816480592\n",
      "fun : 15.7991060342\n",
      "special : 15.8949293672\n",
      "course : 15.9319642298\n",
      "away : 15.9446364796\n",
      "takes : 15.9543057631\n",
      "men : 16.0362330308\n",
      "wife : 16.103810528\n",
      "interesting : 16.110566312\n",
      "screen : 16.3307981698\n",
      "goes : 16.3552143446\n",
      "minutes : 16.5786659892\n",
      "point : 16.593231934\n",
      "quite : 16.7439030211\n",
      "lot : 16.7556321333\n",
      "comes : 16.9451129861\n",
      "high : 16.963334433\n",
      "day : 17.4699319074\n",
      "young : 17.6190749181\n",
      "come : 17.7109510231\n",
      "plays : 17.8252189442\n",
      "actors : 17.8411390617\n",
      "acting : 18.0565561763\n",
      "effects : 18.1564529853\n",
      "fact : 18.3589669641\n",
      "family : 18.4363513243\n",
      "cast : 18.4626529908\n",
      "right : 18.5172147087\n",
      "look : 18.7092867952\n",
      "original : 18.8151426369\n",
      "played : 18.961693282\n",
      "years : 19.058321836\n",
      "long : 19.0634312176\n",
      "actually : 19.0813598411\n",
      "thing : 19.3476345154\n",
      "script : 19.466362069\n",
      "old : 19.6848464791\n",
      "things : 19.7118407516\n",
      "gets : 19.7899694445\n",
      "think : 19.7999703421\n",
      "role : 19.8298438631\n",
      "performance : 19.991860532\n",
      "better : 20.0690307113\n",
      "audience : 20.2293770544\n",
      "going : 20.384999917\n",
      "year : 20.4047546694\n",
      "seen : 20.7417152749\n",
      "real : 20.7825659331\n",
      "makes : 20.916315796\n",
      "work : 21.4897438956\n",
      "funny : 22.1849638674\n",
      "world : 22.4301954097\n",
      "end : 22.5011454344\n",
      "comedy : 22.7241582743\n",
      "big : 23.3940184997\n",
      "director : 23.6897694907\n",
      "great : 24.4896110341\n",
      "scenes : 25.2435604716\n",
      "know : 25.2590828118\n",
      "new : 25.4244093885\n",
      "movies : 25.4648980593\n",
      "best : 25.7933140788\n",
      "scene : 26.6560994941\n",
      "man : 27.271016365\n",
      "people : 27.7727499711\n",
      "action : 27.8317318023\n",
      "little : 27.9122516585\n",
      "make : 28.3624492337\n",
      "films : 29.0818178824\n",
      "bad : 29.163384471\n",
      "plot : 29.8104996693\n",
      "really : 30.2113531575\n",
      "life : 30.8441858132\n",
      "characters : 33.2044578517\n",
      "character : 33.7341936993\n",
      "story : 36.6942936459\n",
      "time : 36.7686956564\n",
      "good : 38.9454562401\n",
      "like : 49.0876657299\n",
      "movie : 80.3332102381\n",
      "film : 109.340088749\n"
     ]
    }
   ],
   "source": [
    "from nltk.corpus import movie_reviews\n",
    "from nltk.corpus import stopwords\n",
    "from nltk.corpus import names\n",
    "from nltk import FreqDist\n",
    "from sklearn.feature_extraction.text import TfidfVectorizer\n",
    "import itertools\n",
    "import pandas as pd\n",
    "import numpy as np\n",
    "import string\n",
    "\n",
    "sw = set(stopwords.words('english'))\n",
    "punctuation = set(string.punctuation)\n",
    "all_names = set([name.lower() for name in names.words()])\n",
    "\n",
    "def isStopWord(word):\n",
    "    return (word in sw or word in punctuation) or not word.isalpha() or word in all_names\n",
    "\n",
    "review_words = movie_reviews.words()\n",
    "filtered = [w.lower() for w in review_words if not isStopWord(w.lower())]\n",
    "\n",
    "words = FreqDist(filtered)\n",
    "\n",
    "texts = []\n",
    "\n",
    "for fid in movie_reviews.fileids():\n",
    "    texts.append(\" \".join([w.lower() for w in movie_reviews.words(fid) if not isStopWord(w.lower()) and words[w.lower()] > 1]))\n",
    "\n",
    "vectorizer = TfidfVectorizer(stop_words='english')\n",
    "matrix = vectorizer.fit_transform(texts)\n",
    "sums = np.array(matrix.sum(axis=0)).ravel()\n",
    "\n",
    "ranks = []\n",
    "\n",
    "for word, val in zip(vectorizer.get_feature_names(), sums):\n",
    "    ranks.append((word, val))\n",
    "\n",
    "df = pd.DataFrame(ranks, columns=[\"term\", \"tfidf\"])\n",
    "df = df.sort_values(['tfidf'])\n",
    "print(df.head())\n",
    "\n",
    "N = int(.01 * len(df))\n",
    "df = df.tail(N)\n",
    "\n",
    "for term, tfidf in zip(df[\"term\"].values, df[\"tfidf\"].values):\n",
    "    print(term, \":\", tfidf)"
   ]
  },
  {
   "cell_type": "markdown",
   "metadata": {
    "deletable": true,
    "editable": true
   },
   "source": [
    "# Social Network Analysis"
   ]
  },
  {
   "cell_type": "code",
   "execution_count": 15,
   "metadata": {
    "collapsed": false,
    "deletable": true,
    "editable": true
   },
   "outputs": [
    {
     "name": "stdout",
     "output_type": "stream",
     "text": [
      "['LCF_graph', 'barabasi_albert_graph', 'barbell_graph', 'binomial_graph', 'bull_graph', 'caveman_graph', 'chordal_cycle_graph', 'chvatal_graph', 'circulant_graph', 'circular_ladder_graph', 'complete_bipartite_graph', 'complete_graph', 'complete_multipartite_graph', 'connected_caveman_graph', 'connected_watts_strogatz_graph', 'cubical_graph', 'cycle_graph', 'davis_southern_women_graph', 'dense_gnm_random_graph', 'desargues_graph', 'diamond_graph', 'digraph', 'directed_havel_hakimi_graph', 'dodecahedral_graph', 'dorogovtsev_goltsev_mendes_graph', 'duplication_divergence_graph', 'ego_graph', 'empty_graph', 'erdos_renyi_graph', 'expected_degree_graph', 'fast_gnp_random_graph', 'florentine_families_graph', 'frucht_graph', 'gaussian_random_partition_graph', 'general_random_intersection_graph', 'geographical_threshold_graph', 'gn_graph', 'gnc_graph', 'gnm_random_graph', 'gnp_random_graph', 'gnr_graph', 'graph', 'grid_2d_graph', 'grid_graph', 'havel_hakimi_graph', 'heawood_graph', 'house_graph', 'house_x_graph', 'hypercube_graph', 'icosahedral_graph', 'is_directed_acyclic_graph', 'k_random_intersection_graph', 'karate_club_graph', 'kl_connected_subgraph', 'krackhardt_kite_graph', 'ladder_graph', 'line_graph', 'lollipop_graph', 'make_max_clique_graph', 'make_small_graph', 'margulis_gabber_galil_graph', 'moebius_kantor_graph', 'multidigraph', 'multigraph', 'navigable_small_world_graph', 'newman_watts_strogatz_graph', 'null_graph', 'nx_agraph', 'octahedral_graph', 'pappus_graph', 'path_graph', 'petersen_graph', 'planted_partition_graph', 'powerlaw_cluster_graph', 'projected_graph', 'quotient_graph', 'random_clustered_graph', 'random_degree_sequence_graph', 'random_geometric_graph', 'random_partition_graph', 'random_regular_graph', 'random_shell_graph', 'relabel_gexf_graph', 'relaxed_caveman_graph', 'scale_free_graph', 'sedgewick_maze_graph', 'star_graph', 'stochastic_graph', 'subgraph', 'tetrahedral_graph', 'to_networkx_graph', 'trivial_graph', 'truncated_cube_graph', 'truncated_tetrahedron_graph', 'tutte_graph', 'uniform_random_intersection_graph', 'watts_strogatz_graph', 'waxman_graph', 'wheel_graph']\n"
     ]
    },
    {
     "data": {
      "text/plain": [
       "(array([ 8.,  8.,  2.,  3.,  3.,  5.,  1.,  0.,  1.,  1.]),\n",
       " array([  2. ,   3.2,   4.4,   5.6,   6.8,   8. ,   9.2,  10.4,  11.6,\n",
       "         12.8,  14. ]),\n",
       " <a list of 10 Patch objects>)"
      ]
     },
     "execution_count": 15,
     "metadata": {},
     "output_type": "execute_result"
    },
    {
     "data": {
      "image/png": "[encoded data removed]",
      "text/plain": [
       "<matplotlib.figure.Figure at 0x1167b98d0>"
      ]
     },
     "metadata": {},
     "output_type": "display_data"
    }
   ],
   "source": [
    "import networkx as nx\n",
    "import matplotlib.pyplot as plt\n",
    "import numpy as np\n",
    "print([s for s in dir(nx) if s.endswith('graph')])\n",
    "G = nx.davis_southern_women_graph()\n",
    "plt.hist(list(nx.degree(G).values()))\n",
    "plt.show()"
   ]
  },
  {
   "cell_type": "code",
   "execution_count": 16,
   "metadata": {
    "collapsed": false,
    "deletable": true,
    "editable": true
   },
   "outputs": [
    {
     "name": "stderr",
     "output_type": "stream",
     "text": [
      "/usr/local/lib/python3.6/site-packages/networkx/drawing/nx_pylab.py:126: MatplotlibDeprecationWarning: pyplot.hold is deprecated.\n",
      "    Future behavior will be consistent with the long-time default:\n",
      "    plot commands add elements without first clearing the\n",
      "    Axes and/or Figure.\n",
      "  b = plt.ishold()\n",
      "/usr/local/lib/python3.6/site-packages/networkx/drawing/nx_pylab.py:138: MatplotlibDeprecationWarning: pyplot.hold is deprecated.\n",
      "    Future behavior will be consistent with the long-time default:\n",
      "    plot commands add elements without first clearing the\n",
      "    Axes and/or Figure.\n",
      "  plt.hold(b)\n",
      "/usr/local/lib/python3.6/site-packages/matplotlib/__init__.py:917: UserWarning: axes.hold is deprecated. Please remove it from your matplotlibrc and/or style files.\n",
      "  warnings.warn(self.msg_depr_set % key)\n",
      "/usr/local/lib/python3.6/site-packages/matplotlib/rcsetup.py:152: UserWarning: axes.hold is deprecated, will be removed in 3.0\n",
      "  warnings.warn(\"axes.hold is deprecated, will be removed in 3.0\")\n"
     ]
    },
    {
     "data": {
      "image/png": "[encoded data removed]",
      "text/plain": [
       "<matplotlib.figure.Figure at 0x114ee7fd0>"
      ]
     },
     "metadata": {},
     "output_type": "display_data"
    }
   ],
   "source": [
    "plt.figure(figsize=(8,8))\n",
    "pos = nx.spring_layout(G)\n",
    "nx.draw(G, node_size=10)\n",
    "nx.draw_networkx_labels(G, pos)\n",
    "plt.show()"
   ]
  },
  {
   "cell_type": "code",
   "execution_count": 17,
   "metadata": {
    "collapsed": false,
    "deletable": true,
    "editable": true
   },
   "outputs": [
    {
     "ename": "TypeError",
     "evalue": "fruchterman_reingold_layout() got an unexpected keyword argument 'node_size'",
     "output_type": "error",
     "traceback": [
      "\u001b[0;31m---------------------------------------------------------------------------\u001b[0m",
      "\u001b[0;31mTypeError\u001b[0m                                 Traceback (most recent call last)",
      "\u001b[0;32m<ipython-input-17-6a52e903687d>\u001b[0m in \u001b[0;36m<module>\u001b[0;34m()\u001b[0m\n\u001b[1;32m      1\u001b[0m \u001b[0mplt\u001b[0m\u001b[0;34m.\u001b[0m\u001b[0mfigure\u001b[0m\u001b[0;34m(\u001b[0m\u001b[0mfigsize\u001b[0m\u001b[0;34m=\u001b[0m\u001b[0;34m(\u001b[0m\u001b[0;36m8\u001b[0m\u001b[0;34m,\u001b[0m\u001b[0;36m8\u001b[0m\u001b[0;34m)\u001b[0m\u001b[0;34m)\u001b[0m\u001b[0;34m\u001b[0m\u001b[0m\n\u001b[0;32m----> 2\u001b[0;31m \u001b[0mpos\u001b[0m \u001b[0;34m=\u001b[0m \u001b[0mnx\u001b[0m\u001b[0;34m.\u001b[0m\u001b[0mspring_layout\u001b[0m\u001b[0;34m(\u001b[0m\u001b[0mG\u001b[0m\u001b[0;34m,\u001b[0m \u001b[0mnode_size\u001b[0m\u001b[0;34m=\u001b[0m\u001b[0;36m2\u001b[0m\u001b[0;34m)\u001b[0m\u001b[0;34m\u001b[0m\u001b[0m\n\u001b[0m\u001b[1;32m      3\u001b[0m \u001b[0mnx\u001b[0m\u001b[0;34m.\u001b[0m\u001b[0mdraw\u001b[0m\u001b[0;34m(\u001b[0m\u001b[0mG\u001b[0m\u001b[0;34m)\u001b[0m\u001b[0;34m\u001b[0m\u001b[0m\n\u001b[1;32m      4\u001b[0m \u001b[0mnx\u001b[0m\u001b[0;34m.\u001b[0m\u001b[0mdraw_networkx_labels\u001b[0m\u001b[0;34m(\u001b[0m\u001b[0mG\u001b[0m\u001b[0;34m,\u001b[0m \u001b[0mpos\u001b[0m\u001b[0;34m)\u001b[0m\u001b[0;34m\u001b[0m\u001b[0m\n\u001b[1;32m      5\u001b[0m \u001b[0mplt\u001b[0m\u001b[0;34m.\u001b[0m\u001b[0mshow\u001b[0m\u001b[0;34m(\u001b[0m\u001b[0;34m)\u001b[0m\u001b[0;34m\u001b[0m\u001b[0m\n",
      "\u001b[0;31mTypeError\u001b[0m: fruchterman_reingold_layout() got an unexpected keyword argument 'node_size'"
     ]
    },
    {
     "data": {
      "text/plain": [
       "<matplotlib.figure.Figure at 0x114fa55c0>"
      ]
     },
     "metadata": {},
     "output_type": "display_data"
    }
   ],
   "source": [
    "plt.figure(figsize=(8,8))\n",
    "pos = nx.spring_layout(G, node_size=2)\n",
    "nx.draw(G)\n",
    "nx.draw_networkx_labels(G, pos)\n",
    "plt.show()"
   ]
  }
 ],
 "metadata": {
  "kernelspec": {
   "display_name": "Python 3",
   "language": "python",
   "name": "python3"
  },
  "language_info": {
   "codemirror_mode": {
    "name": "ipython",
    "version": 3
   },
   "file_extension": ".py",
   "mimetype": "text/x-python",
   "name": "python",
   "nbconvert_exporter": "python",
   "pygments_lexer": "ipython3",
   "version": "3.6.0"
  }
 },
 "nbformat": 4,
 "nbformat_minor": 2
}
