{
 "cells": [
  {
   "cell_type": "markdown",
   "metadata": {},
   "source": [
    "# sqlite3\n"
   ]
  },
  {
   "cell_type": "code",
   "execution_count": 1,
   "metadata": {
    "collapsed": false
   },
   "outputs": [
    {
     "name": "stdout",
     "output_type": "stream",
     "text": [
      "Table sensors\n",
      "('2016-11-05', 'Utrecht', 'Red', 42.0, 15.14)\n",
      "# of tables 0\n"
     ]
    }
   ],
   "source": [
    "import sqlite3\n",
    "\n",
    "with sqlite3.connect(\":memory:\") as con:\n",
    "    c = con.cursor()\n",
    "    c.execute('''CREATE TABLE sensors (date text, city text, code text, sensor_id real, temperature real)''')\n",
    "\n",
    "    for table in c.execute(\"SELECT name FROM sqlite_master WHERE type = 'table'\"):\n",
    "        print(\"Table\", table[0])\n",
    "\n",
    "    c.execute(\"INSERT INTO sensors VALUES ('2016-11-05','Utrecht','Red',42,15.14)\")\n",
    "    c.execute(\"SELECT * FROM sensors\")\n",
    "    print(c.fetchone())\n",
    "    con.execute(\"DROP TABLE sensors\")\n",
    "\n",
    "    print(\"# of tables\", c.execute(\"SELECT COUNT(*) FROM sqlite_master WHERE type = 'table'\").fetchone()[0])\n",
    "\n",
    "    c.close()"
   ]
  },
  {
   "cell_type": "markdown",
   "metadata": {},
   "source": [
    "# pandas"
   ]
  },
  {
   "cell_type": "code",
   "execution_count": 2,
   "metadata": {
    "collapsed": false
   },
   "outputs": [
    {
     "name": "stdout",
     "output_type": "stream",
     "text": [
      "(309,)\n",
      "Deleted 217 rows\n",
      "      year  sunactivity\n",
      "0   1700.0          5.0\n",
      "1   1701.0         11.0\n",
      "2   1702.0         16.0\n",
      "3   1707.0         20.0\n",
      "4   1708.0         10.0\n",
      "5   1709.0          8.0\n",
      "6   1710.0          3.0\n",
      "7   1711.0          0.0\n",
      "8   1712.0          0.0\n",
      "9   1713.0          2.0\n",
      "10  1714.0         11.0\n",
      "11  1723.0         11.0\n"
     ]
    }
   ],
   "source": [
    "import statsmodels.api as sm\n",
    "from pandas.io.sql import read_sql\n",
    "import sqlite3\n",
    "\n",
    "with sqlite3.connect(\":memory:\") as con:\n",
    "    c = con.cursor()\n",
    "\n",
    "    data_loader = sm.datasets.sunspots.load_pandas()\n",
    "    df = data_loader.data\n",
    "    rows = [tuple(x) for x in df.values]\n",
    "\n",
    "    con.execute(\"CREATE TABLE sunspots(year, sunactivity)\")\n",
    "    con.executemany(\"INSERT INTO sunspots(year, sunactivity) VALUES (?, ?)\", rows)\n",
    "    c.execute(\"SELECT COUNT(*) FROM sunspots\")\n",
    "    print(c.fetchone())\n",
    "    print(\"Deleted\", con.execute(\"DELETE FROM sunspots where sunactivity > 20\").rowcount, \"rows\")\n",
    "\n",
    "    print(read_sql(\"SELECT * FROM sunspots where year < 1732\", con))\n",
    "    con.execute(\"DROP TABLE sunspots\")\n",
    "\n",
    "    c.close()"
   ]
  },
  {
   "cell_type": "markdown",
   "metadata": {},
   "source": [
    "# SQLAlchemy"
   ]
  },
  {
   "cell_type": "code",
   "execution_count": 5,
   "metadata": {
    "collapsed": false
   },
   "outputs": [
    {
     "name": "stdout",
     "output_type": "stream",
     "text": [
      "This script is used by code further down in this notebook.\n"
     ]
    }
   ],
   "source": [
    "from sqlalchemy import Column, ForeignKey, Integer, String, Float\n",
    "from sqlalchemy.ext.declarative import declarative_base\n",
    "from sqlalchemy.orm import relationship\n",
    "from sqlalchemy import create_engine\n",
    "from sqlalchemy import UniqueConstraint\n",
    "\n",
    "Base = declarative_base()\n",
    "class Station(Base):\n",
    "    __tablename__ = 'station'\n",
    "    id = Column(Integer, primary_key=True)\n",
    "    name = Column(String(14), nullable=False, unique=True)\n",
    "\n",
    "    def __repr__(self):\n",
    "        return \"Id=%d name=%s\" %(self.id, self.name)\n",
    "\n",
    "class Sensor(Base):\n",
    "    __tablename__ = 'sensor'\n",
    "    id = Column(Integer, primary_key=True)\n",
    "    last = Column(Integer)\n",
    "    multiplier = Column(Float)\n",
    "    station_id = Column(Integer, ForeignKey('station.id'))\n",
    "    station = relationship(Station)\n",
    "\n",
    "    def __repr__(self):\n",
    "        return \"Id=%d last=%d multiplier=%.1f station_id=%d\" \n",
    "# %(self.id, self.last, self.multiplier, self.station_id)\n",
    "\n",
    "if __name__ == \"__main__\":\n",
    "    print(\"This script is used by code further down in this notebook.\")"
   ]
  },
  {
   "cell_type": "code",
   "execution_count": 10,
   "metadata": {
    "collapsed": false
   },
   "outputs": [
    {
     "name": "stdout",
     "output_type": "stream",
     "text": [
      "This script is used by code further down in this notebook\n"
     ]
    }
   ],
   "source": [
    "from sqlalchemy import create_engine\n",
    "from sqlalchemy.orm import sessionmaker\n",
    "\n",
    "#from alchemy_entities import Base, Sensor, Station\n",
    "\n",
    "def populate(engine):\n",
    "    Base.metadata.bind = engine\n",
    "\n",
    "    DBSession = sessionmaker(bind=engine)\n",
    "    session = DBSession()\n",
    "\n",
    "    de_bilt = Station(name='De Bilt')\n",
    "    session.add(de_bilt)\n",
    "    session.add(Station(name='Utrecht'))\n",
    "    session.commit()\n",
    "    print(\"Station\", de_bilt)\n",
    "\n",
    "    temp_sensor = Sensor(last=20, multiplier=.1, station=de_bilt)\n",
    "    session.add(temp_sensor)\n",
    "    session.commit()\n",
    "    print(\"Sensor\", temp_sensor)\n",
    "\n",
    "if __name__ == \"__main__\":\n",
    "    print(\"This script is used by code further down in this notebook\")"
   ]
  },
  {
   "cell_type": "code",
   "execution_count": 12,
   "metadata": {
    "collapsed": false
   },
   "outputs": [
    {
     "name": "stdout",
     "output_type": "stream",
     "text": [
      "Station Id=1 name=De Bilt\n",
      "Sensor Id=%d last=%d multiplier=%.1f station_id=%d\n",
      "Query 1 [Id=1 name=De Bilt, Id=2 name=Utrecht]\n",
      "Query 2 [Id=%d last=%d multiplier=%.1f station_id=%d]\n",
      "Query 3 Id=%d last=%d multiplier=%.1f station_id=%d\n",
      "   id     name\n",
      "0   1  De Bilt\n",
      "1   2  Utrecht\n",
      "Deleted demo.db\n"
     ]
    }
   ],
   "source": [
    "#from alchemy_entities import Base, Sensor, Station\n",
    "#from populate_db import populate\n",
    "from sqlalchemy import create_engine\n",
    "from sqlalchemy.orm import sessionmaker\n",
    "import os\n",
    "from pandas.io.sql import read_sql\n",
    "\n",
    "\n",
    "engine = create_engine('sqlite:///demo.db')\n",
    "Base.metadata.create_all(engine)\n",
    "populate(engine)\n",
    "Base.metadata.bind = engine\n",
    "DBSession = sessionmaker()\n",
    "DBSession.bind = engine\n",
    "session = DBSession()\n",
    "\n",
    "station = session.query(Station).first()\n",
    "\n",
    "print(\"Query 1\", session.query(Station).all())\n",
    "print(\"Query 2\", session.query(Sensor).all())\n",
    "print(\"Query 3\", session.query(Sensor).filter(Sensor.station == station).one())\n",
    "print(read_sql(\"SELECT * FROM station\", engine.raw_connection()))\n",
    "\n",
    "try:\n",
    "    os.remove('demo.db')\n",
    "    print(\"Deleted demo.db\")\n",
    "except OSError:\n",
    "    pass"
   ]
  },
  {
   "cell_type": "markdown",
   "metadata": {},
   "source": [
    "# Pony ORM"
   ]
  },
  {
   "cell_type": "code",
   "execution_count": null,
   "metadata": {
    "collapsed": true
   },
   "outputs": [],
   "source": []
  },
  {
   "cell_type": "markdown",
   "metadata": {},
   "source": [
    "# dataset"
   ]
  },
  {
   "cell_type": "code",
   "execution_count": 16,
   "metadata": {
    "collapsed": false
   },
   "outputs": [
    {
     "name": "stdout",
     "output_type": "stream",
     "text": [
      "   id                   title      author\n",
      "0   1  NumPy Beginner's Guide  Ivan Idris\n",
      "1   2          NumPy Cookbook  Ivan Idris\n",
      "2   3          Learning NumPy  Ivan Idris\n",
      "OrderedDict([('index', 0), ('YEAR', 1700.0), ('SUNACTIVITY', 5.0)])\n",
      "OrderedDict([('index', 1), ('YEAR', 1701.0), ('SUNACTIVITY', 11.0)])\n",
      "OrderedDict([('index', 2), ('YEAR', 1702.0), ('SUNACTIVITY', 16.0)])\n",
      "OrderedDict([('index', 3), ('YEAR', 1703.0), ('SUNACTIVITY', 23.0)])\n",
      "OrderedDict([('index', 4), ('YEAR', 1704.0), ('SUNACTIVITY', 36.0)])\n",
      "Tables ['books', 'sunspots']\n"
     ]
    }
   ],
   "source": [
    "import dataset\n",
    "from pandas.io.sql import read_sql\n",
    "from pandas.io.sql import to_sql\n",
    "import statsmodels.api as sm\n",
    "\n",
    "db = dataset.connect('sqlite:///:memory:')\n",
    "table = db[\"books\"]\n",
    "table.insert(dict(title=\"NumPy Beginner's Guide\", author='Ivan Idris'))\n",
    "table.insert(dict(title=\"NumPy Cookbook\", author='Ivan Idris'))\n",
    "table.insert(dict(title=\"Learning NumPy\", author='Ivan Idris'))\n",
    "print(read_sql('SELECT * FROM books', db.executable.raw_connection()) )\n",
    "\n",
    "data_loader = sm.datasets.sunspots.load_pandas()\n",
    "df = data_loader.data\n",
    "#write_frame(df, \"sunspots\", db.executable.raw_connection()) \n",
    "df.to_sql(\"sunspots\", db.executable.raw_connection()) \n",
    "\n",
    "table = db['sunspots']\n",
    "\n",
    "for row in table.find(_limit=5):\n",
    "   print(row)\n",
    "\n",
    "print(\"Tables\", db.tables)"
   ]
  },
  {
   "cell_type": "markdown",
   "metadata": {},
   "source": [
    "# mongodb"
   ]
  },
  {
   "cell_type": "code",
   "execution_count": 18,
   "metadata": {
    "collapsed": false
   },
   "outputs": [
    {
     "name": "stdout",
     "output_type": "stream",
     "text": [
      "     SUNACTIVITY    YEAR                       _id\n",
      "0            5.0  1700.0  5872fd2f3f7dec035bd920f2\n",
      "1           11.0  1701.0  5872fd2f3f7dec035bd920f3\n",
      "2           16.0  1702.0  5872fd2f3f7dec035bd920f4\n",
      "3           23.0  1703.0  5872fd2f3f7dec035bd920f5\n",
      "4           36.0  1704.0  5872fd2f3f7dec035bd920f6\n",
      "5           58.0  1705.0  5872fd2f3f7dec035bd920f7\n",
      "6           29.0  1706.0  5872fd2f3f7dec035bd920f8\n",
      "7           20.0  1707.0  5872fd2f3f7dec035bd920f9\n",
      "8           10.0  1708.0  5872fd2f3f7dec035bd920fa\n",
      "9            8.0  1709.0  5872fd2f3f7dec035bd920fb\n",
      "10           3.0  1710.0  5872fd2f3f7dec035bd920fc\n",
      "11           0.0  1711.0  5872fd2f3f7dec035bd920fd\n",
      "12           0.0  1712.0  5872fd2f3f7dec035bd920fe\n",
      "13           2.0  1713.0  5872fd2f3f7dec035bd920ff\n",
      "14          11.0  1714.0  5872fd2f3f7dec035bd92100\n",
      "15          27.0  1715.0  5872fd2f3f7dec035bd92101\n",
      "16          47.0  1716.0  5872fd2f3f7dec035bd92102\n",
      "17          63.0  1717.0  5872fd2f3f7dec035bd92103\n",
      "18          60.0  1718.0  5872fd2f3f7dec035bd92104\n",
      "19          39.0  1719.0  5872fd2f3f7dec035bd92105\n",
      "20          28.0  1720.0  5872fd2f3f7dec035bd92106\n",
      "21          26.0  1721.0  5872fd2f3f7dec035bd92107\n",
      "22          22.0  1722.0  5872fd2f3f7dec035bd92108\n",
      "23          11.0  1723.0  5872fd2f3f7dec035bd92109\n",
      "24          21.0  1724.0  5872fd2f3f7dec035bd9210a\n",
      "25          40.0  1725.0  5872fd2f3f7dec035bd9210b\n",
      "26          78.0  1726.0  5872fd2f3f7dec035bd9210c\n",
      "27         122.0  1727.0  5872fd2f3f7dec035bd9210d\n",
      "28         103.0  1728.0  5872fd2f3f7dec035bd9210e\n",
      "29          73.0  1729.0  5872fd2f3f7dec035bd9210f\n",
      "..           ...     ...                       ...\n",
      "279        155.4  1979.0  5872fd2f3f7dec035bd92209\n",
      "280        154.6  1980.0  5872fd2f3f7dec035bd9220a\n",
      "281        140.4  1981.0  5872fd2f3f7dec035bd9220b\n",
      "282        115.9  1982.0  5872fd2f3f7dec035bd9220c\n",
      "283         66.6  1983.0  5872fd2f3f7dec035bd9220d\n",
      "284         45.9  1984.0  5872fd2f3f7dec035bd9220e\n",
      "285         17.9  1985.0  5872fd2f3f7dec035bd9220f\n",
      "286         13.4  1986.0  5872fd2f3f7dec035bd92210\n",
      "287         29.4  1987.0  5872fd2f3f7dec035bd92211\n",
      "288        100.2  1988.0  5872fd2f3f7dec035bd92212\n",
      "289        157.6  1989.0  5872fd2f3f7dec035bd92213\n",
      "290        142.6  1990.0  5872fd2f3f7dec035bd92214\n",
      "291        145.7  1991.0  5872fd2f3f7dec035bd92215\n",
      "292         94.3  1992.0  5872fd2f3f7dec035bd92216\n",
      "293         54.6  1993.0  5872fd2f3f7dec035bd92217\n",
      "294         29.9  1994.0  5872fd2f3f7dec035bd92218\n",
      "295         17.5  1995.0  5872fd2f3f7dec035bd92219\n",
      "296          8.6  1996.0  5872fd2f3f7dec035bd9221a\n",
      "297         21.5  1997.0  5872fd2f3f7dec035bd9221b\n",
      "298         64.3  1998.0  5872fd2f3f7dec035bd9221c\n",
      "299         93.3  1999.0  5872fd2f3f7dec035bd9221d\n",
      "300        119.6  2000.0  5872fd2f3f7dec035bd9221e\n",
      "301        111.0  2001.0  5872fd2f3f7dec035bd9221f\n",
      "302        104.0  2002.0  5872fd2f3f7dec035bd92220\n",
      "303         63.7  2003.0  5872fd2f3f7dec035bd92221\n",
      "304         40.4  2004.0  5872fd2f3f7dec035bd92222\n",
      "305         29.8  2005.0  5872fd2f3f7dec035bd92223\n",
      "306         15.2  2006.0  5872fd2f3f7dec035bd92224\n",
      "307          7.5  2007.0  5872fd2f3f7dec035bd92225\n",
      "308          2.9  2008.0  5872fd2f3f7dec035bd92226\n",
      "\n",
      "[309 rows x 3 columns]\n"
     ]
    },
    {
     "data": {
      "text/plain": [
       "{'nIndexesWas': 1, 'ns': 'test_database.sunspots', 'ok': 1.0}"
      ]
     },
     "execution_count": 18,
     "metadata": {},
     "output_type": "execute_result"
    }
   ],
   "source": [
    "from pymongo import MongoClient\n",
    "import statsmodels.api as sm\n",
    "import json\n",
    "import pandas as pd\n",
    "\n",
    "client = MongoClient()\n",
    "db = client.test_database\n",
    "\n",
    "data_loader = sm.datasets.sunspots.load_pandas()\n",
    "df = data_loader.data\n",
    "rows = json.loads(df.T.to_json()).values()\n",
    "db.sunspots.insert_many(rows)\n",
    "\n",
    "cursor = db['sunspots'].find({})\n",
    "df =  pd.DataFrame(list(cursor))\n",
    "print(df)\n",
    "\n",
    "db.drop_collection('sunspots')"
   ]
  },
  {
   "cell_type": "markdown",
   "metadata": {},
   "source": [
    "# Redis"
   ]
  },
  {
   "cell_type": "code",
   "execution_count": 20,
   "metadata": {
    "collapsed": false
   },
   "outputs": [
    {
     "name": "stdout",
     "output_type": "stream",
     "text": [
      "              0     1     10      100   101   102     103     104     105  \\\n",
      "SUNACTIVITY     5    11     3    14.5    34    45    43.1    47.5    42.2   \n",
      "YEAR         1700  1701  1710  1800.0  1801  1802  1803.0  1804.0  1805.0   \n",
      "\n",
      "                106   ...       90      91    92      93    94      95    96   \\\n",
      "SUNACTIVITY    28.1   ...      89.9    66.6    60    46.9    41    21.3    16   \n",
      "YEAR         1806.0   ...    1790.0  1791.0  1792  1793.0  1794  1795.0  1796   \n",
      "\n",
      "                97      98      99   \n",
      "SUNACTIVITY     6.4     4.1     6.8  \n",
      "YEAR         1797.0  1798.0  1799.0  \n",
      "\n",
      "[2 rows x 309 columns]\n"
     ]
    }
   ],
   "source": [
    "import redis\n",
    "import statsmodels.api as sm\n",
    "import pandas as pd\n",
    "\n",
    "r = redis.StrictRedis()\n",
    "data_loader = sm.datasets.sunspots.load_pandas()\n",
    "df = data_loader.data\n",
    "data = df.T.to_json()\n",
    "r.set('sunspots', data)\n",
    "blob = r.get('sunspots')\n",
    "print(pd.read_json(blob))"
   ]
  },
  {
   "cell_type": "markdown",
   "metadata": {},
   "source": [
    "# memcached"
   ]
  },
  {
   "cell_type": "code",
   "execution_count": 25,
   "metadata": {
    "collapsed": false
   },
   "outputs": [
    {
     "name": "stdout",
     "output_type": "stream",
     "text": [
      "Stored data to memcached, auto-expire after 600 seconds\n",
      "              0     1     10      100   101   102     103     104     105  \\\n",
      "SUNACTIVITY     5    11     3    14.5    34    45    43.1    47.5    42.2   \n",
      "YEAR         1700  1701  1710  1800.0  1801  1802  1803.0  1804.0  1805.0   \n",
      "\n",
      "                106   ...       90      91    92      93    94      95    96   \\\n",
      "SUNACTIVITY    28.1   ...      89.9    66.6    60    46.9    41    21.3    16   \n",
      "YEAR         1806.0   ...    1790.0  1791.0  1792  1793.0  1794  1795.0  1796   \n",
      "\n",
      "                97      98      99   \n",
      "SUNACTIVITY     6.4     4.1     6.8  \n",
      "YEAR         1797.0  1798.0  1799.0  \n",
      "\n",
      "[2 rows x 309 columns]\n"
     ]
    }
   ],
   "source": [
    "import memcache\n",
    "import statsmodels.api as sm\n",
    "import pandas as pd\n",
    "\n",
    "client = memcache.Client([('127.0.0.1', 11211)])\n",
    "data_loader = sm.datasets.sunspots.load_pandas()\n",
    "df = data_loader.data\n",
    "data = df.T.to_json()\n",
    "client.set('sunspots', data, time=600)\n",
    "print(\"Stored data to memcached, auto-expire after 600 seconds\")\n",
    "blob = client.get('sunspots')\n",
    "print(pd.read_json(blob))"
   ]
  },
  {
   "cell_type": "markdown",
   "metadata": {},
   "source": [
    "# Cassandra"
   ]
  },
  {
   "cell_type": "code",
   "execution_count": 28,
   "metadata": {
    "collapsed": false
   },
   "outputs": [
    {
     "name": "stderr",
     "output_type": "stream",
     "text": [
      "WARNING:cassandra.protocol:Server warning: Aggregation query used without partition key\n"
     ]
    },
    {
     "name": "stdout",
     "output_type": "stream",
     "text": [
      "Row(count=309)\n"
     ]
    }
   ],
   "source": [
    "from cassandra import ConsistencyLevel\n",
    "from cassandra.cluster import Cluster\n",
    "from cassandra.query import SimpleStatement\n",
    "import statsmodels.api as sm\n",
    "\n",
    "cluster = Cluster()\n",
    "session = cluster.connect()\n",
    "session.execute(\"CREATE KEYSPACE IF NOT EXISTS mykeyspace WITH REPLICATION = { 'class' : 'SimpleStrategy', 'replication_factor' : 1 };\")\n",
    "session.set_keyspace('mykeyspace')\n",
    "session.execute(\"CREATE TABLE IF NOT EXISTS sunspots (year decimal PRIMARY KEY, sunactivity decimal);\")\n",
    "\n",
    "query = SimpleStatement(\n",
    "    \"INSERT INTO sunspots (year, sunactivity) VALUES (%s, %s)\",\n",
    "    consistency_level=ConsistencyLevel.QUORUM)\n",
    "\n",
    "data_loader = sm.datasets.sunspots.load_pandas()\n",
    "df = data_loader.data\n",
    "rows = [tuple(x) for x in df.values]\n",
    "for row in rows:\n",
    "    session.execute(query, row)\n",
    "\n",
    "rows=session.execute(\"SELECT COUNT(*) FROM sunspots\")\n",
    "for row in rows:\n",
    "    print(row)\n",
    "\n",
    "session.execute('DROP KEYSPACE mykeyspace') \n",
    "cluster.shutdown()"
   ]
  },
  {
   "cell_type": "code",
   "execution_count": null,
   "metadata": {
    "collapsed": true
   },
   "outputs": [],
   "source": []
  }
 ],
 "metadata": {
  "kernelspec": {
   "display_name": "Python 3",
   "language": "python",
   "name": "python3"
  },
  "language_info": {
   "codemirror_mode": {
    "name": "ipython",
    "version": 3
   },
   "file_extension": ".py",
   "mimetype": "text/x-python",
   "name": "python",
   "nbconvert_exporter": "python",
   "pygments_lexer": "ipython3",
   "version": "3.6.0"
  }
 },
 "nbformat": 4,
 "nbformat_minor": 2
}
