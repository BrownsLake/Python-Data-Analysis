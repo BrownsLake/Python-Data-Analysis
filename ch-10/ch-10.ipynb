{
 "cells": [
  {
   "cell_type": "markdown",
   "metadata": {
    "deletable": true,
    "editable": true
   },
   "source": [
    "# PreProcessing"
   ]
  },
  {
   "cell_type": "code",
   "execution_count": 1,
   "metadata": {
    "collapsed": false,
    "deletable": true,
    "editable": true
   },
   "outputs": [
    {
     "name": "stdout",
     "output_type": "stream",
     "text": [
      "Rain mean 2.17919594267\n",
      "Rain variance 18.803443919\n",
      "Anderson rain AndersonResult(statistic=inf, critical_values=array([ 0.576,  0.656,  0.787,  0.918,  1.092]), significance_level=array([ 15. ,  10. ,   5. ,   2.5,   1. ]))\n",
      "Scaled mean 3.41301602808e-17\n",
      "Scaled variance 1.0\n",
      "Anderson scaled AndersonResult(statistic=inf, critical_values=array([ 0.576,  0.656,  0.787,  0.918,  1.092]), significance_level=array([ 15. ,  10. ,   5. ,   2.5,   1. ]))\n",
      "[ 0.  1.] 24594.0\n",
      "[ 0  1  2  3  4  5  6  7  8  9 10 11 12 13 14 15 16 17 18 19 20 21 22 23 24\n",
      " 25 26 27 28 29 30 31 32 33 34 35 36 37 38 39 40 42 43 44 45 46 47 48 49 50\n",
      " 52 53 55 58 61 62]\n"
     ]
    },
    {
     "name": "stderr",
     "output_type": "stream",
     "text": [
      "/usr/local/lib/python3.6/site-packages/scipy/stats/morestats.py:1461: RuntimeWarning: divide by zero encountered in log\n",
      "  A2 = -N - np.sum((2*i - 1.0) / N * (log(z) + log(1 - z[::-1])), axis=0)\n"
     ]
    }
   ],
   "source": [
    "import numpy as np\n",
    "from sklearn import preprocessing\n",
    "from scipy.stats import anderson\n",
    "\n",
    "rain = np.load('rain.npy')\n",
    "rain = .1 * rain\n",
    "rain[rain < 0] = .05/2\n",
    "print(\"Rain mean\", rain.mean())\n",
    "print(\"Rain variance\", rain.var())\n",
    "print(\"Anderson rain\", anderson(rain))\n",
    "\n",
    "scaled = preprocessing.scale(rain)\n",
    "print(\"Scaled mean\", scaled.mean())\n",
    "print(\"Scaled variance\", scaled.var())\n",
    "print(\"Anderson scaled\", anderson(scaled))\n",
    "\n",
    "binarized = preprocessing.binarize(rain.reshape(-1,1))\n",
    "print(np.unique(binarized), binarized.sum())\n",
    "\n",
    "lb = preprocessing.LabelBinarizer()\n",
    "lb.fit(rain.astype(int))\n",
    "print(lb.classes_)"
   ]
  },
  {
   "cell_type": "markdown",
   "metadata": {
    "deletable": true,
    "editable": true
   },
   "source": [
    "# Logistic Regression"
   ]
  },
  {
   "cell_type": "code",
   "execution_count": 3,
   "metadata": {
    "collapsed": false,
    "deletable": true,
    "editable": true
   },
   "outputs": [
    {
     "name": "stdout",
     "output_type": "stream",
     "text": [
      "accuracy:  0.576726256477\n",
      "accuracy:  0.413333333333\n"
     ]
    }
   ],
   "source": [
    "from sklearn.linear_model import LogisticRegression\n",
    "from sklearn.model_selection import KFold\n",
    "from sklearn import datasets\n",
    "import numpy as np\n",
    "\n",
    "def classify(x, y):\n",
    "    clf = LogisticRegression(random_state=12)\n",
    "    scores = []\n",
    "    kf = KFold(n_splits=10)\n",
    "    for train,test in kf.split(x):\n",
    "      clf.fit(x[train], y[train])\n",
    "      scores.append(clf.score(x[test], y[test]))\n",
    "\n",
    "    print(\"Accuracy: \",np.mean(scores))\n",
    "\n",
    "rain = np.load('rain.npy')\n",
    "dates = np.load('doy.npy')\n",
    "\n",
    "x = np.vstack((dates[:-1], rain[:-1]))\n",
    "y = np.sign(rain[1:])\n",
    "classify(x.T, y)\n",
    "\n",
    "#iris example\n",
    "iris = datasets.load_iris()\n",
    "x = iris.data[:, :2]\n",
    "y = iris.target\n",
    "classify(x, y)"
   ]
  },
  {
   "cell_type": "markdown",
   "metadata": {
    "deletable": true,
    "editable": true
   },
   "source": [
    "# Support Vector Machines"
   ]
  },
  {
   "cell_type": "code",
   "execution_count": 10,
   "metadata": {
    "collapsed": false,
    "deletable": true,
    "editable": true
   },
   "outputs": [
    {
     "name": "stderr",
     "output_type": "stream",
     "text": [
      "/usr/local/lib/python3.6/site-packages/sklearn/svm/base.py:220: ConvergenceWarning: Solver terminated early (max_iter=100).  Consider pre-processing your data with StandardScaler or MinMaxScaler.\n",
      "  % self.max_iter, ConvergenceWarning)\n",
      "/usr/local/lib/python3.6/site-packages/sklearn/svm/base.py:220: ConvergenceWarning: Solver terminated early (max_iter=100).  Consider pre-processing your data with StandardScaler or MinMaxScaler.\n",
      "  % self.max_iter, ConvergenceWarning)\n",
      "/usr/local/lib/python3.6/site-packages/sklearn/svm/base.py:220: ConvergenceWarning: Solver terminated early (max_iter=100).  Consider pre-processing your data with StandardScaler or MinMaxScaler.\n",
      "  % self.max_iter, ConvergenceWarning)\n",
      "/usr/local/lib/python3.6/site-packages/sklearn/svm/base.py:220: ConvergenceWarning: Solver terminated early (max_iter=100).  Consider pre-processing your data with StandardScaler or MinMaxScaler.\n",
      "  % self.max_iter, ConvergenceWarning)\n",
      "/usr/local/lib/python3.6/site-packages/sklearn/svm/base.py:220: ConvergenceWarning: Solver terminated early (max_iter=100).  Consider pre-processing your data with StandardScaler or MinMaxScaler.\n",
      "  % self.max_iter, ConvergenceWarning)\n",
      "/usr/local/lib/python3.6/site-packages/sklearn/svm/base.py:220: ConvergenceWarning: Solver terminated early (max_iter=100).  Consider pre-processing your data with StandardScaler or MinMaxScaler.\n",
      "  % self.max_iter, ConvergenceWarning)\n",
      "/usr/local/lib/python3.6/site-packages/sklearn/svm/base.py:220: ConvergenceWarning: Solver terminated early (max_iter=100).  Consider pre-processing your data with StandardScaler or MinMaxScaler.\n",
      "  % self.max_iter, ConvergenceWarning)\n",
      "/usr/local/lib/python3.6/site-packages/sklearn/svm/base.py:220: ConvergenceWarning: Solver terminated early (max_iter=100).  Consider pre-processing your data with StandardScaler or MinMaxScaler.\n",
      "  % self.max_iter, ConvergenceWarning)\n",
      "/usr/local/lib/python3.6/site-packages/sklearn/svm/base.py:220: ConvergenceWarning: Solver terminated early (max_iter=100).  Consider pre-processing your data with StandardScaler or MinMaxScaler.\n",
      "  % self.max_iter, ConvergenceWarning)\n",
      "/usr/local/lib/python3.6/site-packages/sklearn/svm/base.py:220: ConvergenceWarning: Solver terminated early (max_iter=100).  Consider pre-processing your data with StandardScaler or MinMaxScaler.\n",
      "  % self.max_iter, ConvergenceWarning)\n",
      "/usr/local/lib/python3.6/site-packages/sklearn/svm/base.py:220: ConvergenceWarning: Solver terminated early (max_iter=100).  Consider pre-processing your data with StandardScaler or MinMaxScaler.\n",
      "  % self.max_iter, ConvergenceWarning)\n",
      "/usr/local/lib/python3.6/site-packages/sklearn/svm/base.py:220: ConvergenceWarning: Solver terminated early (max_iter=100).  Consider pre-processing your data with StandardScaler or MinMaxScaler.\n",
      "  % self.max_iter, ConvergenceWarning)\n",
      "/usr/local/lib/python3.6/site-packages/sklearn/svm/base.py:220: ConvergenceWarning: Solver terminated early (max_iter=100).  Consider pre-processing your data with StandardScaler or MinMaxScaler.\n",
      "  % self.max_iter, ConvergenceWarning)\n",
      "/usr/local/lib/python3.6/site-packages/sklearn/svm/base.py:220: ConvergenceWarning: Solver terminated early (max_iter=100).  Consider pre-processing your data with StandardScaler or MinMaxScaler.\n",
      "  % self.max_iter, ConvergenceWarning)\n",
      "/usr/local/lib/python3.6/site-packages/sklearn/svm/base.py:220: ConvergenceWarning: Solver terminated early (max_iter=100).  Consider pre-processing your data with StandardScaler or MinMaxScaler.\n",
      "  % self.max_iter, ConvergenceWarning)\n",
      "/usr/local/lib/python3.6/site-packages/sklearn/svm/base.py:220: ConvergenceWarning: Solver terminated early (max_iter=100).  Consider pre-processing your data with StandardScaler or MinMaxScaler.\n",
      "  % self.max_iter, ConvergenceWarning)\n",
      "/usr/local/lib/python3.6/site-packages/sklearn/svm/base.py:220: ConvergenceWarning: Solver terminated early (max_iter=100).  Consider pre-processing your data with StandardScaler or MinMaxScaler.\n",
      "  % self.max_iter, ConvergenceWarning)\n",
      "/usr/local/lib/python3.6/site-packages/sklearn/svm/base.py:220: ConvergenceWarning: Solver terminated early (max_iter=100).  Consider pre-processing your data with StandardScaler or MinMaxScaler.\n",
      "  % self.max_iter, ConvergenceWarning)\n"
     ]
    },
    {
     "name": "stdout",
     "output_type": "stream",
     "text": [
      "Accuracy:  0.559660687823\n",
      "{'mean_fit_time': array([ 0.09338657,  0.04189849,  0.16361864,  0.06867377,  0.04259562,\n",
      "        0.14248673]),\n",
      " 'mean_score_time': array([ 0.03414472,  0.00892536,  0.10172033,  0.02267838,  0.00887402,\n",
      "        0.08480501]),\n",
      " 'mean_test_score': array([ 0.42879043,  0.55570034,  0.36938525,  0.30658184,  0.41673054,\n",
      "        0.49195156]),\n",
      " 'mean_train_score': array([ 0.43378363,  0.55600709,  0.37209364,  0.30101084,  0.41388724,\n",
      "        0.49604207]),\n",
      " 'param_C': masked_array(data = [1 1 1 10 10 10],\n",
      "             mask = [False False False False False False],\n",
      "       fill_value = ?)\n",
      ",\n",
      " 'param_kernel': masked_array(data = ['linear' 'poly' 'rbf' 'linear' 'poly' 'rbf'],\n",
      "             mask = [False False False False False False],\n",
      "       fill_value = ?)\n",
      ",\n",
      " 'params': ({'C': 1, 'kernel': 'linear'},\n",
      "            {'C': 1, 'kernel': 'poly'},\n",
      "            {'C': 1, 'kernel': 'rbf'},\n",
      "            {'C': 10, 'kernel': 'linear'},\n",
      "            {'C': 10, 'kernel': 'poly'},\n",
      "            {'C': 10, 'kernel': 'rbf'}),\n",
      " 'rank_test_score': array([3, 1, 5, 6, 4, 2], dtype=int32),\n",
      " 'split0_test_score': array([ 0.28374339,  0.55966889,  0.36767073,  0.2874224 ,  0.55966889,\n",
      "        0.55759945]),\n",
      " 'split0_train_score': array([ 0.29469932,  0.55965659,  0.37215898,  0.27921505,  0.55965659,\n",
      "        0.56122801]),\n",
      " 'split1_test_score': array([ 0.55963514,  0.55963514,  0.37168481,  0.28292197,  0.55963514,\n",
      "        0.55227656]),\n",
      " 'split1_train_score': array([ 0.55967346,  0.55967346,  0.37340947,  0.26889468,  0.55967346,\n",
      "        0.55480607]),\n",
      " 'split2_test_score': array([ 0.44300498,  0.54779609,  0.36880031,  0.3494059 ,  0.13085473,\n",
      "        0.36596397]),\n",
      " 'split2_train_score': array([ 0.44697812,  0.54869122,  0.37071245,  0.35492278,  0.12233166,\n",
      "        0.37209213]),\n",
      " 'std_fit_time': array([ 0.00522726,  0.00526931,  0.00683292,  0.00645567,  0.0060853 ,\n",
      "        0.00647073]),\n",
      " 'std_score_time': array([ 0.00247859,  0.00316349,  0.01379312,  0.00349901,  0.00333908,\n",
      "        0.00718918]),\n",
      " 'std_test_score': array([ 0.11308202,  0.00558885,  0.00169016,  0.03033514,  0.2021331 ,\n",
      "        0.08910806]),\n",
      " 'std_train_score': array([ 0.10857684,  0.00517311,  0.00110202,  0.03835362,  0.20616093,\n",
      "        0.08768505])}\n",
      "Accuracy:  0.82\n",
      "{'mean_fit_time': array([ 0.00051236,  0.00059803,  0.00053962,  0.00061138,  0.00064524,\n",
      "        0.00073703]),\n",
      " 'mean_score_time': array([ 0.00031265,  0.00028666,  0.00022761,  0.00027959,  0.00036025,\n",
      "        0.00024168]),\n",
      " 'mean_test_score': array([ 0.8       ,  0.58666667,  0.8       ,  0.74666667,  0.56666667,\n",
      "        0.79333333]),\n",
      " 'mean_train_score': array([ 0.80372351,  0.63111507,  0.80709051,  0.77104377,  0.63101604,\n",
      "        0.79708853]),\n",
      " 'param_C': masked_array(data = [1 1 1 10 10 10],\n",
      "             mask = [False False False False False False],\n",
      "       fill_value = ?)\n",
      ",\n",
      " 'param_kernel': masked_array(data = ['linear' 'poly' 'rbf' 'linear' 'poly' 'rbf'],\n",
      "             mask = [False False False False False False],\n",
      "       fill_value = ?)\n",
      ",\n",
      " 'params': ({'C': 1, 'kernel': 'linear'},\n",
      "            {'C': 1, 'kernel': 'poly'},\n",
      "            {'C': 1, 'kernel': 'rbf'},\n",
      "            {'C': 10, 'kernel': 'linear'},\n",
      "            {'C': 10, 'kernel': 'poly'},\n",
      "            {'C': 10, 'kernel': 'rbf'}),\n",
      " 'rank_test_score': array([1, 5, 1, 4, 6, 3], dtype=int32),\n",
      " 'split0_test_score': array([ 0.74509804,  0.74509804,  0.76470588,  0.76470588,  0.74509804,\n",
      "        0.74509804]),\n",
      " 'split0_train_score': array([ 0.82828283,  0.82828283,  0.83838384,  0.82828283,  0.82828283,\n",
      "        0.83838384]),\n",
      " 'split1_test_score': array([ 0.82352941,  0.56862745,  0.84313725,  0.82352941,  0.50980392,\n",
      "        0.82352941]),\n",
      " 'split1_train_score': array([ 0.81818182,  0.54545455,  0.81818182,  0.81818182,  0.53535354,\n",
      "        0.7979798 ]),\n",
      " 'split2_test_score': array([ 0.83333333,  0.4375    ,  0.79166667,  0.64583333,  0.4375    ,\n",
      "        0.8125    ]),\n",
      " 'split2_train_score': array([ 0.76470588,  0.51960784,  0.76470588,  0.66666667,  0.52941176,\n",
      "        0.75490196]),\n",
      " 'std_fit_time': array([  6.07526220e-05,   6.18469416e-05,   9.22447477e-05,\n",
      "         5.76001173e-05,   7.59258264e-05,   3.00207610e-05]),\n",
      " 'std_score_time': array([  4.06894833e-05,   2.06983703e-05,   6.86693337e-06,\n",
      "         1.95932434e-05,   4.99326150e-05,   1.04330643e-05]),\n",
      " 'std_test_score': array([ 0.0396059 ,  0.12555888,  0.03283948,  0.0732999 ,  0.13138901,\n",
      "        0.03490884]),\n",
      " 'std_train_score': array([ 0.02789611,  0.1398174 ,  0.03108454,  0.07392087,  0.13950977,\n",
      "        0.03408716])}\n"
     ]
    },
    {
     "name": "stderr",
     "output_type": "stream",
     "text": [
      "/usr/local/lib/python3.6/site-packages/sklearn/svm/base.py:220: ConvergenceWarning: Solver terminated early (max_iter=100).  Consider pre-processing your data with StandardScaler or MinMaxScaler.\n",
      "  % self.max_iter, ConvergenceWarning)\n",
      "/usr/local/lib/python3.6/site-packages/sklearn/svm/base.py:220: ConvergenceWarning: Solver terminated early (max_iter=100).  Consider pre-processing your data with StandardScaler or MinMaxScaler.\n",
      "  % self.max_iter, ConvergenceWarning)\n",
      "/usr/local/lib/python3.6/site-packages/sklearn/svm/base.py:220: ConvergenceWarning: Solver terminated early (max_iter=100).  Consider pre-processing your data with StandardScaler or MinMaxScaler.\n",
      "  % self.max_iter, ConvergenceWarning)\n",
      "/usr/local/lib/python3.6/site-packages/sklearn/svm/base.py:220: ConvergenceWarning: Solver terminated early (max_iter=100).  Consider pre-processing your data with StandardScaler or MinMaxScaler.\n",
      "  % self.max_iter, ConvergenceWarning)\n",
      "/usr/local/lib/python3.6/site-packages/sklearn/svm/base.py:220: ConvergenceWarning: Solver terminated early (max_iter=100).  Consider pre-processing your data with StandardScaler or MinMaxScaler.\n",
      "  % self.max_iter, ConvergenceWarning)\n",
      "/usr/local/lib/python3.6/site-packages/sklearn/svm/base.py:220: ConvergenceWarning: Solver terminated early (max_iter=100).  Consider pre-processing your data with StandardScaler or MinMaxScaler.\n",
      "  % self.max_iter, ConvergenceWarning)\n",
      "/usr/local/lib/python3.6/site-packages/sklearn/svm/base.py:220: ConvergenceWarning: Solver terminated early (max_iter=100).  Consider pre-processing your data with StandardScaler or MinMaxScaler.\n",
      "  % self.max_iter, ConvergenceWarning)\n",
      "/usr/local/lib/python3.6/site-packages/sklearn/svm/base.py:220: ConvergenceWarning: Solver terminated early (max_iter=100).  Consider pre-processing your data with StandardScaler or MinMaxScaler.\n",
      "  % self.max_iter, ConvergenceWarning)\n",
      "/usr/local/lib/python3.6/site-packages/sklearn/svm/base.py:220: ConvergenceWarning: Solver terminated early (max_iter=100).  Consider pre-processing your data with StandardScaler or MinMaxScaler.\n",
      "  % self.max_iter, ConvergenceWarning)\n",
      "/usr/local/lib/python3.6/site-packages/sklearn/svm/base.py:220: ConvergenceWarning: Solver terminated early (max_iter=100).  Consider pre-processing your data with StandardScaler or MinMaxScaler.\n",
      "  % self.max_iter, ConvergenceWarning)\n"
     ]
    }
   ],
   "source": [
    "from sklearn.svm import SVC\n",
    "from sklearn.model_selection import GridSearchCV\n",
    "from sklearn import datasets\n",
    "from sklearn.preprocessing import StandardScaler\n",
    "import numpy as np\n",
    "from pprint import PrettyPrinter\n",
    "\n",
    "def classify(x, y):\n",
    "    clf = GridSearchCV(SVC(random_state=42, max_iter=100), {'kernel': ['linear', 'poly', 'rbf'], 'C':[1, 10]})\n",
    "    clf.fit(x, y)\n",
    "    print(\"Accuracy: \", clf.score(x, y))\n",
    "    PrettyPrinter().pprint(clf.cv_results_)\n",
    "\n",
    "rain = np.load('rain.npy')\n",
    "dates = np.load('doy.npy')\n",
    "\n",
    "x = np.vstack((dates[:-1], rain[:-1]))\n",
    "y = np.sign(rain[1:])\n",
    "\n",
    "classify(x.T, y)\n",
    "\n",
    "#iris example\n",
    "iris = datasets.load_iris()\n",
    "x = iris.data[:, :2]\n",
    "y = iris.target\n",
    "classify(x, y)"
   ]
  },
  {
   "cell_type": "markdown",
   "metadata": {
    "deletable": true,
    "editable": true
   },
   "source": [
    "# ElasticNetCV"
   ]
  },
  {
   "cell_type": "code",
   "execution_count": 11,
   "metadata": {
    "collapsed": false,
    "deletable": true,
    "editable": true
   },
   "outputs": [
    {
     "name": "stdout",
     "output_type": "stream",
     "text": [
      "Score 0.0527838760942\n"
     ]
    },
    {
     "data": {
      "image/png": "[encoded data removed]",
      "text/plain": [
       "<matplotlib.figure.Figure at 0x10e603710>"
      ]
     },
     "metadata": {},
     "output_type": "display_data"
    },
    {
     "name": "stdout",
     "output_type": "stream",
     "text": [
      "Score 0.683143903455\n"
     ]
    },
    {
     "data": {
      "image/png": "[encoded data removed]",
      "text/plain": [
       "<matplotlib.figure.Figure at 0x10a480e80>"
      ]
     },
     "metadata": {},
     "output_type": "display_data"
    }
   ],
   "source": [
    "from sklearn.linear_model import ElasticNetCV\n",
    "import numpy as np\n",
    "from sklearn import datasets\n",
    "import matplotlib.pyplot as plt\n",
    "\n",
    "def regress(x, y, title):\n",
    "    clf = ElasticNetCV(max_iter=200, cv=10, l1_ratio = [.1, .5, \n",
    ".7, .9, .95, .99, 1])\n",
    "\n",
    "    clf.fit(x, y)\n",
    "    print(\"Score\", clf.score(x, y))\n",
    "\n",
    "    pred = clf.predict(x)\n",
    "    plt.title(\"Scatter plot of prediction and \" + title)\n",
    "    plt.xlabel(\"Prediction\")\n",
    "    plt.ylabel(\"Target\")\n",
    "    plt.scatter(y, pred)\n",
    "    # Show perfect fit line\n",
    "    if \"Boston\" in title:\n",
    "        plt.plot(y, y, label=\"Perfect Fit\")\n",
    "        plt.legend()\n",
    "\n",
    "    plt.grid(True)\n",
    "    plt.show()\n",
    "\n",
    "rain = .1 * np.load('rain.npy')\n",
    "rain[rain < 0] = .05/2\n",
    "dates = np.load('doy.npy')\n",
    "\n",
    "x = np.vstack((dates[:-1], rain[:-1]))\n",
    "y = rain[1:]\n",
    "regress(x.T, y, \"rain data\")\n",
    "\n",
    "boston = datasets.load_boston()\n",
    "x = boston.data\n",
    "y = boston.target\n",
    "regress(x, y, \"Boston house prices\")"
   ]
  },
  {
   "cell_type": "markdown",
   "metadata": {
    "deletable": true,
    "editable": true
   },
   "source": [
    "# Support Vector Regression"
   ]
  },
  {
   "cell_type": "code",
   "execution_count": 12,
   "metadata": {
    "collapsed": false,
    "deletable": true,
    "editable": true
   },
   "outputs": [
    {
     "name": "stderr",
     "output_type": "stream",
     "text": [
      "/usr/local/lib/python3.6/site-packages/sklearn/svm/base.py:220: ConvergenceWarning: Solver terminated early (max_iter=1600).  Consider pre-processing your data with StandardScaler or MinMaxScaler.\n",
      "  % self.max_iter, ConvergenceWarning)\n",
      "/usr/local/lib/python3.6/site-packages/sklearn/svm/base.py:220: ConvergenceWarning: Solver terminated early (max_iter=1600).  Consider pre-processing your data with StandardScaler or MinMaxScaler.\n",
      "  % self.max_iter, ConvergenceWarning)\n",
      "/usr/local/lib/python3.6/site-packages/sklearn/svm/base.py:220: ConvergenceWarning: Solver terminated early (max_iter=1600).  Consider pre-processing your data with StandardScaler or MinMaxScaler.\n",
      "  % self.max_iter, ConvergenceWarning)\n",
      "/usr/local/lib/python3.6/site-packages/sklearn/svm/base.py:220: ConvergenceWarning: Solver terminated early (max_iter=1600).  Consider pre-processing your data with StandardScaler or MinMaxScaler.\n",
      "  % self.max_iter, ConvergenceWarning)\n",
      "/usr/local/lib/python3.6/site-packages/sklearn/svm/base.py:220: ConvergenceWarning: Solver terminated early (max_iter=1600).  Consider pre-processing your data with StandardScaler or MinMaxScaler.\n",
      "  % self.max_iter, ConvergenceWarning)\n",
      "/usr/local/lib/python3.6/site-packages/sklearn/svm/base.py:220: ConvergenceWarning: Solver terminated early (max_iter=1600).  Consider pre-processing your data with StandardScaler or MinMaxScaler.\n",
      "  % self.max_iter, ConvergenceWarning)\n",
      "/usr/local/lib/python3.6/site-packages/sklearn/svm/base.py:220: ConvergenceWarning: Solver terminated early (max_iter=1600).  Consider pre-processing your data with StandardScaler or MinMaxScaler.\n",
      "  % self.max_iter, ConvergenceWarning)\n",
      "/usr/local/lib/python3.6/site-packages/sklearn/svm/base.py:220: ConvergenceWarning: Solver terminated early (max_iter=1600).  Consider pre-processing your data with StandardScaler or MinMaxScaler.\n",
      "  % self.max_iter, ConvergenceWarning)\n"
     ]
    },
    {
     "name": "stdout",
     "output_type": "stream",
     "text": [
      "Max test score Rain 0.0161004084576\n"
     ]
    },
    {
     "data": {
      "image/png": "[encoded data removed]",
      "text/plain": [
       "<matplotlib.figure.Figure at 0x10d938c50>"
      ]
     },
     "metadata": {},
     "output_type": "display_data"
    },
    {
     "name": "stdout",
     "output_type": "stream",
     "text": [
      "Max test score Boston 0.662188537037\n"
     ]
    },
    {
     "data": {
      "image/png": "[encoded data removed]",
      "text/plain": [
       "<matplotlib.figure.Figure at 0x108d69860>"
      ]
     },
     "metadata": {},
     "output_type": "display_data"
    }
   ],
   "source": [
    "import numpy as np\n",
    "from sklearn import datasets\n",
    "from sklearn.model_selection import learning_curve\n",
    "from sklearn.svm import SVR\n",
    "from sklearn import preprocessing\n",
    "import multiprocessing\n",
    "import matplotlib.pyplot as plt\n",
    "\n",
    "def regress(x, y, ncpus, title):\n",
    "    X = preprocessing.scale(x)\n",
    "    Y = preprocessing.scale(y)\n",
    "    clf = SVR(max_iter=ncpus * 200)\n",
    "\n",
    "    train_sizes, train_scores, test_scores = learning_curve(clf, X, Y, n_jobs=ncpus) \n",
    "\n",
    "    plt.figure()\n",
    "    plt.title(title)\n",
    "    plt.plot(train_sizes, train_scores.mean(axis=1), label=\"Train score\")\n",
    "    plt.plot(train_sizes, test_scores.mean(axis=1), '--', label=\"Test score\")\n",
    "    print(\"Max test score \" + title, test_scores.max())\n",
    "    plt.grid(True)\n",
    "    plt.legend(loc='best')\n",
    "    plt.show()\n",
    "\n",
    "rain = .1 * np.load('rain.npy')\n",
    "rain[rain < 0] = .05/2\n",
    "dates = np.load('doy.npy')\n",
    "\n",
    "x = np.vstack((dates[:-1], rain[:-1]))\n",
    "y = rain[1:]\n",
    "ncpus = multiprocessing.cpu_count()\n",
    "regress(x.T, y, ncpus, \"Rain\")\n",
    "\n",
    "boston = datasets.load_boston()\n",
    "x = boston.data\n",
    "y = boston.target\n",
    "regress(x, y, ncpus, \"Boston\")"
   ]
  },
  {
   "cell_type": "markdown",
   "metadata": {
    "deletable": true,
    "editable": true
   },
   "source": [
    "# Clustering with affinity propagation"
   ]
  },
  {
   "cell_type": "code",
   "execution_count": 13,
   "metadata": {
    "collapsed": false,
    "deletable": true,
    "editable": true
   },
   "outputs": [
    {
     "name": "stdout",
     "output_type": "stream",
     "text": [
      "0\n",
      "1\n",
      "2\n"
     ]
    },
    {
     "data": {
      "image/png": "[encoded data removed]",
      "text/plain": [
       "<matplotlib.figure.Figure at 0x10aa33400>"
      ]
     },
     "metadata": {},
     "output_type": "display_data"
    }
   ],
   "source": [
    "from sklearn import datasets\n",
    "from sklearn import cluster\n",
    "import numpy as np\n",
    "import matplotlib.pyplot as plt\n",
    "from sklearn.metrics import euclidean_distances\n",
    "\n",
    "x, _ = datasets.make_blobs(n_samples=100, centers=3, n_features=2, \n",
    "random_state=10)\n",
    "S = euclidean_distances(x)\n",
    "\n",
    "aff_pro = cluster.AffinityPropagation().fit(S)\n",
    "labels = aff_pro.labels_\n",
    "\n",
    "styles = ['o', 'x', '^']\n",
    "\n",
    "for style, label in zip(styles, np.unique(labels)):\n",
    "   print(label)\n",
    "   plt.plot(x[labels == label], style, label=label)\n",
    "plt.title(\"Clustering Blobs\")\n",
    "plt.grid(True)\n",
    "plt.legend(loc='best')\n",
    "plt.show()"
   ]
  },
  {
   "cell_type": "markdown",
   "metadata": {
    "deletable": true,
    "editable": true
   },
   "source": [
    "# Mean Shift"
   ]
  },
  {
   "cell_type": "code",
   "execution_count": 14,
   "metadata": {
    "collapsed": false,
    "deletable": true,
    "editable": true
   },
   "outputs": [
    {
     "data": {
      "image/png": "[encoded data removed]",
      "text/plain": [
       "<matplotlib.figure.Figure at 0x1117ebc88>"
      ]
     },
     "metadata": {},
     "output_type": "display_data"
    },
    {
     "data": {
      "image/png": "[encoded data removed]",
      "text/plain": [
       "<matplotlib.figure.Figure at 0x10e1f0080>"
      ]
     },
     "metadata": {},
     "output_type": "display_data"
    }
   ],
   "source": [
    "import numpy as np\n",
    "from sklearn import cluster\n",
    "import matplotlib.pyplot as plt\n",
    "import pandas as pd\n",
    "\n",
    "rain = .1 * np.load('rain.npy')\n",
    "rain[rain < 0] = .05/2\n",
    "dates = np.load('doy.npy')\n",
    "x = np.vstack((dates, rain))\n",
    "df = pd.DataFrame.from_records(x.T, columns=['dates', 'rain'])\n",
    "df = df.groupby('dates').mean()\n",
    "df.plot()\n",
    "x = np.vstack((np.arange(1, len(df) + 1) , \n",
    "df.as_matrix().ravel()))\n",
    "x = x.T\n",
    "ms = cluster.MeanShift()\n",
    "ms.fit(x)\n",
    "labels = ms.predict(x)\n",
    "\n",
    "plt.figure()\n",
    "grays = ['0', '0.5', '0.75']\n",
    "\n",
    "for gray, label in zip(grays, np.unique(labels)):\n",
    "    match = labels == label\n",
    "    x0 = x[:, 0]\n",
    "    x1 = x[:, 1]\n",
    "    plt.plot(x0[match], x1[match], lw=label+1, label=label)\n",
    "    plt.fill_between(x0, x1, where=match, color=gray)\n",
    "\n",
    "plt.grid(True)\n",
    "plt.legend()\n",
    "plt.show()"
   ]
  },
  {
   "cell_type": "markdown",
   "metadata": {
    "deletable": true,
    "editable": true
   },
   "source": [
    "# Genetic Algorithms"
   ]
  },
  {
   "cell_type": "code",
   "execution_count": 15,
   "metadata": {
    "collapsed": false,
    "deletable": true,
    "editable": true
   },
   "outputs": [
    {
     "name": "stdout",
     "output_type": "stream",
     "text": [
      "gen\tnevals\tmax        \n",
      "0  \t400   \t0.000484774\n",
      "1  \t222   \t0.000656187\n",
      "2  \t246   \t0.00745961 \n",
      "3  \t239   \t0.00745961 \n",
      "4  \t240   \t0.0184182  \n",
      "5  \t216   \t0.0309736  \n",
      "6  \t237   \t0.06957    \n",
      "7  \t243   \t0.06957    \n",
      "8  \t231   \t0.224381   \n",
      "9  \t226   \t0.224381   \n",
      "10 \t247   \t0.224381   \n",
      "11 \t228   \t0.247313   \n",
      "12 \t241   \t0.28318    \n",
      "13 \t242   \t0.354144   \n",
      "14 \t246   \t0.46282    \n",
      "15 \t239   \t0.46282    \n",
      "16 \t266   \t0.480937   \n",
      "17 \t233   \t0.648529   \n",
      "18 \t266   \t0.703452   \n",
      "19 \t229   \t0.742139   \n",
      "20 \t249   \t0.791523   \n",
      "21 \t227   \t0.795744   \n",
      "22 \t241   \t0.856505   \n",
      "23 \t237   \t0.898701   \n",
      "24 \t242   \t0.949595   \n",
      "25 \t237   \t0.949595   \n",
      "26 \t249   \t0.950638   \n",
      "27 \t245   \t0.961397   \n",
      "28 \t226   \t0.974227   \n",
      "29 \t235   \t0.974227   \n",
      "30 \t239   \t0.99192    \n",
      "31 \t225   \t0.99192    \n",
      "32 \t252   \t0.99192    \n",
      "33 \t255   \t0.992183   \n",
      "34 \t234   \t0.995053   \n",
      "35 \t250   \t0.995053   \n",
      "36 \t228   \t0.995053   \n",
      "37 \t252   \t0.995466   \n",
      "38 \t228   \t0.996523   \n",
      "39 \t265   \t0.996992   \n",
      "40 \t221   \t0.99771    \n",
      "41 \t238   \t0.998339   \n",
      "42 \t248   \t0.997815   \n",
      "43 \t226   \t0.998156   \n",
      "44 \t236   \t0.998442   \n",
      "45 \t257   \t0.998442   \n",
      "46 \t247   \t0.998485   \n",
      "47 \t227   \t0.998564   \n",
      "48 \t243   \t0.998564   \n",
      "49 \t242   \t0.998692   \n",
      "50 \t237   \t0.998692   \n",
      "51 \t233   \t0.998692   \n",
      "52 \t240   \t0.998692   \n",
      "53 \t252   \t0.998692   \n",
      "54 \t245   \t0.998713   \n",
      "55 \t245   \t0.998713   \n",
      "56 \t239   \t0.998713   \n",
      "57 \t220   \t0.998713   \n",
      "58 \t239   \t0.998782   \n",
      "59 \t247   \t0.998838   \n",
      "60 \t238   \t0.998838   \n",
      "61 \t235   \t0.998838   \n",
      "62 \t248   \t0.998861   \n",
      "63 \t236   \t0.998861   \n",
      "64 \t240   \t0.998861   \n",
      "65 \t210   \t0.998861   \n",
      "66 \t240   \t0.998861   \n",
      "67 \t217   \t0.998861   \n",
      "68 \t239   \t0.998861   \n",
      "69 \t255   \t0.998861   \n",
      "70 \t228   \t0.998861   \n",
      "71 \t254   \t0.998861   \n",
      "72 \t211   \t0.998861   \n",
      "73 \t252   \t0.998861   \n",
      "74 \t250   \t0.998861   \n",
      "75 \t231   \t0.998861   \n",
      "76 \t230   \t0.998861   \n",
      "77 \t252   \t0.998861   \n",
      "78 \t232   \t0.998861   \n",
      "79 \t243   \t0.998861   \n",
      "80 \t235   \t0.998861   \n",
      "0.9988605380058289\n"
     ]
    },
    {
     "data": {
      "image/png": "[encoded data removed]",
      "text/plain": [
       "<matplotlib.figure.Figure at 0x10a45b828>"
      ]
     },
     "metadata": {},
     "output_type": "display_data"
    }
   ],
   "source": [
    "import array\n",
    "import random\n",
    "import numpy as np\n",
    "from deap import algorithms\n",
    "from deap import base\n",
    "from deap import creator\n",
    "from deap import tools\n",
    "from scipy.stats import shapiro\n",
    "import matplotlib.pyplot as plt\n",
    "\n",
    "creator.create(\"FitnessMax\", base.Fitness, weights=(1.0,))\n",
    "creator.create(\"Individual\", array.array, typecode='d', \n",
    "fitness=creator.FitnessMax)\n",
    "\n",
    "toolbox = base.Toolbox()\n",
    "toolbox.register(\"attr_float\", random.random)\n",
    "toolbox.register(\"individual\", tools.initRepeat, \n",
    "creator.Individual, toolbox.attr_float, 200)\n",
    "toolbox.register(\"populate\", tools.initRepeat, list, \n",
    "toolbox.individual)\n",
    "\n",
    "def eval(individual):\n",
    "    return shapiro(individual)[1],\n",
    "\n",
    "toolbox.register(\"evaluate\", eval)\n",
    "toolbox.register(\"mate\", tools.cxTwoPoint)\n",
    "toolbox.register(\"mutate\", tools.mutFlipBit, indpb=0.1)\n",
    "toolbox.register(\"select\", tools.selTournament, tournsize=4)\n",
    "\n",
    "random.seed(42)\n",
    "\n",
    "pop = toolbox.populate(n=400)\n",
    "hof = tools.HallOfFame(1)\n",
    "stats = tools.Statistics(key=lambda ind: ind.fitness.values)\n",
    "stats.register(\"max\", np.max)\n",
    "\n",
    "algorithms.eaSimple(pop, toolbox, cxpb=0.5, mutpb=0.2, ngen=80, \n",
    "stats=stats, halloffame=hof)\n",
    "\n",
    "print(shapiro(hof[0])[1])\n",
    "plt.hist(hof[0])\n",
    "plt.grid(True)\n",
    "plt.show()"
   ]
  },
  {
   "cell_type": "markdown",
   "metadata": {
    "deletable": true,
    "editable": true
   },
   "source": [
    "# Neural Networks"
   ]
  },
  {
   "cell_type": "code",
   "execution_count": 21,
   "metadata": {
    "collapsed": false,
    "deletable": true,
    "editable": true
   },
   "outputs": [
    {
     "name": "stdout",
     "output_type": "stream",
     "text": [
      "valid: 123 of 123 mini-batches from (3914, 2); (3914, 1)\n",
      "train: 1101 of 1101 mini-batches from (35224, 2); (35224, 1)\n",
      "downhill: compiling evaluation function\n",
      "downhill: compiling RMSProp optimizer\n",
      "downhill: setting: rms_halflife = 14\n",
      "downhill: setting: rms_regularizer = 1e-08\n",
      "downhill: setting: patience = 5\n",
      "downhill: setting: validate_every = 10\n",
      "downhill: setting: min_improvement = 0\n",
      "downhill: setting: max_gradient_norm = 0\n",
      "downhill: setting: max_gradient_elem = 0\n",
      "downhill: setting: learning_rate = TensorConstant{0.1}\n",
      "downhill: setting: momentum = 0.5\n",
      "downhill: setting: nesterov = False\n",
      "downhill: validation 0 loss=741.151743 err=741.151743 *\n",
      "downhill: RMSProp 1 loss=2.490063 err=2.490063\n",
      "downhill: RMSProp 2 loss=0.249579 err=0.249579\n",
      "downhill: RMSProp 3 loss=0.248656 err=0.248656\n",
      "downhill: RMSProp 4 loss=0.248448 err=0.248448\n",
      "downhill: RMSProp 5 loss=0.248515 err=0.248515\n",
      "downhill: RMSProp 6 loss=0.249165 err=0.249165\n",
      "downhill: RMSProp 7 loss=0.249624 err=0.249624\n",
      "downhill: RMSProp 8 loss=0.249967 err=0.249967\n",
      "downhill: RMSProp 9 loss=0.248360 err=0.248360\n",
      "downhill: RMSProp 10 loss=0.250813 err=0.250813\n",
      "downhill: validation 1 loss=0.265189 err=0.265189 *\n",
      "downhill: RMSProp 11 loss=0.250412 err=0.250412\n",
      "downhill: RMSProp 12 loss=0.249159 err=0.249159\n",
      "downhill: RMSProp 13 loss=0.250426 err=0.250426\n",
      "downhill: RMSProp 14 loss=0.250178 err=0.250178\n",
      "downhill: RMSProp 15 loss=0.249974 err=0.249974\n",
      "downhill: RMSProp 16 loss=0.250671 err=0.250671\n",
      "downhill: RMSProp 17 loss=0.249508 err=0.249508\n",
      "downhill: RMSProp 18 loss=0.248761 err=0.248761\n",
      "downhill: RMSProp 19 loss=0.250206 err=0.250206\n",
      "downhill: RMSProp 20 loss=0.250394 err=0.250394\n",
      "downhill: validation 2 loss=0.233982 err=0.233982 *\n",
      "downhill: RMSProp 21 loss=0.249546 err=0.249546\n",
      "downhill: RMSProp 22 loss=0.249527 err=0.249527\n",
      "downhill: RMSProp 23 loss=0.248931 err=0.248931\n",
      "downhill: RMSProp 24 loss=0.250136 err=0.250136\n",
      "downhill: RMSProp 25 loss=0.249907 err=0.249907\n",
      "downhill: RMSProp 26 loss=0.248914 err=0.248914\n",
      "downhill: RMSProp 27 loss=0.250283 err=0.250283\n",
      "downhill: RMSProp 28 loss=0.250382 err=0.250382\n",
      "downhill: RMSProp 29 loss=0.248575 err=0.248575\n",
      "downhill: RMSProp 30 loss=0.248520 err=0.248520\n",
      "downhill: validation 3 loss=0.232912 err=0.232912 *\n",
      "downhill: RMSProp 31 loss=0.249068 err=0.249068\n",
      "downhill: RMSProp 32 loss=0.249765 err=0.249765\n",
      "downhill: RMSProp 33 loss=0.248714 err=0.248714\n",
      "downhill: RMSProp 34 loss=0.249458 err=0.249458\n",
      "downhill: RMSProp 35 loss=0.249855 err=0.249855\n",
      "downhill: RMSProp 36 loss=0.249429 err=0.249429\n",
      "downhill: RMSProp 37 loss=0.250945 err=0.250945\n",
      "downhill: RMSProp 38 loss=0.248329 err=0.248329\n",
      "downhill: RMSProp 39 loss=0.248374 err=0.248374\n",
      "downhill: RMSProp 40 loss=0.248886 err=0.248886\n",
      "downhill: validation 4 loss=0.263157 err=0.263157\n",
      "downhill: RMSProp 41 loss=0.251174 err=0.251174\n",
      "downhill: RMSProp 42 loss=0.247362 err=0.247362\n",
      "downhill: RMSProp 43 loss=0.249332 err=0.249332\n",
      "downhill: RMSProp 44 loss=0.248878 err=0.248878\n",
      "downhill: RMSProp 45 loss=0.249779 err=0.249779\n",
      "downhill: RMSProp 46 loss=0.249486 err=0.249486\n",
      "downhill: RMSProp 47 loss=0.249563 err=0.249563\n",
      "downhill: RMSProp 48 loss=0.250173 err=0.250173\n",
      "downhill: RMSProp 49 loss=0.249325 err=0.249325\n",
      "downhill: RMSProp 50 loss=0.249350 err=0.249350\n",
      "downhill: validation 5 loss=0.259403 err=0.259403\n",
      "downhill: RMSProp 51 loss=0.249385 err=0.249385\n",
      "downhill: RMSProp 52 loss=0.250374 err=0.250374\n",
      "downhill: RMSProp 53 loss=0.249644 err=0.249644\n",
      "downhill: RMSProp 54 loss=0.250291 err=0.250291\n",
      "downhill: RMSProp 55 loss=0.250001 err=0.250001\n",
      "downhill: RMSProp 56 loss=0.250063 err=0.250063\n",
      "downhill: RMSProp 57 loss=0.248775 err=0.248775\n",
      "downhill: RMSProp 58 loss=0.247880 err=0.247880\n",
      "downhill: RMSProp 59 loss=0.249729 err=0.249729\n",
      "downhill: RMSProp 60 loss=0.251369 err=0.251369\n",
      "downhill: validation 6 loss=0.251588 err=0.251588\n",
      "downhill: RMSProp 61 loss=0.250031 err=0.250031\n",
      "downhill: RMSProp 62 loss=0.249725 err=0.249725\n",
      "downhill: RMSProp 63 loss=0.249911 err=0.249911\n",
      "downhill: RMSProp 64 loss=0.249366 err=0.249366\n",
      "downhill: RMSProp 65 loss=0.248589 err=0.248589\n",
      "downhill: RMSProp 66 loss=0.249563 err=0.249563\n",
      "downhill: RMSProp 67 loss=0.249053 err=0.249053\n",
      "downhill: RMSProp 68 loss=0.249965 err=0.249965\n",
      "downhill: RMSProp 69 loss=0.249520 err=0.249520\n",
      "downhill: RMSProp 70 loss=0.249628 err=0.249628\n",
      "downhill: validation 7 loss=0.233803 err=0.233803\n",
      "downhill: RMSProp 71 loss=0.249909 err=0.249909\n",
      "downhill: RMSProp 72 loss=0.248778 err=0.248778\n",
      "downhill: RMSProp 73 loss=0.250407 err=0.250407\n",
      "downhill: RMSProp 74 loss=0.248624 err=0.248624\n",
      "downhill: RMSProp 75 loss=0.248922 err=0.248922\n",
      "downhill: RMSProp 76 loss=0.248925 err=0.248925\n",
      "downhill: RMSProp 77 loss=0.249424 err=0.249424\n",
      "downhill: RMSProp 78 loss=0.249751 err=0.249751\n",
      "downhill: RMSProp 79 loss=0.249629 err=0.249629\n",
      "downhill: RMSProp 80 loss=0.249708 err=0.249708\n",
      "downhill: validation 8 loss=0.251428 err=0.251428\n",
      "downhill: RMSProp 81 loss=0.250006 err=0.250006\n",
      "downhill: RMSProp 82 loss=0.248250 err=0.248250\n",
      "downhill: RMSProp 83 loss=0.249399 err=0.249399\n",
      "downhill: RMSProp 84 loss=0.250007 err=0.250007\n",
      "downhill: RMSProp 85 loss=0.251554 err=0.251554\n",
      "downhill: RMSProp 86 loss=0.250105 err=0.250105\n",
      "downhill: RMSProp 87 loss=0.249536 err=0.249536\n",
      "downhill: RMSProp 88 loss=0.250880 err=0.250880\n",
      "downhill: RMSProp 89 loss=0.248785 err=0.248785\n",
      "downhill: RMSProp 90 loss=0.249036 err=0.249036\n",
      "downhill: validation 9 loss=0.239324 err=0.239324\n",
      "downhill: patience elapsed!\n",
      "Pred Min 0.615606596762 Max 0.615606596762\n",
      "Y Min 0.0 Max 1.0\n",
      "Accuracy 0.634133878385\n"
     ]
    }
   ],
   "source": [
    "import numpy as np\n",
    "import theanets\n",
    "import multiprocessing\n",
    "from sklearn import datasets\n",
    "from sklearn.metrics import accuracy_score\n",
    "\n",
    "rain = .1 * np.load('rain.npy')\n",
    "rain[rain < 0] = .05/2\n",
    "dates = np.load('doy.npy')\n",
    "x = np.vstack((dates[:-1], np.sign(rain[:-1])))\n",
    "x = x.T\n",
    "\n",
    "y = np.vstack(np.sign(rain[1:]),)\n",
    "N = int(.9 * len(x))\n",
    "\n",
    "train = [x[:N], y[:N]]\n",
    "valid = [x[N:], y[N:]]\n",
    "\n",
    "net = theanets.Regressor(layers=[2,3,1])\n",
    "\n",
    "net.train(train,valid,learning_rate=0.1,momentum=0.5)\n",
    "\n",
    "pred = net.predict(x[N:]).ravel()\n",
    "print(\"Pred Min\", pred.min(), \"Max\", pred.max())\n",
    "print(\"Y Min\", y.min(), \"Max\", y.max())\n",
    "print(\"Accuracy\", accuracy_score(y[N:], pred >= .5))"
   ]
  },
  {
   "cell_type": "markdown",
   "metadata": {
    "deletable": true,
    "editable": true
   },
   "source": [
    "# Decision Trees"
   ]
  },
  {
   "cell_type": "code",
   "execution_count": 22,
   "metadata": {
    "collapsed": false,
    "deletable": true,
    "editable": true
   },
   "outputs": [
    {
     "name": "stdout",
     "output_type": "stream",
     "text": [
      "Written figure to /var/folders/q6/82ch7xnx3bsbm2ww5dddlj2r0000gn/T/rainzt82s_g_.png\n",
      "Best Train Score 0.703164923517\n",
      "Test Score 0.705058763413\n",
      "Best params {'criterion': 'entropy', 'max_depth': 2, 'min_samples_leaf': 1}\n"
     ]
    }
   ],
   "source": [
    "from sklearn.model_selection import train_test_split\n",
    "from sklearn import tree\n",
    "from sklearn.model_selection import RandomizedSearchCV\n",
    "from scipy.stats import randint as sp_randint\n",
    "import pydotplus as pydot\n",
    "import io\n",
    "import numpy as np\n",
    "from tempfile import NamedTemporaryFile\n",
    "\n",
    "rain = .1 * np.load('rain.npy')\n",
    "rain[rain < 0] = .05/2\n",
    "dates = np.load('doy.npy').astype(int)\n",
    "x = np.vstack((dates[:-1], np.sign(rain[:-1])))\n",
    "x = x.T\n",
    "\n",
    "y = np.sign(rain[1:])\n",
    "\n",
    "x_train, x_test, y_train, y_test = train_test_split(x, y, \n",
    "random_state=37)\n",
    "\n",
    "clf = tree.DecisionTreeClassifier(random_state=37)\n",
    "params = {\"max_depth\": [2, None],\n",
    "              \"min_samples_leaf\": sp_randint(1, 5),\n",
    "              \"criterion\": [\"gini\", \"entropy\"]}\n",
    "rscv = RandomizedSearchCV(clf, params)\n",
    "rscv.fit(x_train,y_train)\n",
    "\n",
    "sio = io.StringIO()\n",
    "tree.export_graphviz(rscv.best_estimator_, out_file=sio, \n",
    "feature_names=['day-of-year','yest'])\n",
    "dec_tree = pydot.graph_from_dot_data(sio.getvalue())\n",
    "\n",
    "with NamedTemporaryFile(prefix='rain', suffix='.png', \n",
    "delete=False) as f:\n",
    "    dec_tree.write_png(f.name)\n",
    "    print(\"Written figure to\", f.name)\n",
    "\n",
    "print(\"Best Train Score\", rscv.best_score_)\n",
    "print(\"Test Score\", rscv.score(x_test, y_test))\n",
    "print(\"Best params\", rscv.best_params_)"
   ]
  },
  {
   "cell_type": "code",
   "execution_count": null,
   "metadata": {
    "collapsed": true,
    "deletable": true,
    "editable": true
   },
   "outputs": [],
   "source": []
  }
 ],
 "metadata": {
  "kernelspec": {
   "display_name": "Python 3",
   "language": "python",
   "name": "python3"
  },
  "language_info": {
   "codemirror_mode": {
    "name": "ipython",
    "version": 3
   },
   "file_extension": ".py",
   "mimetype": "text/x-python",
   "name": "python",
   "nbconvert_exporter": "python",
   "pygments_lexer": "ipython3",
   "version": "3.6.0"
  }
 },
 "nbformat": 4,
 "nbformat_minor": 2
}
